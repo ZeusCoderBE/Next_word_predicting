{
 "cells": [
  {
   "cell_type": "markdown",
   "metadata": {},
   "source": [
    "## 1. Import Library "
   ]
  },
  {
   "cell_type": "code",
   "execution_count": 1,
   "metadata": {},
   "outputs": [],
   "source": [
    "from tensorflow.keras.models import Sequential\n",
    "from tensorflow.keras.layers import Embedding, SimpleRNN, Dense,Dropout\n",
    "from tensorflow.keras.preprocessing.text import Tokenizer\n",
    "from tensorflow.keras.preprocessing.sequence import pad_sequences\n",
    "from keras.models import load_model\n",
    "import matplotlib.pyplot as plt\n",
    "from sklearn.manifold import TSNE\n",
    "from tensorflow.keras.utils import plot_model\n",
    "from tensorflow.keras.callbacks import EarlyStopping\n",
    "from sklearn.metrics  import accuracy_score,f1_score,precision_score,recall_score\n",
    "from keras.utils import to_categorical\n",
    "import numpy as np\n",
    "from pyvi import ViTokenizer\n",
    "import regex as re\n",
    "import string\n",
    "import pandas as pd\n",
    "np.set_printoptions(threshold=np.inf)"
   ]
  },
  {
   "cell_type": "markdown",
   "metadata": {},
   "source": [
    "## 2. Data Proprocesing"
   ]
  },
  {
   "cell_type": "markdown",
   "metadata": {},
   "source": [
    "#### 2.1. Read the file and divide it into sentences"
   ]
  },
  {
   "cell_type": "code",
   "execution_count": 2,
   "metadata": {},
   "outputs": [],
   "source": [
    "def ReadData(path):\n",
    "    df=pd.read_csv(path,encoding='utf-8')\n",
    "    return df['Regulation Content'][150:264]"
   ]
  },
  {
   "cell_type": "markdown",
   "metadata": {},
   "source": [
    "> Execute Function"
   ]
  },
  {
   "cell_type": "code",
   "execution_count": 3,
   "metadata": {},
   "outputs": [],
   "source": [
    "text_data = ReadData(\"../data/land_law.csv\")"
   ]
  },
  {
   "cell_type": "code",
   "execution_count": 4,
   "metadata": {},
   "outputs": [
    {
     "data": {
      "text/plain": [
       "(113,)"
      ]
     },
     "execution_count": 4,
     "metadata": {},
     "output_type": "execute_result"
    }
   ],
   "source": [
    "text_data.shape"
   ]
  },
  {
   "cell_type": "markdown",
   "metadata": {},
   "source": [
    "### 2.2.Handle extra whitespace,line breaks, punctuation"
   ]
  },
  {
   "cell_type": "code",
   "execution_count": 5,
   "metadata": {},
   "outputs": [],
   "source": [
    "def clear(sentence):\n",
    "  # Create a translation table\n",
    "  translator = str.maketrans('', '', string.punctuation)\n",
    "  # Remove punctuation\n",
    "  new_string = sentence.translate(translator)\n",
    "  # Remove redudant space and break sign\n",
    "  new_string = re.sub('[\\n ]+', ' ', new_string)\n",
    "  return new_string"
   ]
  },
  {
   "cell_type": "markdown",
   "metadata": {},
   "source": [
    "> Execute Function"
   ]
  },
  {
   "cell_type": "code",
   "execution_count": 6,
   "metadata": {},
   "outputs": [
    {
     "data": {
      "text/plain": [
       "['1 Người sử dụng đất\\r không được cấp Giấy chứng nhận quyền sử dụng đất quyền sở hữu tài sản gắn\\r liền với đất trong các trường hợp sau đây a Đất nông nghiệp\\r sử dụng vào mục đích công ích theo quy định tại Điều 179 của\\r Luật này b Đất được giao để\\r quản lý thuộc các trường hợp quy định tại Điều 7 của Luật này\\r trừ trường hợp đất được giao sử dụng chung với đất được giao để quản lý thì được\\r cấp Giấy chứng nhận quyền sử dụng đất quyền sở hữu tài sản gắn liền với\\r đất đối với phần diện tích đất sử dụng theo quyết định giao đất\\r cho thuê đất của cơ quan nhà nước có thẩm quyền c Đất thuê thuê\\r lại của người sử dụng đất trừ trường hợp thuê thuê lại đất của chủ đầu tư xây\\r dựng kinh doanh kết cấu hạ tầng phù hợp với dự án đầu tư đã được cơ quan có thẩm\\r quyền phê duyệt d Đất nhận khoán\\r trừ trường hợp được công nhận quyền sử dụng đất tại điểm a khoản\\r 2 Điều 181 của Luật này đ Đất đã có quyết\\r định thu hồi đất của cơ quan nhà nước có thẩm quyền trừ trường hợp đã quá 03\\r năm kể từ thời điểm có quyết định thu hồi đất mà không thực hiện e Đất đang có\\r tranh chấp đang bị kê biên áp dụng biện pháp khác để bảo đảm thi hành án theo\\r quy định của pháp luật về thi hành án dân sự quyền sử dụng đất đang bị\\r áp dụng biện pháp khẩn cấp tạm thời theo quy định của pháp luật g Tổ chức được\\r Nhà nước giao đất không thu tiền sử dụng đất để sử dụng vào mục đích công cộng\\r không nhằm mục đích kinh doanh 2 Các tài sản\\r gắn liền với đất không được cấp Giấy chứng nhận quyền sử dụng đất quyền sở hữu\\r tài sản gắn liền với đất trong trường hợp sau đây a Tài sản gắn liền với đất mà\\r thửa đất có tài sản đó thuộc trường hợp không cấp Giấy chứng nhận quyền sử dụng\\r đất quyền sở hữu tài sản gắn liền với đất quy định tại khoản 1 Điều này hoặc\\r không đủ điều kiện cấp Giấy chứng nhận quyền sử dụng đất quyền sở hữu tài sản\\r gắn liền với đất b Nhà ở hoặc công trình xây dựng\\r được xây dựng tạm thời trong thời gian xây dựng công trình chính hoặc xây dựng\\r tạm thời bằng vật liệu tranh tre nứa lá đất công trình phụ trợ nằm ngoài\\r phạm vi công trình chính và để phục vụ cho việc quản lý sử dụng vận hành công\\r trình chính c Tài sản gắn liền với đất đã\\r có thông báo hoặc quyết định giải tỏa hoặc đã có quyết định thu hồi đất của cơ\\r quan nhà nước có thẩm quyền trừ trường hợp đã quá 03 năm kể từ thời điểm có\\r các thông báo quyết định này mà không thực hiện d Nhà ở công trình được xây dựng\\r sau thời điểm công bố cấm xây dựng xây dựng lấn chiếm mốc giới bảo vệ các\\r công trình hạ tầng kỹ thuật di tích lịch sử văn hóa đã xếp hạng tài sản gắn\\r liền với đất được tạo lập từ sau thời điểm quy hoạch được cơ quan có thẩm quyền\\r phê duyệt mà tài sản được tạo lập đó không phù hợp với quy hoạch được duyệt tại\\r thời điểm cấp Giấy chứng nhận quyền sử dụng đất quyền sở hữu tài sản gắn liền\\r với đất trừ trường hợp chủ sở hữu nhà ở công trình xây dựng không phải là nhà\\r ở theo quy định tại Điều 148 và Điều 149 của Luật này có\\r giấy phép xây dựng có thời hạn theo quy định của pháp luật về xây dựng đ Tài sản thuộc sở hữu của Nhà\\r nước trừ trường hợp tài sản đã được xác định là phần vốn của Nhà nước đóng góp\\r vào doanh nghiệp theo hướng dẫn của Bộ Tài chính e Tài sản gắn liền với đất\\r không thuộc trường hợp quy định tại Điều 148 và Điều 149 của\\r Luật này',\n",
       " '1 Cơ quan có thẩm quyền cấp Giấy\\r chứng nhận quyền sử dụng đất quyền sở hữu tài sản gắn liền với đất quy định tại\\r Điều 136 của Luật này có trách nhiệm đính chính giấy chứng\\r nhận đã cấp có sai sót trong các trường hợp sau đây a Có sai sót thông tin của người\\r được cấp giấy chứng nhận so với thông tin tại thời điểm đính chính b Có sai sót thông tin về thửa\\r đất tài sản gắn liền với đất so với hồ sơ kê khai đăng ký đất đai tài sản gắn\\r liền với đất đã được tổ chức đăng ký đất đai kiểm tra xác nhận hoặc\\r được thể hiện trong văn bản có hiệu lực của cơ quan nhà nước có thẩm quyền về\\r giải quyết tranh chấp đất đai 2 Nhà nước thu hồi giấy chứng\\r nhận đã cấp trong các trường hợp sau đây a Nhà nước thu hồi toàn bộ diện\\r tích đất ghi trong Giấy chứng nhận quyền sử dụng đất Giấy chứng\\r nhận quyền sở hữu nhà ở và quyền sử dụng đất ở Giấy chứng nhận quyền sở hữu\\r nhà ở Giấy chứng nhận quyền sở hữu công trình xây dựng Giấy chứng nhận\\r quyền sử dụng đất quyền sở hữu nhà ở và tài sản khác gắn liền với đất Giấy chứng\\r nhận quyền sử dụng đất quyền sở hữu tài sản gắn liền với đất đã cấp b Cấp đổi Giấy chứng\\r nhận quyền sử dụng đất Giấy chứng nhận quyền sở hữu nhà ở và quyền sử dụng đất\\r ở Giấy chứng nhận quyền sở hữu nhà ở Giấy chứng nhận quyền sở hữu công trình\\r xây dựng Giấy chứng nhận quyền sử dụng đất quyền sở hữu nhà ở và tài sản\\r khác gắn liền với đất Giấy chứng nhận quyền sử dụng đất quyền sở hữu tài sản gắn\\r liền với đất đã cấp c Người sử dụng đất chủ sở hữu\\r tài sản gắn liền với đất đăng ký biến động đất đai tài sản gắn liền với đất mà\\r phải cấp mới Giấy chứng nhận quyền sử dụng đất quyền sở hữu tài sản gắn liền với\\r đất d Giấy chứng nhận đã cấp không\\r đúng thẩm quyền không đúng đối tượng sử dụng đất không đúng diện tích đất\\r không đủ điều kiện được cấp không đúng mục đích sử dụng đất hoặc thời hạn sử dụng\\r đất hoặc nguồn gốc sử dụng đất theo quy định của pháp luật đất đai tại thời điểm\\r cấp giấy chứng nhận đ Giấy chứng nhận\\r đã cấp bị Tòa án có thẩm quyền tuyên hủy e Trường hợp đấu\\r giá giao quyền sử dụng đất tài sản gắn liền với đất theo yêu cầu của Tòa án\\r cơ quan thi hành án mà người phải thi hành án không nộp giấy chứng nhận đã cấp 3 Việc thu hồi giấy chứng nhận\\r đã cấp đối với trường hợp quy định tại điểm d khoản 2 Điều này mà không thuộc\\r khoản 4 Điều này được thực hiện theo quy định sau đây a Trường hợp Tòa án có thẩm quyền\\r giải quyết tranh chấp đất đai có bản án quyết định có hiệu lực thi hành trong\\r đó có kết luận về việc thu hồi giấy chứng nhận đã cấp thì việc thu hồi giấy chứng\\r nhận đã cấp được thực hiện theo bản án quyết định đó b Trường hợp cơ quan thanh tra\\r có văn bản kết luận giấy chứng nhận đã cấp không đúng quy định của pháp luật về\\r đất đai thì cơ quan nhà nước có thẩm quyền có trách nhiệm xem xét nếu kết luận\\r đó là đúng thì quyết định thu hồi giấy chứng nhận đã cấp trường hợp xem xét\\r xác định giấy chứng nhận đã cấp là đúng quy định của pháp luật thì phải thông\\r báo lại cho cơ quan thanh tra c Trường hợp cơ quan có thẩm\\r quyền cấp Giấy chứng nhận quyền sử dụng đất quyền sở hữu tài sản gắn liền với\\r đất quy định tại Điều 136 của Luật này phát hiện giấy chứng\\r nhận đã cấp không đúng quy định của pháp luật về đất đai thì kiểm tra lại\\r thông báo cho người sử dụng đất biết rõ lý do và quyết định thu hồi giấy chứng\\r nhận đã cấp không đúng quy định d Trường hợp người sử dụng đất\\r chủ sở hữu tài sản gắn liền với đất phát hiện giấy chứng nhận đã cấp không đúng\\r quy định của pháp luật về đất đai thì gửi kiến nghị bằng văn bản đến cơ quan có\\r thẩm quyền cấp Giấy chứng nhận quyền sử dụng đất quyền sở hữu tài sản gắn liền\\r với đất Cơ quan có thẩm quyền cấp Giấy chứng nhận quyền sử dụng đất quyền sở\\r hữu tài sản gắn liền với đất có trách nhiệm kiểm tra xem xét quyết định thu hồi\\r giấy chứng nhận đã cấp không đúng quy định của pháp luật về đất đai đ Cơ quan có thẩm quyền thu hồi\\r giấy chứng nhận đã cấp quy định tại các điểm a b c và d khoản này là cơ quan\\r có thẩm quyền cấp Giấy chứng nhận quyền sử dụng đất quyền sở hữu tài sản gắn\\r liền với đất quy định tại Điều 136 của Luật này 4 Cơ quan có thẩm quyền cấp Giấy\\r chứng nhận quyền sử dụng đất quyền sở hữu tài sản gắn liền với đất quy định tại\\r Điều 136 của Luật này không thu hồi giấy chứng nhận đã cấp\\r trong các trường hợp quy định tại điểm d khoản 2 Điều này nếu người được cấp giấy\\r chứng nhận đã thực hiện chuyển quyền sử dụng đất quyền sở hữu tài sản gắn liền\\r với đất theo quy định của pháp luật về đất đai Việc xử lý thiệt hại do việc cấp\\r giấy chứng nhận tại khoản này thực hiện theo bản án quyết định của Tòa án Người\\r có hành vi vi phạm bị xử lý theo quy định tại Điều 239 và Điều\\r 240 của Luật này và quy định khác của pháp luật có liên quan 5 Việc thu hồi Giấy\\r chứng nhận quyền sử dụng đất Giấy chứng nhận quyền sở hữu nhà ở và quyền sử dụng\\r đất ở Giấy chứng nhận quyền sở hữu nhà ở Giấy chứng nhận quyền sở hữu công\\r trình xây dựng Giấy chứng nhận quyền sử dụng đất quyền sở hữu nhà ở và\\r tài sản khác gắn liền với đất Giấy chứng nhận quyền sử dụng đất quyền sở hữu\\r tài sản gắn liền với đất đã cấp không thuộc trường hợp quy định tại khoản 2 Điều\\r này chỉ được thực hiện khi có bản án hoặc quyết định của Tòa án đã được thi\\r hành hoặc văn bản kiến nghị của cơ quan thi hành án về việc thi hành bản án\\r quyết định theo quy định của pháp luật trong đó có nội dung yêu cầu thu hồi giấy\\r chứng nhận đã cấp 6 Trường hợp thu hồi giấy chứng\\r nhận đã cấp theo quy định tại khoản 2 và khoản 5 Điều này mà người sử dụng đất\\r chủ sở hữu tài sản gắn liền với đất không giao nộp giấy chứng nhận đã cấp thì\\r cơ quan có thẩm quyền cấp Giấy chứng nhận quyền sử dụng đất quyền sở hữu tài sản\\r gắn liền với đất quy định tại Điều 136 của Luật này quyết\\r định hủy giấy chứng nhận đã cấp 7 Cơ quan có thẩm quyền cấp Giấy\\r chứng nhận quyền sử dụng đất quyền sở hữu tài sản gắn liền với đất quy định tại\\r Điều 136 của Luật này thực hiện việc cấp giấy chứng nhận\\r theo quy định của pháp luật sau khi thu hồi giấy chứng nhận đã cấp Chương XI TÀI CHÍNH VỀ ĐẤT ĐAI\\r GIÁ ĐẤT Mục 1 TÀI CHÍNH VỀ ĐẤT ĐAI']"
      ]
     },
     "execution_count": 6,
     "metadata": {},
     "output_type": "execute_result"
    }
   ],
   "source": [
    "df_train=[]\n",
    "for line in text_data:\n",
    "    sentence=str(line)\n",
    "    sentence=clear(sentence)\n",
    "    df_train.append(sentence)\n",
    "df_train[0:2]"
   ]
  },
  {
   "cell_type": "markdown",
   "metadata": {},
   "source": [
    "### 2.3 Compound words with meaning"
   ]
  },
  {
   "cell_type": "code",
   "execution_count": 7,
   "metadata": {},
   "outputs": [],
   "source": [
    "df_train_compound=[]\n",
    "for line in df_train:\n",
    "    sentence = ViTokenizer.tokenize(line)\n",
    "    df_train_compound.append(sentence)"
   ]
  },
  {
   "cell_type": "code",
   "execution_count": 126,
   "metadata": {},
   "outputs": [
    {
     "data": {
      "text/plain": [
       "['1 Người sử_dụng đất không được cấp Giấy chứng_nhận quyền sử_dụng đất quyền sở_hữu tài_sản gắn liền với đất trong các trường_hợp sau đây a Đất nông_nghiệp sử_dụng vào mục_đích công_ích theo quy_định tại Điều 179 của Luật này b Đất được giao để quản_lý thuộc các trường_hợp quy_định tại Điều 7 của Luật này trừ trường_hợp đất được giao sử_dụng chung với đất được giao để quản_lý thì được cấp Giấy chứng_nhận quyền sử_dụng đất quyền sở_hữu tài_sản gắn liền với đất đối_với phần diện_tích đất sử_dụng theo quyết_định giao đất cho thuê đất của cơ_quan nhà_nước có thẩm_quyền c Đất thuê thuê lại của người sử_dụng đất trừ trường_hợp thuê thuê lại đất của chủ đầu_tư xây_dựng kinh_doanh kết_cấu_hạ_tầng phù_hợp với dự_án đầu_tư đã được cơ_quan có thẩm_quyền phê_duyệt d Đất_nhận khoán trừ trường_hợp được công_nhận quyền sử_dụng đất tại điểm a khoản 2 Điều 181 của Luật này đ Đất đã có quyết_định thu_hồi đất của cơ_quan nhà_nước có thẩm_quyền_trừ trường_hợp đã quá 03 năm kể từ thời_điểm có quyết_định thu_hồi đất mà không thực_hiện e Đất đang có tranh_chấp đang bị kê_biên áp_dụng biện_pháp khác để bảo_đảm thi_hành án theo quy_định của pháp_luật về thi_hành án dân_sự quyền sử_dụng đất đang bị áp_dụng biện_pháp khẩn_cấp tạm_thời theo quy_định của pháp_luật g Tổ_chức được Nhà_nước giao đất không thu tiền_sử_dụng đất để sử_dụng vào mục_đích công_cộng không nhằm mục_đích kinh_doanh 2 Các tài_sản gắn liền với đất không được cấp Giấy chứng_nhận quyền sử_dụng đất quyền sở_hữu tài_sản gắn liền với đất trong trường_hợp sau đây a Tài_sản gắn liền với đất mà thửa đất có tài_sản đó thuộc trường_hợp không cấp Giấy chứng_nhận quyền sử_dụng đất quyền sở_hữu tài_sản gắn liền với đất quy_định tại khoản 1 Điều này hoặc không đủ điều_kiện cấp Giấy chứng_nhận quyền sử_dụng đất quyền sở_hữu tài_sản gắn liền với đất b Nhà ở hoặc công_trình xây_dựng được xây_dựng tạm_thời trong thời_gian xây_dựng công_trình chính hoặc xây_dựng tạm_thời bằng vật_liệu tranh tre nứa lá đất công_trình phụ_trợ nằm ngoài phạm_vi công_trình chính và để phục_vụ cho việc quản_lý sử_dụng vận_hành công_trình chính c Tài_sản gắn liền với đất đã có thông_báo hoặc quyết_định giải_tỏa hoặc đã có quyết_định thu_hồi đất của cơ_quan nhà_nước có thẩm_quyền_trừ trường_hợp đã quá 03 năm kể từ thời_điểm có các thông_báo quyết_định này mà không thực_hiện d Nhà ở công_trình được xây_dựng sau thời_điểm công_bố cấm xây_dựng xây_dựng lấn_chiếm mốc_giới bảo_vệ các công_trình hạ_tầng kỹ_thuật di_tích lịch_sử văn_hóa đã xếp_hạng tài_sản gắn liền với đất được tạo_lập từ sau thời_điểm quy_hoạch được cơ_quan có thẩm_quyền phê_duyệt mà tài_sản được tạo_lập đó không phù_hợp với quy_hoạch được duyệt tại thời_điểm cấp Giấy chứng_nhận quyền sử_dụng đất quyền sở_hữu tài_sản gắn liền với đất trừ trường_hợp chủ sở_hữu nhà ở công_trình xây_dựng không phải là nhà ở theo quy_định tại Điều 148 và Điều 149 của Luật này có giấy_phép xây_dựng có thời_hạn theo quy_định của pháp_luật về xây_dựng đ Tài_sản thuộc sở_hữu của Nhà_nước trừ trường_hợp tài_sản đã được xác_định là phần vốn của Nhà_nước đóng_góp vào doanh_nghiệp theo hướng_dẫn của Bộ Tài_chính e Tài_sản gắn liền với đất không thuộc trường_hợp quy_định tại Điều 148 và Điều 149 của Luật này',\n",
       " '1 Cơ_quan có thẩm_quyền cấp Giấy chứng_nhận quyền sử_dụng đất quyền sở_hữu tài_sản gắn liền với đất quy_định tại Điều 136 của Luật này có trách_nhiệm đính_chính giấy chứng_nhận đã cấp có sai_sót trong các trường_hợp sau đây a Có sai_sót thông_tin của người được cấp giấy chứng_nhận so với thông_tin tại thời_điểm đính_chính b Có sai_sót thông_tin về thửa đất tài_sản gắn liền với đất so với hồ_sơ kê_khai đăng_ký đất_đai tài_sản gắn liền với đất đã được tổ_chức đăng_ký đất_đai kiểm_tra xác_nhận hoặc được thể_hiện trong văn_bản có hiệu_lực của cơ_quan nhà_nước có thẩm_quyền về giải_quyết tranh_chấp đất_đai 2 Nhà_nước thu_hồi giấy chứng_nhận đã cấp trong các trường_hợp sau đây a Nhà_nước thu_hồi toàn_bộ diện_tích đất ghi trong Giấy chứng_nhận quyền sử_dụng đất Giấy chứng_nhận quyền sở_hữu nhà ở và quyền sử_dụng đất ở Giấy chứng_nhận quyền sở_hữu nhà ở Giấy chứng_nhận quyền sở_hữu công_trình xây_dựng Giấy chứng_nhận quyền sử_dụng đất quyền sở_hữu nhà ở và tài_sản khác gắn liền với đất Giấy chứng_nhận quyền sử_dụng đất quyền sở_hữu tài_sản gắn liền với đất đã cấp b Cấp đổi Giấy chứng_nhận quyền sử_dụng đất Giấy chứng_nhận quyền sở_hữu nhà ở và quyền sử_dụng đất ở Giấy chứng_nhận quyền sở_hữu nhà ở Giấy chứng_nhận quyền sở_hữu công_trình xây_dựng Giấy chứng_nhận quyền sử_dụng đất quyền sở_hữu nhà ở và tài_sản khác gắn liền với đất Giấy chứng_nhận quyền sử_dụng đất quyền sở_hữu tài_sản gắn liền với đất đã cấp c Người sử_dụng đất chủ sở_hữu tài_sản gắn liền với đất đăng_ký biến_động đất_đai tài_sản gắn liền với đất mà phải cấp mới Giấy chứng_nhận quyền sử_dụng đất quyền sở_hữu tài_sản gắn liền với đất d Giấy chứng_nhận đã cấp không đúng thẩm_quyền không đúng đối_tượng sử_dụng đất không đúng diện_tích đất không đủ điều_kiện được cấp không đúng mục_đích sử_dụng đất hoặc thời_hạn sử_dụng đất hoặc nguồn_gốc sử_dụng đất theo quy_định của pháp_luật đất_đai tại thời_điểm cấp giấy chứng_nhận đ Giấy chứng_nhận đã cấp bị Tòa_án có thẩm_quyền tuyên_hủy_e Trường_hợp đấu_giá giao quyền sử_dụng đất tài_sản gắn liền với đất theo yêu_cầu của Tòa_án cơ_quan thi_hành án mà người phải thi_hành án không nộp giấy chứng_nhận đã cấp 3 Việc thu_hồi giấy chứng_nhận đã cấp đối_với trường_hợp quy_định tại điểm d khoản 2 Điều này mà không thuộc khoản 4 Điều này được thực_hiện theo quy_định sau đây a Trường_hợp Tòa_án có thẩm_quyền giải_quyết tranh_chấp đất_đai có bản_án quyết_định có hiệu_lực thi_hành trong đó có kết_luận về việc thu_hồi giấy chứng_nhận đã cấp thì việc thu_hồi giấy chứng_nhận đã cấp được thực_hiện theo bản_án quyết_định đó b Trường_hợp cơ_quan thanh_tra có văn_bản kết_luận giấy chứng_nhận đã cấp không đúng quy_định của pháp_luật về đất_đai thì cơ_quan nhà_nước có thẩm_quyền có trách_nhiệm xem_xét nếu kết_luận đó là đúng thì quyết_định thu_hồi giấy chứng_nhận đã cấp trường_hợp xem_xét xác_định giấy chứng_nhận đã cấp là đúng quy_định của pháp_luật thì phải thông_báo lại cho cơ_quan thanh_tra c Trường_hợp cơ_quan có thẩm_quyền cấp Giấy chứng_nhận quyền sử_dụng đất quyền sở_hữu tài_sản gắn liền với đất quy_định tại Điều 136 của Luật này phát_hiện giấy chứng_nhận đã cấp không đúng quy_định của pháp_luật về đất_đai thì kiểm_tra lại thông_báo cho người sử_dụng đất biết rõ lý_do và quyết_định thu_hồi giấy chứng_nhận đã cấp không đúng quy_định d Trường_hợp người sử_dụng đất chủ sở_hữu tài_sản gắn liền với đất phát_hiện giấy chứng_nhận đã cấp không đúng quy_định của pháp_luật về đất_đai thì gửi kiến_nghị bằng văn_bản đến cơ_quan có thẩm_quyền cấp Giấy chứng_nhận quyền sử_dụng đất quyền sở_hữu tài_sản gắn liền với đất Cơ_quan có thẩm_quyền cấp Giấy chứng_nhận quyền sử_dụng đất quyền sở_hữu tài_sản gắn liền với đất có trách_nhiệm kiểm_tra xem_xét quyết_định thu_hồi giấy chứng_nhận đã cấp không đúng quy_định của pháp_luật về đất_đai đ Cơ_quan có thẩm_quyền thu_hồi giấy chứng_nhận đã cấp quy_định tại các điểm a b c và d khoản này là cơ_quan có thẩm_quyền cấp Giấy chứng_nhận quyền sử_dụng đất quyền sở_hữu tài_sản gắn liền với đất quy_định tại Điều 136 của Luật này 4 Cơ_quan có thẩm_quyền cấp Giấy chứng_nhận quyền sử_dụng đất quyền sở_hữu tài_sản gắn liền với đất quy_định tại Điều 136 của Luật này không thu_hồi giấy chứng_nhận đã cấp trong các trường_hợp quy_định tại điểm d khoản 2 Điều này nếu người được cấp giấy chứng_nhận đã thực_hiện chuyển quyền sử_dụng đất quyền sở_hữu tài_sản gắn liền với đất theo quy_định của pháp_luật về đất_đai Việc xử_lý thiệt_hại do việc cấp giấy chứng_nhận tại khoản này thực_hiện theo bản_án quyết_định của Tòa_án Người có hành_vi vi_phạm bị xử_lý theo quy_định tại Điều 239 và Điều 240 của Luật này và quy_định khác của pháp_luật có liên_quan 5 Việc thu_hồi Giấy chứng_nhận quyền sử_dụng đất Giấy chứng_nhận quyền sở_hữu nhà ở và quyền sử_dụng đất ở Giấy chứng_nhận quyền sở_hữu nhà ở Giấy chứng_nhận quyền sở_hữu công_trình xây_dựng Giấy chứng_nhận quyền sử_dụng đất quyền sở_hữu nhà ở và tài_sản khác gắn liền với đất Giấy chứng_nhận quyền sử_dụng đất quyền sở_hữu tài_sản gắn liền với đất đã cấp không thuộc trường_hợp quy_định tại khoản 2 Điều này chỉ được thực_hiện khi có bản_án hoặc quyết_định của Tòa_án đã được thi_hành hoặc văn_bản kiến_nghị của cơ_quan thi_hành án về việc thi_hành bản_án quyết_định theo quy_định của pháp_luật trong đó có nội_dung yêu_cầu thu_hồi giấy chứng_nhận đã cấp 6 Trường_hợp thu_hồi giấy chứng_nhận đã cấp theo quy_định tại khoản 2 và khoản 5 Điều này mà người sử_dụng đất chủ sở_hữu tài_sản gắn liền với đất không giao_nộp giấy chứng_nhận đã cấp thì cơ_quan có thẩm_quyền cấp Giấy chứng_nhận quyền sử_dụng đất quyền sở_hữu tài_sản gắn liền với đất quy_định tại Điều 136 của Luật này quyết_định hủy giấy chứng_nhận đã cấp 7 Cơ_quan có thẩm_quyền cấp Giấy chứng_nhận quyền sử_dụng đất quyền sở_hữu tài_sản gắn liền với đất quy_định tại Điều 136 của Luật này thực_hiện việc cấp giấy chứng_nhận theo quy_định của pháp_luật sau khi thu_hồi giấy chứng_nhận đã cấp Chương XI TÀI_CHÍNH VỀ ĐẤT_ĐAI GIÁ ĐẤT Mục 1 TÀI_CHÍNH VỀ ĐẤT_ĐAI',\n",
       " '1 Các khoản thu ngân_sách từ đất_đai bao_gồm a Tiền_sử_dụng đất b Tiền thuê đất c Tiền thu từ việc xử_phạt vi_phạm hành_chính về đất_đai d Tiền bồi_thường cho Nhà_nước khi gây thiệt_hại trong quản_lý sử_dụng đất_đai đ Tiền_sử_dụng đất tăng thêm tiền thuê đất tăng thêm đối_với các dự_án không đưa đất vào sử_dụng chậm tiến_độ sử_dụng e Thuế_sử_dụng đất g Thuế_thu_nhập từ chuyển quyền sử_dụng đất h Phí và lệ_phí trong quản_lý sử_dụng đất_đai i Khoản thu khác theo quy_định của pháp_luật 2 Tiền thuê đất hằng năm được áp_dụng ổn_định cho chu_kỳ 05 năm tính từ thời_điểm Nhà_nước quyết_định cho thuê đất cho phép chuyển mục_đích sử_dụng đất_gắn với việc chuyển sang hình_thức Nhà_nước cho thuê đất trả tiền thuê đất hằng năm Tiền thuê đất cho chu_kỳ tiếp_theo được tính căn_cứ vào bảng giá đất của năm xác_định tiền thuê đất tiếp_theo Trường_hợp tiền thuê đất tăng so với chu_kỳ trước thì tiền thuê đất phải nộp được điều_chỉnh nhưng không quá tỷ_lệ do Chính_phủ quy_định cho từng giai_đoạn Tỷ_lệ điều_chỉnh do Chính_phủ quy_định cho từng giai_đoạn không quá tổng_chỉ_số giá tiêu_dùng CPI hằng năm cả nước của giai_đoạn 05 năm trước đó 3 Chính_phủ quy_định chi_tiết các điểm a b c d đ khoản 1 và khoản 2 Điều này',\n",
       " '1 Dịch_vụ cung_cấp thông_tin dữ_liệu về đất_đai 2 Dịch_vụ đo_đạc địa_chính 3 Dịch_vụ đăng_ký đất_đai cấp Giấy chứng_nhận quyền sử_dụng đất quyền sở_hữu tài_sản gắn liền với đất 4 Dịch_vụ tư_vấn xác_định_giá đất 5 Dịch_vụ khác theo quy_định của pháp_luật',\n",
       " '1 Căn_cứ tính tiền_sử_dụng đất bao_gồm a Diện_tích đất được giao được chuyển mục_đích sử_dụng được công_nhận quyền sử_dụng đất b Giá đất theo quy_định tại Điều 159 và Điều 160 của Luật này trường_hợp đấu_giá quyền sử_dụng đất thì giá đất là giá trúng đấu_giá c Chính_sách miễn_giảm tiền_sử_dụng đất của Nhà_nước 2 Căn_cứ tính tiền cho thuê đất bao_gồm a Diện_tích đất cho thuê b Thời_hạn cho thuê đất thời_hạn gia_hạn sử_dụng đất c Đơn_giá thuê đất trường_hợp đấu_giá quyền thuê đất thì giá đất thuê là giá trúng đấu_giá d Hình_thức Nhà_nước cho thuê đất thu tiền thuê đất hằng năm hoặc cho thuê đất thu tiền thuê đất một lần cho cả thời_gian thuê đ Chính_sách miễn_giảm tiền thuê đất của Nhà_nước 3 Thời_điểm định_giá đất thời_điểm tính tiền_sử_dụng đất tiền thuê đất được quy_định như sau a Đối_với trường_hợp Nhà_nước giao đất cho thuê đất cho phép chuyển mục_đích sử_dụng đất gia_hạn sử_dụng đất điều_chỉnh thời_hạn sử_dụng đất chuyển hình_thức sử_dụng đất là thời_điểm Nhà_nước ban_hành_quyết_định giao đất cho thuê đất cho phép chuyển mục_đích sử_dụng đất gia_hạn sử_dụng đất điều_chỉnh thời_hạn sử_dụng đất chuyển hình_thức sử_dụng đất trừ trường_hợp quy_định tại khoản 7 Điều 124 của Luật này b Đối_với trường_hợp công_nhận quyền sử_dụng đất là thời_điểm người sử_dụng đất chủ sở_hữu tài_sản gắn liền với đất hoặc người đại_diện cho người sử_dụng đất chủ sở_hữu tài_sản gắn liền với đất nộp đủ hồ_sơ hợp_lệ theo quy_định của pháp_luật c Đối_với trường_hợp cơ_quan nhà_nước có thẩm_quyền điều_chỉnh quyết_định giao đất cho thuê đất mà làm thay_đổi diện_tích mục_đích sử_dụng đất thời_hạn sử_dụng đất là thời_điểm cơ_quan nhà_nước có thẩm_quyền điều_chỉnh quyết_định giao đất cho thuê đất d Đối_với trường_hợp cơ_quan nhà_nước có thẩm_quyền quyết_định điều_chỉnh quy_hoạch chi_tiết theo quy_định của pháp_luật về xây_dựng mà phải xác_định lại giá đất là thời_điểm cơ_quan nhà_nước có thẩm_quyền quyết_định điều_chỉnh quy_hoạch chi_tiết 4 Đối_với trường_hợp áp_dụng giá đất trong bảng giá đất để tính tiền_sử_dụng đất tiền thuê đất thì Ủy_ban nhân_dân cấp có thẩm_quyền phải ghi giá đất trong quyết_định giao đất cho thuê đất cho phép chuyển mục_đích sử_dụng đất gia_hạn sử_dụng đất điều_chỉnh thời_hạn sử_dụng đất chuyển hình_thức sử_dụng đất Đối_với trường_hợp xác_định_giá đất cụ_thể để tính tiền_sử_dụng đất tiền thuê đất thì Ủy_ban nhân_dân cấp có thẩm_quyền phải ban_hành_quyết_định_giá đất trong thời_hạn 180 ngày kể từ thời_điểm định_giá đất quy_định tại các điểm a c và d khoản 3 Điều này 5 Chính_phủ quy_định chi_tiết Điều này',\n",
       " '1 Khi chuyển mục_đích sử_dụng đất quy_định tại các điểm b c d đ e và g khoản 1 Điều 121 của Luật này thì người sử_dụng đất phải nộp tiền_sử_dụng đất tiền thuê đất theo quy_định sau đây a Nộp tiền_sử_dụng đất tiền thuê đất trả một lần cho cả thời_gian thuê bằng mức chênh_lệch giữa tiền_sử_dụng đất tiền thuê đất của loại đất sau khi chuyển mục_đích sử_dụng đất và tiền_sử_dụng đất tiền thuê đất của loại đất trước khi chuyển mục_đích sử_dụng đất cho thời_gian sử_dụng đất còn lại b Nộp tiền thuê đất hằng năm theo loại đất sau khi chuyển mục_đích sử_dụng đất 2 Khi được gia_hạn sử_dụng đất điều_chỉnh thời_hạn sử_dụng đất mà người sử_dụng đất thuộc đối_tượng nộp tiền_sử_dụng đất tiền thuê đất thì phải nộp tiền_sử_dụng đất tiền thuê đất đối_với thời_gian được gia_hạn được điều_chỉnh 3 Chính_phủ quy_định chi_tiết Điều này',\n",
       " '1 Việc miễn_giảm tiền_sử_dụng đất tiền thuê đất được thực_hiện trong các trường_hợp sau đây a Sử_dụng đất vào mục_đích sản_xuất kinh_doanh thuộc lĩnh_vực ưu_đãi đầu_tư hoặc tại địa_bàn ưu_đãi đầu_tư theo quy_định của pháp_luật về đầu_tư và pháp_luật có liên_quan trừ trường_hợp sử_dụng đất xây_dựng nhà ở thương_mại sử_dụng đất thương_mại dịch_vụ b Sử_dụng đất để thực_hiện chính_sách nhà ở đất ở đối_với người có công với cách_mạng thương_binh hoặc bệnh_binh không có khả_năng lao_động hộ gia_đình liệt_sĩ không còn lao_động chính người nghèo sử_dụng đất để thực_hiện dự_án đầu_tư xây_dựng nhà ở xã_hội nhà lưu_trú công_nhân trong khu công_nghiệp nhà ở cho lực_lượng vũ_trang nhân_dân cải_tạo xây_dựng lại nhà_chung_cư theo quy_định của pháp_luật về nhà ở đất ở cho người phải di_dời khi Nhà_nước thu_hồi đất do có nguy_cơ đe_dọa tính_mạng con_người đất ở cho các đối_tượng quy_định tại điểm a và điểm b khoản 3 Điều 124 của Luật này đang công_tác tại các xã biên_giới hải_đảo hoặc huyện đảo không có đơn_vị hành_chính cấp xã thuộc vùng có điều_kiện kinh_tế xã_hội khó_khăn vùng có điều_kiện kinh_tế xã_hội đặc_biệt khó_khăn c Đồng_bào dân_tộc_thiểu_số sử_dụng đất được miễn_giảm tiền_sử_dụng đất tiền thuê đất theo quy_định của Chính_phủ d Sử_dụng đất của đơn_vị sự_nghiệp công_lập theo quy_định tại điểm c khoản 3 Điều 120 của Luật này đ Sử_dụng đất xây_dựng kết_cấu_hạ_tầng cảng hàng_không sân_bay đất xây_dựng cơ_sở công_trình cung_cấp dịch_vụ hàng không đất để làm bãi đỗ xe xưởng bảo_dưỡng phục_vụ hoạt_động vận_tải hành_khách công_cộng đất xây_dựng công_trình trên mặt_đất phục_vụ cho việc vận_hành khai_thác sử_dụng công_trình ngầm e Sử_dụng đất xây_dựng kết_cấu_hạ_tầng đường_sắt chuyên_dùng đất xây_dựng công_trình công_nghiệp đường_sắt đất xây_dựng công_trình phụ_trợ khác trực_tiếp phục_vụ công_tác chạy_tàu đón tiễn hành_khách xếp_dỡ hàng_hóa của đường_sắt g Sử_dụng đất để thực_hiện dự_án đầu_tư theo phương_thức đối_tác công tư h Sử_dụng đất làm mặt_bằng xây_dựng trụ_sở sân phơi nhà_kho nhà_xưởng sản_xuất xây_dựng cơ_sở dịch_vụ trực_tiếp phục_vụ sản_xuất nông_nghiệp lâm_nghiệp nuôi_trồng thủy_sản làm muối của hợp_tác_xã liên_hiệp hợp_tác_xã i Sử_dụng đất xây_dựng công_trình cấp nước_sạch và thoát nước xử_lý nước_thải tại khu_vực đô_thị và nông_thôn k Sử_dụng đất không phải đất quốc_phòng an_ninh cho mục_đích quốc_phòng an_ninh của doanh_nghiệp quân_đội công_an l Giao đất ở đối_với hộ gia_đình cá_nhân khi Nhà_nước thu_hồi đất gắn liền với nhà ở phải di_chuyển chỗ ở mà không đủ điều_kiện được bồi_thường về đất ở và không có chỗ ở nào khác trong địa_bàn đơn_vị hành_chính cấp xã nơi có đất thu_hồi 2 Chính_phủ quy_định các trường_hợp khác được miễn_giảm tiền_sử_dụng đất tiền thuê đất chưa được quy_định tại khoản 1 Điều này sau khi được sự đồng_ý của Ủy_ban Thường_vụ Quốc_hội 3 Đối_với trường_hợp được miễn tiền_sử_dụng đất tiền thuê đất thì không phải thực_hiện thủ_tục xác_định_giá đất tính tiền_sử_dụng đất tiền thuê đất được miễn Người sử_dụng đất được miễn tiền_sử_dụng đất tiền thuê đất không phải thực_hiện thủ_tục đề_nghị miễn tiền_sử_dụng đất tiền thuê đất 4 Chính_phủ quy_định chi_tiết Điều này Mục 2 GIÁ ĐẤT',\n",
       " '1 Việc định_giá đất phải bảo_đảm các nguyên_tắc sau đây a Phương_pháp_định_giá đất theo nguyên_tắc thị_trường b Tuân_thủ đúng phương_pháp trình_tự thủ_tục định_giá đất c Bảo_đảm trung_thực_khách_quan công_khai minh_bạch d Bảo_đảm tính độc_lập giữa tổ_chức tư_vấn xác_định_giá đất Hội_đồng thẩm_định bảng giá đất Hội_đồng thẩm_định_giá đất cụ_thể và cơ_quan hoặc người có thẩm_quyền quyết_định_giá đất đ Bảo_đảm hài hòa lợi_ích giữa Nhà_nước người sử_dụng đất và nhà đầu_tư 2 Căn_cứ định_giá đất bao_gồm a Mục_đích sử_dụng đất được đưa ra định_giá b Thời_hạn sử_dụng đất Đối_với đất nông_nghiệp đã được Nhà_nước giao cho hộ gia_đình cá_nhân theo hạn_mức giao đất nông_nghiệp đất nông_nghiệp trong hạn_mức nhận chuyển quyền thì không căn_cứ vào thời_hạn sử_dụng đất c Thông_tin đầu_vào để định_giá đất theo các phương_pháp_định_giá đất d Yếu_tố khác ảnh_hưởng đến giá đất đ Quy_định của pháp_luật có liên_quan tại thời_điểm định_giá đất 3 Thông_tin đầu_vào để định_giá đất theo các phương_pháp_định_giá đất quy_định tại điểm c khoản 2 Điều này bao_gồm a Giá đất được ghi_nhận trong cơ_sở dữ_liệu quốc_gia về đất_đai cơ_sở dữ_liệu quốc_gia về giá b Giá đất được ghi trong hợp_đồng chuyển_nhượng quyền sử_dụng đất giá trúng đấu_giá quyền sử_dụng đất sau khi hoàn_thành nghĩa_vụ tài_chính c Giá đất thu_thập qua điều_tra_khảo_sát đối_với trường_hợp chưa có thông_tin giá đất quy_định tại điểm a và điểm b khoản này d Thông_tin về doanh_thu chi_phí thu_nhập từ việc sử_dụng đất 4 Thông_tin giá đất đầu_vào quy_định tại các điểm a b và c khoản 3 Điều này là thông_tin được hình_thành trong thời_gian 24 tháng tính từ thời_điểm định_giá đất quy_định tại khoản 2 Điều 91 và khoản 3 Điều 155 của Luật này trở về trước Việc sử_dụng thông_tin được thu_thập quy_định tại khoản này ưu_tiên sử_dụng thông_tin gần nhất với thời_điểm định_giá đất 5 Các phương_pháp_định_giá đất bao_gồm a Phương_pháp so_sánh được thực_hiện bằng cách điều_chỉnh mức giá của các thửa đất có cùng mục_đích sử_dụng đất tương_đồng_nhất_định về các yếu_tố có ảnh_hưởng đến giá đất đã chuyển_nhượng trên thị_trường đã trúng đấu_giá quyền sử_dụng đất mà người trúng đấu_giá đã hoàn_thành nghĩa_vụ tài_chính theo quyết_định trúng đấu_giá thông_qua việc phân_tích so_sánh các yếu_tố ảnh_hưởng đến giá đất sau khi đã loại_trừ giá_trị tài_sản gắn liền với đất nếu có để xác_định_giá của thửa đất cần định_giá b Phương_pháp thu_nhập được thực_hiện bằng cách lấy thu_nhập ròng bình_quân năm trên một diện_tích đất chia cho lãi_suất tiền gửi tiết_kiệm bình_quân của loại tiền gửi bằng tiền Việt_Nam kỳ_hạn 12 tháng tại các ngân_hàng thương_mại do Nhà_nước nắm giữ trên 50 vốn điều_lệ hoặc tổng_số cổ_phần có quyền biểu_quyết trên địa_bàn cấp tỉnh của 03 năm liền kề tính đến hết quý gần nhất có số_liệu trước thời_điểm định_giá đất c Phương_pháp thặng_dư được thực_hiện bằng cách lấy tổng_doanh_thu phát_triển ước_tính trừ đi tổng_chi_phí phát_triển ước_tính của thửa đất khu đất trên cơ_sở sử_dụng đất có hiệu_quả cao nhất hệ_số sử_dụng đất mật_độ xây_dựng số tầng cao tối_đa của công_trình theo quy_hoạch sử_dụng đất quy_hoạch chi_tiết xây_dựng đã được cơ_quan có thẩm_quyền phê_duyệt d Phương_pháp hệ_số điều_chỉnh giá đất được thực_hiện bằng cách lấy giá đất trong bảng giá đất nhân với hệ_số điều_chỉnh giá đất Hệ_số điều_chỉnh giá đất được xác_định thông_qua việc so_sánh giá đất trong bảng giá đất với giá đất thị_trường đ Chính_phủ quy_định phương_pháp_định_giá đất khác chưa được quy_định tại các điểm a b c và d khoản này sau khi được sự đồng_ý của Ủy_ban Thường_vụ Quốc_hội 6 Trường_hợp và điều_kiện áp_dụng phương_pháp_định_giá đất được quy_định như sau a Phương_pháp so_sánh được áp_dụng để định_giá đối_với trường_hợp có tối_thiểu 03 thửa đất có cùng mục_đích sử_dụng đất tương_đồng_nhất_định về các yếu_tố có ảnh_hưởng đến giá đất đã chuyển_nhượng trên thị_trường trúng đấu_giá quyền sử_dụng đất mà người trúng đấu_giá đã hoàn_thành nghĩa_vụ tài_chính theo quyết_định trúng đấu_giá b Phương_pháp thu_nhập được áp_dụng để định_giá đối_với trường_hợp thửa đất khu đất nông_nghiệp đất phi nông_nghiệp không phải là đất ở mà thửa đất khu đất cần định_giá không đủ điều_kiện áp_dụng phương_pháp so_sánh nhưng xác_định được các khoản thu_nhập chi_phí từ việc sử_dụng đất theo mục_đích sử_dụng đất được đưa ra định_giá c Phương_pháp thặng_dư được áp_dụng để định_giá đối_với trường_hợp thửa đất khu đất để thực_hiện dự_án đầu_tư không đủ điều_kiện áp_dụng phương_pháp so_sánh phương_pháp thu_nhập nhưng ước_tính được tổng_doanh_thu phát_triển và tổng_chi_phí phát_triển của dự_án d Phương_pháp hệ_số điều_chỉnh giá đất được áp_dụng để định_giá cụ_thể tính tiền bồi_thường_khi Nhà_nước thu_hồi đất đối_với các trường_hợp thu_hồi nhiều thửa đất_liền kề nhau có cùng mục_đích sử_dụng và đã được quy_định_giá đất trong bảng giá đất mà không đủ điều_kiện để áp_dụng phương_pháp so_sánh 7 Các phương_pháp_định_giá đất quy_định tại khoản 5 Điều này được sử_dụng để xác_định_giá đất cụ_thể và xây_dựng bảng giá đất 8 Trường_hợp áp_dụng các phương_pháp_định_giá đất tại các điểm a b và d khoản 5 Điều này để xác_định_giá đất cụ_thể mà có kết_quả thấp hơn giá đất trong bảng giá đất thì sử_dụng giá đất trong bảng giá đất 9 Việc lựa_chọn phương_pháp_định_giá đất do tổ_chức thực_hiện định_giá đất đề_xuất và Hội_đồng thẩm_định_giá đất cụ_thể quyết_định 10 Chính_phủ quy_định chi_tiết Điều này',\n",
       " '1 Bảng giá đất được áp_dụng cho các trường_hợp sau đây a Tính tiền_sử_dụng đất khi Nhà_nước công_nhận quyền sử_dụng đất ở của hộ gia_đình cá_nhân chuyển mục_đích sử_dụng đất của hộ gia_đình cá_nhân b Tính tiền thuê đất khi Nhà_nước cho thuê đất thu tiền thuê đất hằng năm c Tính thuế sử_dụng đất d Tính thuế thu_nhập từ chuyển quyền sử_dụng đất đối_với hộ gia_đình cá_nhân đ Tính lệ_phí trong quản_lý sử_dụng đất_đai e Tính tiền xử_phạt vi_phạm hành_chính trong lĩnh_vực đất_đai g Tính tiền bồi_thường cho Nhà_nước khi gây thiệt_hại trong quản_lý sử_dụng đất_đai h Tính tiền_sử_dụng đất tiền thuê đất khi Nhà_nước công_nhận quyền sử_dụng đất theo hình_thức giao đất có thu tiền_sử_dụng đất cho thuê đất thu tiền thuê đất một lần cho cả thời_gian thuê đối_với hộ gia_đình cá_nhân i Tính giá khởi_điểm để đấu_giá quyền sử_dụng đất khi Nhà_nước giao đất cho thuê đất đối_với trường_hợp thửa đất khu đất đã được đầu_tư hạ_tầng kỹ_thuật theo quy_hoạch chi_tiết xây_dựng k Tính tiền_sử_dụng đất đối_với trường_hợp giao đất không thông_qua đấu_giá quyền sử_dụng đất cho hộ gia_đình cá_nhân l Tính tiền_sử_dụng đất đối_với trường_hợp bán nhà ở thuộc sở_hữu nhà_nước cho người đang thuê 2 Bảng giá đất được xây_dựng theo khu_vực vị_trí Đối_với khu_vực có bản_đồ địa_chính số và cơ_sở dữ_liệu giá đất thì xây_dựng bảng giá đất đến từng thửa đất trên cơ_sở vùng giá_trị thửa đất chuẩn 3 Ủy_ban nhân_dân cấp tỉnh xây_dựng trình Hội_đồng nhân_dân cùng cấp quyết_định bảng giá đất lần đầu để công_bố và áp_dụng từ ngày 01 tháng 01 năm 2026 Hằng năm Ủy_ban nhân_dân cấp tỉnh có trách_nhiệm trình Hội_đồng nhân_dân cấp tỉnh quyết_định điều_chỉnh_sửa_đổi bổ_sung bảng giá đất để công_bố và áp_dụng từ ngày 01 tháng 01 của năm tiếp_theo Trường_hợp cần_thiết phải điều_chỉnh_sửa_đổi bổ_sung bảng giá đất trong năm Ủy_ban nhân_dân cấp tỉnh có trách_nhiệm trình Hội_đồng nhân_dân cấp tỉnh quyết_định Cơ_quan có chức_năng quản_lý đất_đai cấp tỉnh có trách_nhiệm giúp Ủy_ban nhân_dân cấp tỉnh tổ_chức việc xây_dựng điều_chỉnh_sửa_đổi bổ_sung bảng giá đất Trong quá_trình thực_hiện cơ_quan có chức_năng quản_lý đất_đai cấp tỉnh được thuê tổ_chức tư_vấn xác_định_giá đất để xây_dựng điều_chỉnh_sửa_đổi bổ_sung bảng giá đất 4 Chính_phủ quy_định chi_tiết Điều này',\n",
       " '1 Giá đất cụ_thể được áp_dụng cho các trường_hợp sau đây a Tính tiền_sử_dụng đất đối_với tổ_chức khi Nhà_nước giao đất có thu tiền_sử_dụng đất không đấu_giá quyền sử_dụng đất không đấu_thầu lựa_chọn nhà đầu_tư thực_hiện dự_án có sử_dụng đất giao đất có thu tiền_sử_dụng đất cho nhà đầu_tư trúng_thầu hoặc tổ_chức kinh_tế do nhà đầu_tư trúng_thầu thành_lập thực_hiện dự_án có sử_dụng đất công_nhận quyền sử_dụng đất cho phép chuyển mục_đích sử_dụng đất mà phải nộp tiền_sử_dụng đất b Tính tiền thuê đất khi Nhà_nước cho thuê đất thu tiền thuê đất một lần cho cả thời_gian thuê trừ trường_hợp thông_qua đấu_giá quyền sử_dụng đất c Tính giá_trị quyền sử_dụng đất khi cổ_phần_hóa doanh_nghiệp nhà_nước theo quy_định của pháp_luật về cổ_phần_hóa d Xác_định_giá khởi_điểm để đấu_giá quyền sử_dụng đất khi Nhà_nước giao đất cho thuê đất trừ trường_hợp quy_định tại điểm i khoản 1 Điều 159 của Luật này đ Tính tiền_sử_dụng đất tiền thuê đất khi gia_hạn sử_dụng đất điều_chỉnh thời_hạn sử_dụng đất điều_chỉnh quy_hoạch xây_dựng chi_tiết cho phép chuyển hình_thức sử_dụng đất e Tính tiền bồi_thường_khi Nhà_nước thu_hồi đất 2 Thẩm_quyền quyết_định_giá đất cụ_thể được quy_định như sau a Chủ_tịch Ủy_ban nhân_dân cấp tỉnh quyết_định_giá đất cụ_thể đối_với trường_hợp giao đất cho thuê đất cho phép chuyển mục_đích sử_dụng đất công_nhận quyền sử_dụng đất gia_hạn sử_dụng đất điều_chỉnh thời_hạn sử_dụng đất điều_chỉnh quy_hoạch xây_dựng chi_tiết thu_hồi đất xác_định_giá khởi_điểm đấu_giá quyền sử_dụng đất xác_định giá_trị quyền sử_dụng đất khi cổ_phần_hóa doanh_nghiệp thuộc thẩm_quyền của Ủy_ban nhân_dân cấp tỉnh theo quy_định của Luật này b Chủ_tịch Ủy_ban nhân_dân cấp huyện quyết_định_giá đất cụ_thể đối_với trường_hợp giao đất cho thuê đất cho phép chuyển mục_đích sử_dụng đất công_nhận quyền sử_dụng đất gia_hạn sử_dụng đất điều_chỉnh thời_hạn sử_dụng đất điều_chỉnh quy_hoạch xây_dựng chi_tiết thu_hồi đất xác_định_giá khởi_điểm đấu_giá quyền sử_dụng đất thuộc thẩm_quyền của Ủy_ban nhân_dân cấp huyện theo quy_định của Luật này 3 Cơ_quan có chức_năng quản_lý đất_đai có trách_nhiệm giúp Chủ_tịch Ủy_ban nhân_dân cùng cấp tổ_chức việc xác_định_giá đất cụ_thể Trong quá_trình thực_hiện cơ_quan có chức_năng quản_lý đất_đai được thuê tổ_chức tư_vấn xác_định_giá đất để xác_định_giá đất cụ_thể 4 Đối_với khu_vực đã có bảng giá đất tới từng thửa đất trên cơ_sở vùng giá_trị thửa đất chuẩn thì giá đất cụ_thể được xác_định theo bảng giá đất tại thời_điểm định_giá đất 5 Chính_phủ quy_định chi_tiết Điều này']"
      ]
     },
     "execution_count": 126,
     "metadata": {},
     "output_type": "execute_result"
    }
   ],
   "source": [
    "df_train_compound[0:10]"
   ]
  },
  {
   "cell_type": "markdown",
   "metadata": {},
   "source": [
    "#### 2.4. Create Corpus"
   ]
  },
  {
   "cell_type": "code",
   "execution_count": 8,
   "metadata": {},
   "outputs": [],
   "source": [
    "def CreateCorpus(Vi):\n",
    "    tokenizer = Tokenizer(oov_token='<oov>', filters='!“\"”#$%&()*+,-./:;<=>?@[\\]^`{|}~…')\n",
    "    tokenizer.fit_on_texts(Vi)\n",
    "    return tokenizer"
   ]
  },
  {
   "cell_type": "markdown",
   "metadata": {},
   "source": [
    ">Execute function"
   ]
  },
  {
   "cell_type": "code",
   "execution_count": 9,
   "metadata": {},
   "outputs": [
    {
     "name": "stdout",
     "output_type": "stream",
     "text": [
      "Total Word: 1344\n",
      "{'<oov>': 1, 'đất': 2, 'sử_dụng': 3, 'có': 4, 'của': 5, 'quy_định': 6, 'được': 7, 'và': 8, 'theo': 9, 'cho': 10, 'thuê': 11, 'quyền': 12, 'đất_đai': 13, 'các': 14, 'cấp': 15, 'này': 16, 'về': 17, 'thực_hiện': 18, 'luật': 19, 'tại': 20, 'điều': 21, 'với': 22, 'giao': 23, 'pháp_luật': 24, 'để': 25, 'nhà_nước': 26, 'thì': 27, 'không': 28, 'tổ_chức': 29, 'việc': 30, 'quản_lý': 31, 'trong': 32, 'trường_hợp': 33, 'đối_với': 34, 'xây_dựng': 35, 'cơ_quan': 36, 'khoản': 37, 'nhân_dân': 38, 'đã': 39, 'sau': 40, '1': 41, '2': 42, 'đầu_tư': 43, 'mục_đích': 44, 'người': 45, 'ủy_ban': 46, 'thẩm_quyền': 47, 'phải': 48, 'a': 49, 'giấy': 50, 'chứng_nhận': 51, 'b': 52, 'ở': 53, 'tiền': 54, 'quy_hoạch': 55, 'thời_hạn': 56, 'hoặc': 57, '3': 58, 'tài_sản': 59, 'cá_nhân': 60, 'sở_hữu': 61, 'khu': 62, 'công_trình': 63, 'quyết_định': 64, 'khác': 65, 'rừng': 66, 'gắn': 67, 'liền': 68, 'chuyển': 69, 'nông_nghiệp': 70, 'c': 71, 'giá': 72, 'cơ_sở': 73, 'năm': 74, 'nhà': 75, 'mà': 76, 'tỉnh': 77, 'dự_án': 78, 'khi': 79, 'kinh_tế': 80, 'thi_hành': 81, 'ngày': 82, 'vào': 83, 'diện_tích': 84, 'trách_nhiệm': 85, 'lại': 86, 'tiền_sử_dụng': 87, 'phê_duyệt': 88, '4': 89, 'thông_tin': 90, 'sản_xuất': 91, 'thuộc': 92, 'trước': 93, 'đến': 94, 'bảo_vệ': 95, 'là': 96, 'thủ_tục': 97, 'đây': 98, 'thu_hồi': 99, 'dữ_liệu': 100, 'd': 101, 'như': 102, 'trên': 103, 'thửa': 104, 'tranh_chấp': 105, 'quốc_gia': 106, 'bảo_đảm': 107, 'hiệu_lực': 108, 'hành_chính': 109, 'điểm': 110, 'liên_quan': 111, '5': 112, 'hoạt_động': 113, 'khu_vực': 114, 'điều_chỉnh': 115, 'từ': 116, 'giải_quyết': 117, 'xã': 118, 'dịch_vụ': 119, 'huyện': 120, 'thu': 121, 'chính_phủ': 122, 'địa_phương': 123, 'biển': 124, 'môi_trường': 125, 'do': 126, 'làm': 127, 'tiếp_tục': 128, 'phương_án': 129, 'đấu_giá': 130, 'tính': 131, 'bổ_sung': 132, 'một': 133, 'nhận': 134, 'bao_gồm': 135, 'chi_tiết': 136, 'quốc_phòng': 137, 'số': 138, 'đ': 139, 'an_ninh': 140, 'nước_ngoài': 141, 'xác_định': 142, 'hình_thức': 143, 'khai_thác': 144, 'kế_hoạch': 145, 'phù_hợp': 146, 'phục_vụ': 147, 'trả': 148, 'chưa': 149, 'kinh_doanh': 150, 'đơn_vị': 151, 'hội_đồng': 152, 'chủ_tịch': 153, 'bộ': 154, 'nuôi_trồng': 155, 'chức_năng': 156, 'vốn': 157, 'hồ_sơ': 158, 'sang': 159, 'hằng': 160, 'xác_định_giá': 161, 'công_nghiệp': 162, 'kết_hợp': 163, 'điều_kiện': 164, 'việt_nam': 165, 'thời_điểm': 166, 'đúng': 167, '6': 168, 'nhưng': 169, 'hòa': 170, 'phát_triển': 171, 'quá': 172, 'nộp': 173, 'xử_lý': 174, 'bảng': 175, 'chính_sách': 176, 'gia_hạn': 177, 'trồng': 178, 'chủ': 179, 'công': 180, 'hạn_mức': 181, 'nghĩa_vụ': 182, 'giải': 183, 'kiểm_tra': 184, 'cụ_thể': 185, 'loại': 186, 'sửa_đổi': 187, 'kết_cấu_hạ_tầng': 188, 'bằng': 189, 'thương_mại': 190, 'hộ': 191, 'an_toàn': 192, 'hỗ_trợ': 193, 'phần': 194, 'áp_dụng': 195, 'bồi_thường': 196, 'gia_đình': 197, 'thủy_sản': 198, 'nhu_cầu': 199, '7': 200, 'thời_gian': 201, 'phép': 202, 'bên': 203, 'đó': 204, 'cả': 205, 'định_giá': 206, 'nơi': 207, 'trình': 208, 'tập_trung': 209, 'trừ': 210, 'còn': 211, 'hệ_thống': 212, 'công_nhận': 213, 'lần': 214, 'xã_hội': 215, 'phi': 216, '01': 217, 'quỹ': 218, 'lấn': 219, 'đang': 220, 'bị': 221, 'đăng_ký': 222, 'thanh_tra': 223, 'tháng': 224, 'lập': 225, 'góp': 226, 'e': 227, 'kỹ_thuật': 228, 'tái_định_cư': 229, 'ven': 230, 'từng': 231, 'tư_vấn': 232, 'hết': 233, 'đánh_giá': 234, 'văn_bản': 235, 'yêu_cầu': 236, 'nội_dung': 237, 'nước': 238, 'địa_bàn': 239, 'đô_thị': 240, 'công_nghệ': 241, 'dân_cư': 242, 'đặc_dụng': 243, 'phòng_hộ': 244, 'tôn_giáo': 245, 'định_cư': 246, 'căn_cứ': 247, 'cung_cấp': 248, 'chuyển_nhượng': 249, 'tài_nguyên': 250, 'cây': 251, 'hạ_tầng': 252, 'văn_hóa': 253, 'đối_tượng': 254, 'quốc_hội': 255, 'công_cộng': 256, 'phạm_vi': 257, 'xem_xét': 258, 'sự_nghiệp': 259, 'lúa': 260, 'nếu': 261, 'kiến_nghị': 262, 'nông_thôn': 263, 'chịu': 264, 'công_nghệ_cao': 265, 'vận_hành': 266, 'gửi': 267, 'vi_phạm': 268, 'ngầm': 269, 'thẩm_định': 270, 'kết_quả': 271, 'gốc': 272, 'theo_dõi': 273, 'hành_lang': 274, 'hướng_dẫn': 275, 'trúng': 276, 'muối': 277, 'công_an': 278, 'ảnh_hưởng': 279, 'thông_qua': 280, 'bộ_trưởng': 281, 'nhiệm_vụ': 282, 'trực_thuộc': 283, 'tách': 284, '452013qh13': 285, 'di_tích': 286, 'tòa_án': 287, 'hành_vi': 288, 'đưa': 289, 'vùng': 290, 'bãi': 291, 'lâm_nghiệp': 292, 'cùng': 293, 'thành_lập': 294, 'thành_viên': 295, 'trung_ương': 296, 'khiếu_nại': 297, 'ban': 298, 'mặt_nước': 299, 'cụm': 300, 'khoáng_sản': 301, 'tên': 302, 'án': 303, 'địa_chính': 304, 'ban_hành_quyết_định': 305, 'đường_sắt': 306, 'trực_tiếp': 307, 'tuân_thủ': 308, 'phương_pháp': 309, 'trình_tự': 310, 'cập_nhật': 311, 'cộng_đồng': 312, 'những': 313, 'chủ_trương': 314, 'giám_sát': 315, 'kể': 316, 'g': 317, 'đủ': 318, 'lịch_sử': 319, 'tài_chính': 320, 'đại_diện': 321, 'lực_lượng': 322, 'công_tác': 323, 'hàng_không': 324, 'đề_nghị': 325, 'thẩm_định_giá': 326, 'phần_mềm': 327, 'sông': 328, 'chấp_thuận': 329, 'một_số': 330, 'ổn_định': 331, 'cảng': 332, 'sân_bay': 333, 'trụ_sở': 334, '9': 335, 'lựa_chọn': 336, 'quá_trình': 337, 'khoa_học': 338, 'sinh_thái': 339, 'danh_lam': 340, 'thắng_cảnh': 341, 'thiên_nhiên': 342, 'hợp': 343, 'dược_liệu': 344, 'vi_phạm_pháp_luật': 345, 'giữa': 346, 'lĩnh_vực': 347, 'công_lập': 348, 'phương_thức': 349, 'nguyên_tắc': 350, 'phương_pháp_định_giá': 351, '8': 352, 'ngành': 353, 'tố_cáo': 354, 'khuyến_khích': 355, '30': 356, 'giải_trí': 357, 'chuyên_ngành': 358, 'doanh_nghiệp': 359, 'đổi': 360, 'gây': 361, 'h': 362, 'mặt_đất': 363, 'công_khai': 364, 'hợp_đồng': 365, 'giá_trị': 366, 'hiệu_quả': 367, 'tham_gia': 368, 'mình': 369, 'kết_nối': 370, 'điện_tử': 371, 'kịp_thời': 372, 'nâng_cấp': 373, 'thành': 374, 'di_sản': 375, 'bồi': 376, 'thực_tế': 377, 'bố_trí': 378, 'tự': 379, 'du_lịch': 380, 'ký': 381, 'chính': 382, 'công_bố': 383, 'ghi': 384, 'phát_hiện': 385, 'mục': 386, 'i': 387, 'miễn_giảm': 388, 'thu_nhập': 389, 'lưu_giữ': 390, 'ha': 391, 'phường': 392, 'thị_trấn': 393, 'bàn_giao': 394, 'nông_lâm_nghiệp': 395, 'hồ': 396, 'cảnh_quan': 397, 'đồng_thời': 398, 'chế_biến': 399, 'nông_sản': 400, 'lâm_sản': 401, 'hải_sản': 402, 'chỉnh_trang': 403, 'lao_động_sản_xuất': 404, 'chấp_hành': 405, 'công_chức': 406, 'nghỉ_dưỡng': 407, 'biện_pháp': 408, 'ngoài': 409, 'tăng': 410, 'thay_đổi': 411, 'lao_động': 412, 'sự': 413, 'quyết_định_giá': 414, 'yếu_tố': 415, 'tiết_kiệm': 416, '50': 417, 'nhiều': 418, '10': 419, 'chế_độ': 420, 'tài_liệu': 421, 'mặt_trận': 422, 'nguồn': 423, 'tín_ngưỡng': 424, 'nghĩa_trang': 425, 'tro': 426, 'cốt': 427, 'công_ty': 428, 'giấy_tờ': 429, 'tự_nhiên': 430, 'phối_hợp': 431, 'đời_sống': 432, 'thỏa_thuận': 433, 'trật_tự': 434, 'công_ích': 435, 'chung': 436, '03': 437, 'nhằm': 438, 'thông_báo': 439, 'bản_án': 440, 'thiệt_hại': 441, '05': 442, 'dân_tộc_thiểu_số': 443, 'chuyên_dùng': 444, 'đối_tác': 445, 'tư': 446, 'miễn': 447, 'hoàn_thành': 448, 'so_sánh': 449, 'thuế': 450, 'cần_thiết': 451, 'phó_chủ_tịch': 452, 'thủ_trưởng': 453, 'chuyển_đổi': 454, 'tạo': 455, 'ứng_dụng': 456, 'tang_lễ': 457, 'hỏa_táng': 458, 'đơn': 459, 'rà_soát': 460, 'tình_hình': 461, 'vượt': 462, 'chăn_nuôi': 463, 'thủ_tướng': 464, 'thường_xuyên': 465, 'mở_rộng': 466, 'quân_sự': 467, 'khởi_kiện': 468, 'dân_sự': 469, 'phụ_trợ': 470, '136': 471, 'toàn_bộ': 472, 'chương': 473, 'ngân_sách': 474, 'đất_gắn': 475, 'ưu_đãi': 476, 'vũ_trang': 477, 'cải_tạo': 478, 'thị_trường': 479, 'lợi_ích': 480, 'ra': 481, 'thu_thập': 482, 'đi': 483, 'cao': 484, 'tối_thiểu': 485, 'nhau': 486, 'hơn': 487, 'đấu_thầu': 488, 'cuộc': 489, 'đầy_đủ': 490, 'tổ_quốc': 491, 'viên': 492, 'thiết_bị': 493, 'đường': 494, 'công_dân': 495, 'hiện_trạng': 496, 'quyền_hạn': 497, 'trực_tuyến': 498, 'kinh_phí': 499, 'lâu_dài': 500, 'thế_chấp': 501, 'đáp_ứng': 502, 'chiếm': 503, 'thiếu': 504, 'hợp_pháp': 505, 'ban_hành': 506, 'nghiên_cứu': 507, 'dành': 508, 'giảm': 509, 'dân_dụng': 510, 'vành_đai': 511, 'phản_ánh': 512, 'tố_tụng': 513, 'nghị_quyết': 514, '2014': 515, 'nguồn_gốc': 516, 'chậm': 517, 'tiến_độ': 518, 'khả_năng': 519, 'khó_khăn': 520, 'đồng_bào': 521, 'hàng': 522, 'đồng_ý': 523, 'ưu_tiên': 524, 'chia': 525, 'kề': 526, 'hệ_số': 527, 'khởi_điểm': 528, 'bán': 529, 'giúp': 530, 'mời': 531, 'làm_việc': 532, 'biên_bản': 533, 'lưu_trữ': 534, 'chính_trị': 535, 'thống_nhất': 536, 'đồng_bộ': 537, 'đa': 538, 'chia_sẻ': 539, 'giao_dịch': 540, 'bảo_trì': 541, '176': 542, '172': 543, 'mỗi': 544, 'tỉnh_thành_phố': 545, 'tặng': 546, 'bảo_tồn': 547, 'ranh_giới': 548, 'chỉ_đạo': 549, 'trái': 550, 'đầm': 551, 'thành_phố': 552, 'tác_động': 553, 'giao_thông': 554, 'lòng': 555, 'tích_tụ': 556, 'sắp_xếp': 557, 'ngăn_chặn': 558, 'cưỡng_chế': 559, 'kiểm_toán': 560, 'thu_hoạch': 561, '60': 562, 'tạm_thời': 563, 'nằm': 564, 'xác_nhận': 565, 'mới': 566, 'rõ': 567, 'chỉ': 568, 'thêm': 569, 'phí': 570, 'chu_kỳ': 571, 'tiếp_theo': 572, 'mức': 573, 'di_dời': 574, 'mặt_bằng': 575, 'k': 576, 'l': 577, 'thường_vụ': 578, 'chi_phí': 579, 'nhất': 580, 'cách': 581, 'lấy': 582, '12': 583, 'đất_liền': 584, 'vị_trí': 585, 'điều_chỉnh_sửa_đổi': 586, 'chuyên_môn': 587, 'chuyên_gia': 588, 'có_thể': 589, 'khách_quan': 590, 'ý_kiến': 591, 'họp': 592, 'nghề_nghiệp': 593, 'báo_cáo': 594, 'thành_phần': 595, 'điều_tra': 596, 'chính_xác': 597, 'bảo_quản': 598, 'bí_mật': 599, 'tuân': 600, '2025': 601, 'tích_hợp': 602, '11': 603, 'xử_lý_tài_sản': 604, 'hoàn_trả': 605, '15': 606, '218': 607, 'thời_kỳ': 608, 'giao_khoán': 609, 'mượn': 610, '16': 611, 'chuyên': 612, 'chất_lượng': 613, 'mất': 614, 'ao': 615, 'dưới': 616, 'đa_dạng': 617, 'sinh_học': 618, 'khí_hậu': 619, 'dân': 620, 'hợp_tác': 621, 'chỉnh_lý': 622, 'nhóm': 623, '33': 624, 'hiện': 625, 'gồm': 626, 'hưởng': 627, 'cảng_vụ': 628, 'chủ_yếu': 629, 'sông_ngòi': 630, 'kênh_rạch': 631, 'suối': 632, 'liên_kết': 633, 'tiếp_nhận': 634, 'giải_pháp': 635, 'tính_chất': 636, 'công_vụ': 637, '4a': 638, 'kỳ': 639, 'giải_thể': 640, 'nhập': 641, 'địa_giới': 642, 'đặt': 643, 'bất_động_sản': 644, 'quy_chế': 645, 'bãi_bỏ': 646, 'tháo_gỡ': 647, 'vướng_mắc': 648, '181': 649, 'mốc_giới': 650, '149': 651, 'giấy_phép': 652, 'đóng_góp': 653, 'đính_chính': 654, 'sai_sót': 655, 'so': 656, 'thể_hiện': 657, 'kết_luận': 658, 'biết': 659, 'hủy': 660, 'xử_phạt': 661, 'lệ_phí': 662, 'tỷ_lệ': 663, 'giai_đoạn': 664, '124': 665, 'nhà_chung_cư': 666, 'hải_đảo': 667, 'đảo': 668, 'đặc_biệt': 669, 'vận_tải': 670, 'hành_khách': 671, 'quân_đội': 672, 'chỗ': 673, 'nào': 674, 'minh_bạch': 675, 'độc_lập': 676, 'đầu_vào': 677, 'ghi_nhận': 678, 'qua': 679, '24': 680, 'cần': 681, 'giữ': 682, 'ước_tính': 683, 'tầng': 684, 'đầu': 685, 'cổ_phần_hóa': 686, 'tới': 687, 'cơ_quan_tài_chính': 688, 'trung_thực': 689, 'liên_thông': 690, 'truyền': 691, 'kiểm_kê': 692, 'tiêu_chuẩn': 693, 'quy_chuẩn': 694, 'phương_tiện': 695, 'triển_khai': 696, 'danh_mục': 697, 'cổng': 698, 'lâu': 699, 'xin': 700, '70': 701, 'ngoại_giao': 702, 'đồng_bằng': 703, '02': 704, 'lâu_năm': 705, '25': 706, 'thường_trú': 707, 'thừa_kế': 708, 'chuyển_dịch': 709, '1993': 710, 'giáo_dục': 711, 'nông_lâm_trường': 712, 'khoán_trắng': 713, '2004': 714, '137': 715, 'hạn_chế': 716, 'mặt': 717, 'xen_kẽ': 718, 'đầu_tư_sản_xuất': 719, 'vùng_đất': 720, 'không_gian': 721, 'bồi_tụ': 722, 'quốc_tế': 723, 'hạng_mục': 724, 'quan_trọng': 725, 'lợi': 726, 'sạt_lở': 727, 'tự_nguyện': 728, 'đặc_điểm': 729, 'địa_hình': 730, 'nghề': 731, 'tuyên_truyền': 732, 'phổ_biến': 733, '34': 734, 'vệ_sinh': 735, 'chung_cư': 736, 'nhỏ': 737, 'chế_xuất': 738, 'thăm_dò': 739, 'cản_trở': 740, 'trực_tiếp_quản_lý': 741, 'trái_phép': 742, 'tương_ứng': 743, 'lối': 744, 'chi_nhánh': 745, 'trao': 746, 'thực_địa': 747, 'đôn_đốc': 748, 'trọng_tài': 749, 'kỷ_luật': 750, 'vi_phạm_quy_định': 751, 'viên_chức': 752, 'điều_khoản': 753, 'nguồn_lực': 754, 'định_hướng': 755, 'thứ': 756, '20': 757, 'chính_phủ_phê_duyệt': 758, 'nan': 759, '14': 760, '53': 761, '56': 762, '1322020qh14': 763, 'thí_điểm': 764, 'tồn_đọng': 765, 'nay': 766, '2005': 767, 'khoán': 768, 'thẩm_quyền_trừ': 769, 'kê_biên': 770, 'khẩn_cấp': 771, 'lấn_chiếm': 772, 'xếp_hạng': 773, 'tạo_lập': 774, '148': 775, 'kê_khai': 776, 'biến_động': 777, 'đo_đạc': 778, '159': 779, 'cách_mạng': 780, 'nghèo': 781, 'lưu_trú': 782, 'công_nhân': 783, 'biên_giới': 784, '120': 785, 'đón': 786, 'hàng_hóa': 787, 'hợp_tác_xã': 788, 'thoát': 789, 'hài': 790, 'điều_tra_khảo_sát': 791, 'trở': 792, 'gần': 793, 'tương_đồng_nhất_định': 794, 'phân_tích': 795, 'bình_quân': 796, 'biểu_quyết': 797, 'thặng_dư': 798, 'tổng_doanh_thu': 799, 'tổng_chi_phí': 800, 'nhân': 801, 'bồi_thường_khi': 802, 'thấp': 803, 'đề_xuất': 804, 'chuẩn': 805, 'trúng_thầu': 806, 'danh_sách': 807, 'ít_nhất': 808, 'mục_tiêu': 809, 'cải_cách': 810, 'hướng': 811, 'cơ_bản': 812, 'tiện_ích': 813, 'phục_hồi': 814, 'thống_kê': 815, 'thuận_lợi': 816, 'tiếp_cận': 817, 'gia_tăng': 818, 'mạng': 819, 'thuận_tiện': 820, 'đơn_giản': 821, 'công_quốc_gia': 822, '199': 823, '213': 824, 'phá': 825, 'dỡ': 826, '81': 827, 'trung_du': 828, 'miền': 829, 'núi': 830, 'cơ_cấu': 831, 'cây_trồng': 832, 'vật_nuôi': 833, 'dân_tộc': 834, 'phong_tục': 835, 'tập_quán': 836, 'liên_doanh': 837, 'năng_suất': 838, 'trồng_trọt': 839, 'trở_lại': 840, 'biện_pháp_bảo_vệ': 841, 'chất_thải': 842, 'xung_quanh': 843, 'cư_trú': 844, 'chính_quyền': 845, 'di_dân': 846, 'quận': 847, 'hệ': 848, 'chủ_quyền': 849, 'điều_ước': 850, 'cộng_hòa': 851, 'chủ_nghĩa': 852, 'dựa': 853, 'bền_vững': 854, 'cá': 855, 'neo': 856, 'đậu': 857, 'tránh': 858, 'bão': 859, 'hàng_hải': 860, 'tiến_hành': 861, 'nổi': 862, 'cù_lao': 863, 'thường': 864, 'phòng_chống': 865, 'dồn_điền': 866, 'quyền_lợi_ích': 867, 'việc_làm': 868, 'nội_bộ': 869, '219': 870, 'bảo_toàn_diện_tích': 871, 'chủ_trì': 872, 'vừa': 873, 'ô_nhiễm': 874, 'lớp': 875, 'hợp_lý': 876, 'khắc_phục': 877, 'luật_di_sản': 878, 'dạng': 879, 'đầm_phá': 880, 'thủy_điện': 881, 'thủy_lợi': 882, '82': 883, '86': 884, 'bưu_chính': 885, 'phân_loại': 886, 'đồng': 887, 'thuận': 888, 'lớn': 889, 'bắt_buộc': 890, 'phân_chia': 891, 'dễ': 892, 'góp_phần': 893, 'pháp_lý': 894, 'số_lượng': 895, 'quy_trình': 896, 'trích': 897, 'chuẩn_bị': 898, 'xv': 899, 'lợi_dụng': 900, 'thu_nhận': 901, 'quy_tắc': 902, 'nâng': 903, '236': 904, 'phát_sinh': 905, 'tùy': 906, 'mức_độ': 907, 'truy_cứu': 908, 'hình_sự': 909, '27': 910, '1a': 911, '19': 912, '2a': 913, '129': 914, 'mua': 915, 'giảng_dạy': 916, 'thực_tập': 917, 'đề_án': 918, 'quan_tâm': 919, '352018qh14': 920, '190': 921, '2024': 922, '612022qh15': 923, '2021': 924, '2030': 925, 'khung': 926, '132003qh11': 927, 'nhà_đất': 928, '179': 929, 'đất_nhận': 930, 'vật_liệu': 931, 'tranh': 932, 'tre': 933, 'nứa': 934, 'lá': 935, 'giải_tỏa': 936, 'cấm': 937, 'duyệt': 938, 'tuyên_hủy_e': 939, 'lý_do': 940, '239': 941, '240': 942, 'giao_nộp': 943, 'xi': 944, 'thuế_sử_dụng': 945, 'thuế_thu_nhập': 946, 'tổng_chỉ_số': 947, 'tiêu_dùng': 948, 'cpi': 949, '160': 950, 'đơn_giá': 951, 'hợp_lệ': 952, 'ban_hành_quyết_định_giá': 953, '180': 954, '121': 955, 'chênh_lệch': 956, 'thương_binh': 957, 'bệnh_binh': 958, 'liệt_sĩ': 959, 'nguy_cơ': 960, 'đe_dọa': 961, 'tính_mạng': 962, 'con_người': 963, 'đỗ': 964, 'xe': 965, 'xưởng': 966, 'bảo_dưỡng': 967, 'chạy_tàu': 968, 'tiễn': 969, 'xếp_dỡ': 970, 'sân': 971, 'phơi': 972, 'nhà_kho': 973, 'nhà_xưởng': 974, 'liên_hiệp': 975, 'nước_sạch': 976, 'nước_thải': 977, 'di_chuyển': 978, 'trung_thực_khách_quan': 979, 'doanh_thu': 980, 'hình_thành': 981, '91': 982, '155': 983, 'loại_trừ': 984, 'ròng': 985, 'lãi_suất': 986, 'kỳ_hạn': 987, 'ngân_hàng': 988, 'nắm': 989, 'điều_lệ': 990, 'tổng_số': 991, 'cổ_phần': 992, 'quý': 993, 'số_liệu': 994, 'mật_độ': 995, 'tối_đa': 996, 'quy_định_giá': 997, 'bản_đồ': 998, '2026': 999, 'lãnh_đạo': 1000, 'phòng_ban': 1001, 'tổ': 1002, 'giúp_việc': 1003, 'tập_thể': 1004, 'đa_số': 1005, 'ghi_chép': 1006, 'thảo_luận': 1007, 'tham_dự': 1008, 'đạo_đức': 1009, 'cử': 1010, 'đất_k': 1011, 'hoạt_động_kinh_doanh': 1012, 'hành_nghề': 1013, 'xii': 1014, 'nền_tảng': 1015, 'nền': 1016, 'tập_hợp': 1017, 'máy_chủ': 1018, 'máy': 1019, 'trạm': 1020, 'kết_nối_mạng': 1021, 'ngoại_vi': 1022, 'quy_phạm_pháp_luật': 1023, 'tiếp': 1024, 'cấu_trúc': 1025, 'kiểu': 1026, 'phân_cấp': 1027, 'chính_thức': 1028, 'tương_đương': 1029, 'phản_hồi': 1030, 'sản_phẩm': 1031, 'xác_thực': 1032, 'năng_lực': 1033, 'cấp_độ': 1034, 'in': 1035, 'sao': 1036, 'vận_chuyển_giao_nhận': 1037, 'xiii': 1038, '178': 1039, '173': 1040, '174': 1041, '171': 1042, '99': 1043, 'cuối': 1044, '06': 1045, 'bất_khả_kháng': 1046, 'nợ': 1047, 'đông_nam_bộ': 1048, 'cửu_long': 1049, 'tổng_hạn_mức': 1050, 'lao_động_cơ_cấu': 1051, 'đô_thị_hóa': 1052, 'thương_lượng': 1053, '182': 1054, 'bản_sắc': 1055, 'thể_dục': 1056, 'thể_thao': 1057, 'vui_chơi': 1058, 'y_tế': 1059, 'chợ': 1060, 'tình_nghĩa': 1061, 'tình_thương': 1062, 'đại_đoàn_kết': 1063, 'liên_kết_hợp_tác': 1064, '2015': 1065, 'quốc_doanh': 1066, 'giao_diện_tích': 1067, 'vụ': 1068, 'lên': 1069, 'hiện_đại': 1070, 'độ_phì': 1071, 'nhà_nước_ngoài': 1072, 'canh_tác': 1073, 'trang_trại': 1074, 'riêng_biệt': 1075, 'đóng': 1076, '45': 1077, 'đào_tạo': 1078, 'khỏi': 1079, 'phân': 1080, 'nghiêm_ngặt': 1081, 'thị_xã': 1082, 'san_lấp': 1083, 'đào': 1084, 'trữ': 1085, 'cản_trở_việc': 1086, 'nhiễm': 1087, 'mặn': 1088, 'chứa': 1089, 'tài_phán': 1090, 'thiên_tai_biến_đổi': 1091, 'dâng': 1092, 'vườn': 1093, 'dự_trữ': 1094, 'loài': 1095, 'sinh': 1096, 'cảnh': 1097, 'ngập': 1098, 'trú': 1099, 'tàu': 1100, 'cầu_cảng': 1101, 'quay': 1102, 'trở_tàu': 1103, 'chuyển_tải': 1104, 'hoa_tiêu': 1105, 'kiểm_dịch': 1106, 'luồng': 1107, 'xây': 1108, 'cửa_sông': 1109, 'ngang': 1110, 'định': 1111, 'huyện_thị_xã': 1112, 'bờ': 1113, 'thiên_tai': 1114, 'dân_chủ_công_bằng': 1115, 'thực_nghiệm': 1116, 'chế_biến_dịch_vụ': 1117, 'kho_bãi': 1118, 'nhân_dân_vệ_sinh': 1119, 'hiện_đại_hóa': 1120, 'sống': 1121, 'tận_dụng': 1122, 'sẵn': 1123, 'nội_thành_nội': 1124, 'thị': 1125, '79': 1126, 'phục_vụ_lợi_ích': 1127, 'cộng_đồng_bằng': 1128, 'đảng': 1129, 'cộng_sản': 1130, '78': 1131, 'biến_dạng': 1132, 'vì': 1133, 'quốc_gia_công_cộng': 1134, '201': 1135, 'hướng_nghiệp': 1136, 'dạy': 1137, 'phạm_nhân': 1138, 'rèn_luyện': 1139, 'tăng_gia_sản_xuất': 1140, 'cải_thiện': 1141, 'hậu_cần': 1142, 'thành_quả': 1143, 'chấm_dứt': 1144, 'tự_ý': 1145, 'mua_bán': 1146, 'thu_hút': 1147, 'trường_hợp_thời_hạn': 1148, 'dài': 1149, 'tổng_thời_hạn': 1150, 'đầu_tư_thông_qua': 1151, 'khấu_trừ': 1152, 'thuế_quan': 1153, 'bảo': 1154, 'giải_phóng': 1155, 'thích_hợp': 1156, 'trạng_thái': 1157, '44': 1158, 'phân_định': 1159, '118': 1160, '207': 1161, 'ga': 1162, 'nhà_ga': 1163, 'chủ_công_trình': 1164, 'cấu_thành': 1165, 'phát_huy': 1166, 'đình': 1167, 'đền': 1168, 'miếu': 1169, 'am': 1170, 'nhà_thờ': 1171, 'họ': 1172, 'chùa': 1173, 'địa_điểm': 1174, 'sinh_hoạt': 1175, 'tín_đồ': 1176, 'nghiêm_cấm': 1177, 'thủy_văn': 1178, 'phụ_cận': 1179, 'đập': 1180, 'chứa_nước': 1181, 'dòng_chảy': 1182, 'thủy': 1183, 'kiến_trúc': 1184, 'bề_mặt': 1185, 'nêu': 1186, 'chăn_nuôi_trồng': 1187, '188': 1188, '189': 1189, '215': 1190, 'viễn_thông': 1191, 'quảng_cáo': 1192, 'ngoài_trời': 1193, 'điện': 1194, 'mặt_trời': 1195, 'kết_hợp_thời_hạn': 1196, 'nhất_định': 1197, 'dự_kiến': 1198, 'thiết_kế': 1199, 'liên_danh': 1200, 'cấp_nước': 1201, 'một_cách': 1202, 'kích_thước': 1203, 'vùng_biên_giới': 1204, 'ít': 1205, 'phục_vụ_việc': 1206, 'xiv': 1207, 'kiểm_đếm': 1208, 'bình_đẳng': 1209, 'chặt_chẽ': 1210, 'hiểu': 1211, 'lồng_ghép': 1212, 'công_sức': 1213, 'kiểm_soát': 1214, 'niêm_yết': 1215, 'đăng': 1216, 'trang': 1217, '126': 1218, 'đo': 1219, 'lục': 1220, 'đấu_giá_thành_công': 1221, 'trình_ủy_ban': 1222, 'hiến_pháp': 1223, 'sai_phạm': 1224, 'trả_lời': 1225, 'chuyển_đơn': 1226, 'định_kỳ': 1227, 'quy_mô': 1228, 'bộ_phận': 1229, 'thực_thi': 1230, 'chụp': 1231, 'ảnh': 1232, 'vệ_tinh': 1233, 'máy_bay': 1234, 'bay': 1235, 'xã_hội_học': 1236, 'tìm_hiểu': 1237, 'liên_tục': 1238, 'nghiệp_vụ': 1239, 'trưởng_đoàn': 1240, 'cơ_chế': 1241, 'hội_đồng_đại_diện': 1242, 'sinh_sống': 1243, 'tùy_từng': 1244, 'chữ_ký': 1245, 'lưu': 1246, 'đóng_dấu': 1247, 'đối_thoại': 1248, 'hai': 1249, 'nghiêm_chỉnh': 1250, 'sẽ': 1251, 'lạm_dụng': 1252, 'chức_vụ': 1253, 'trưng_dụng': 1254, 'xác_định_nghĩa_vụ': 1255, 'xảy': 1256, 'công_khai_thông_tin': 1257, 'đất_hủy_hoại': 1258, 'đứng': 1259, 'đầu_cơ_quan': 1260, 'cán_bộ': 1261, 'xvi': 1262, 'bối_cảnh': 1263, 'thực_trạng': 1264, 'dự_báo': 1265, 'xu_thế': 1266, 'quan_điểm': 1267, 'tầm': 1268, 'nhìn': 1269, 'thích_ứng': 1270, 'biến_đổi': 1271, 'chỉ_tiêu': 1272, 'đoạn': 1273, 'mở_đầu': 1274, 'tổng_thể': 1275, 'phân_kỳ': 1276, 'phụ_lục': 1277, 'ii': 1278, 'stt': 1279, '312024qh15': 1280, 'tổng_thời_gian': 1281, 'vùng_biển': 1282, 'vùng_trời': 1283, 'phân_quyền': 1284, '26': 1285, 'trung_hạn': 1286, '40': 1287, '42': 1288, '106': 1289, 'thuế_tính': 1290, 'cấp_thiết': 1291, 'tiêu_chí': 1292, 'dầu_khí': 1293, '23': 1294, 'm2': 1295, '29': 1296, '36': 1297, '152017qh14': 1298, '642020qh14': 1299, '072022qh15': 1300, '062017qh14': 1301, '162023qh15': 1302, '17': 1303, '2020': 1304, 'chuyển_tiếp': 1305, '248': 1306, '2022': 1307, 'tăng_cường': 1308, 'hiệu_quả_thực_hiện': 1309, 'đẩy': 1310, 'nhanh': 1311, 'gọi': 1312, '73': 1313, 'phân_bổ': 1314, 'khoanh': 1315, 'vùng_đất_đai': 1316, '212017qh14': 1317, 'chi_trả': 1318, '64': 1319, 'lỗi': 1320, 'bước': 1321, 'hóa': 1322, 'vẫn': 1323, '31': 1324, 'quan_hệ': 1325, 'tư_cách': 1326, '37': 1327, 'hoàn_thiện': 1328, 'làm_chủ': 1329, '123': 1330, '151': 1331, 'chủ_thể': 1332, 'ký_kết': 1333, '13': 1334, 'ứng': 1335, '662014qh13': 1336, '612020qh14': 1337, 'kế_thừa': 1338, 'khóa': 1339, 'bất_thường': 1340, 'thông_qua_ngày': 1341, '18': 1342, 'vương_đình_huệ': 1343}\n"
     ]
    }
   ],
   "source": [
    "df_train_corpus=CreateCorpus(df_train_compound)\n",
    "print(f\"Total Word: {len(df_train_corpus.word_index)+1}\")\n",
    "print(df_train_corpus.word_index)"
   ]
  },
  {
   "cell_type": "markdown",
   "metadata": {},
   "source": [
    "#### 2.5. Generate input data for training"
   ]
  },
  {
   "cell_type": "markdown",
   "metadata": {},
   "source": [
    "> Model n-gram"
   ]
  },
  {
   "cell_type": "code",
   "execution_count": 10,
   "metadata": {},
   "outputs": [],
   "source": [
    "def CreateInput(text_data):\n",
    "    input_sequences = []\n",
    "    for line in text_data:\n",
    "        token_list = df_train_corpus.texts_to_sequences([line])[0]\n",
    "        for i in range(1, len(token_list)):\n",
    "            n_gram_sequence = token_list[:i+1]\n",
    "            input_sequences.append(n_gram_sequence)\n",
    "    return input_sequences"
   ]
  },
  {
   "cell_type": "markdown",
   "metadata": {},
   "source": [
    "> Execute Function"
   ]
  },
  {
   "cell_type": "code",
   "execution_count": 11,
   "metadata": {},
   "outputs": [
    {
     "name": "stdout",
     "output_type": "stream",
     "text": [
      "[[41, 45], [41, 45, 3]]\n"
     ]
    }
   ],
   "source": [
    "input_sequences=CreateInput(df_train_compound)\n",
    "print(input_sequences[0:2])"
   ]
  },
  {
   "cell_type": "markdown",
   "metadata": {},
   "source": [
    "> Longest sentence"
   ]
  },
  {
   "cell_type": "code",
   "execution_count": 12,
   "metadata": {},
   "outputs": [
    {
     "name": "stdout",
     "output_type": "stream",
     "text": [
      "1352\n"
     ]
    }
   ],
   "source": [
    "max_sequence_len = max([len(seq) for seq in input_sequences])\n",
    "print(max_sequence_len)"
   ]
  },
  {
   "cell_type": "markdown",
   "metadata": {},
   "source": [
    ">Padding"
   ]
  },
  {
   "cell_type": "code",
   "execution_count": 13,
   "metadata": {},
   "outputs": [],
   "source": [
    "def Padding(Vi):\n",
    "    input_sequences = np.array(pad_sequences(Vi, maxlen=max_sequence_len, padding='pre'))\n",
    "    return input_sequences"
   ]
  },
  {
   "cell_type": "markdown",
   "metadata": {},
   "source": [
    "> Execute Function"
   ]
  },
  {
   "cell_type": "code",
   "execution_count": 14,
   "metadata": {},
   "outputs": [],
   "source": [
    "sequence=Padding(input_sequences)"
   ]
  },
  {
   "cell_type": "code",
   "execution_count": 15,
   "metadata": {},
   "outputs": [
    {
     "name": "stdout",
     "output_type": "stream",
     "text": [
      "[[ 0  0  0  0  0  0  0  0  0  0  0  0  0  0  0  0  0  0  0  0  0  0  0  0\n",
      "   0  0  0  0  0  0  0  0  0  0  0  0  0  0  0  0  0  0  0  0  0  0  0  0\n",
      "   0  0  0  0  0  0  0  0  0  0  0  0  0  0  0  0  0  0  0  0  0  0  0  0\n",
      "   0  0  0  0  0  0  0  0  0  0  0  0  0  0  0  0  0  0  0  0  0  0  0  0\n",
      "   0  0  0  0  0  0  0  0  0  0  0  0  0  0  0  0  0  0  0  0  0  0  0  0\n",
      "   0  0  0  0  0  0  0  0  0  0  0  0  0  0  0  0  0  0  0  0  0  0  0  0\n",
      "   0  0  0  0  0  0  0  0  0  0  0  0  0  0  0  0  0  0  0  0  0  0  0  0\n",
      "   0  0  0  0  0  0  0  0  0  0  0  0  0  0  0  0  0  0  0  0  0  0  0  0\n",
      "   0  0  0  0  0  0  0  0  0  0  0  0  0  0  0  0  0  0  0  0  0  0  0  0\n",
      "   0  0  0  0  0  0  0  0  0  0  0  0  0  0  0  0  0  0  0  0  0  0  0  0\n",
      "   0  0  0  0  0  0  0  0  0  0  0  0  0  0  0  0  0  0  0  0  0  0  0  0\n",
      "   0  0  0  0  0  0  0  0  0  0  0  0  0  0  0  0  0  0  0  0  0  0  0  0\n",
      "   0  0  0  0  0  0  0  0  0  0  0  0  0  0  0  0  0  0  0  0  0  0  0  0\n",
      "   0  0  0  0  0  0  0  0  0  0  0  0  0  0  0  0  0  0  0  0  0  0  0  0\n",
      "   0  0  0  0  0  0  0  0  0  0  0  0  0  0  0  0  0  0  0  0  0  0  0  0\n",
      "   0  0  0  0  0  0  0  0  0  0  0  0  0  0  0  0  0  0  0  0  0  0  0  0\n",
      "   0  0  0  0  0  0  0  0  0  0  0  0  0  0  0  0  0  0  0  0  0  0  0  0\n",
      "   0  0  0  0  0  0  0  0  0  0  0  0  0  0  0  0  0  0  0  0  0  0  0  0\n",
      "   0  0  0  0  0  0  0  0  0  0  0  0  0  0  0  0  0  0  0  0  0  0  0  0\n",
      "   0  0  0  0  0  0  0  0  0  0  0  0  0  0  0  0  0  0  0  0  0  0  0  0\n",
      "   0  0  0  0  0  0  0  0  0  0  0  0  0  0  0  0  0  0  0  0  0  0  0  0\n",
      "   0  0  0  0  0  0  0  0  0  0  0  0  0  0  0  0  0  0  0  0  0  0  0  0\n",
      "   0  0  0  0  0  0  0  0  0  0  0  0  0  0  0  0  0  0  0  0  0  0  0  0\n",
      "   0  0  0  0  0  0  0  0  0  0  0  0  0  0  0  0  0  0  0  0  0  0  0  0\n",
      "   0  0  0  0  0  0  0  0  0  0  0  0  0  0  0  0  0  0  0  0  0  0  0  0\n",
      "   0  0  0  0  0  0  0  0  0  0  0  0  0  0  0  0  0  0  0  0  0  0  0  0\n",
      "   0  0  0  0  0  0  0  0  0  0  0  0  0  0  0  0  0  0  0  0  0  0  0  0\n",
      "   0  0  0  0  0  0  0  0  0  0  0  0  0  0  0  0  0  0  0  0  0  0  0  0\n",
      "   0  0  0  0  0  0  0  0  0  0  0  0  0  0  0  0  0  0  0  0  0  0  0  0\n",
      "   0  0  0  0  0  0  0  0  0  0  0  0  0  0  0  0  0  0  0  0  0  0  0  0\n",
      "   0  0  0  0  0  0  0  0  0  0  0  0  0  0  0  0  0  0  0  0  0  0  0  0\n",
      "   0  0  0  0  0  0  0  0  0  0  0  0  0  0  0  0  0  0  0  0  0  0  0  0\n",
      "   0  0  0  0  0  0  0  0  0  0  0  0  0  0  0  0  0  0  0  0  0  0  0  0\n",
      "   0  0  0  0  0  0  0  0  0  0  0  0  0  0  0  0  0  0  0  0  0  0  0  0\n",
      "   0  0  0  0  0  0  0  0  0  0  0  0  0  0  0  0  0  0  0  0  0  0  0  0\n",
      "   0  0  0  0  0  0  0  0  0  0  0  0  0  0  0  0  0  0  0  0  0  0  0  0\n",
      "   0  0  0  0  0  0  0  0  0  0  0  0  0  0  0  0  0  0  0  0  0  0  0  0\n",
      "   0  0  0  0  0  0  0  0  0  0  0  0  0  0  0  0  0  0  0  0  0  0  0  0\n",
      "   0  0  0  0  0  0  0  0  0  0  0  0  0  0  0  0  0  0  0  0  0  0  0  0\n",
      "   0  0  0  0  0  0  0  0  0  0  0  0  0  0  0  0  0  0  0  0  0  0  0  0\n",
      "   0  0  0  0  0  0  0  0  0  0  0  0  0  0  0  0  0  0  0  0  0  0  0  0\n",
      "   0  0  0  0  0  0  0  0  0  0  0  0  0  0  0  0  0  0  0  0  0  0  0  0\n",
      "   0  0  0  0  0  0  0  0  0  0  0  0  0  0  0  0  0  0  0  0  0  0  0  0\n",
      "   0  0  0  0  0  0  0  0  0  0  0  0  0  0  0  0  0  0  0  0  0  0  0  0\n",
      "   0  0  0  0  0  0  0  0  0  0  0  0  0  0  0  0  0  0  0  0  0  0  0  0\n",
      "   0  0  0  0  0  0  0  0  0  0  0  0  0  0  0  0  0  0  0  0  0  0  0  0\n",
      "   0  0  0  0  0  0  0  0  0  0  0  0  0  0  0  0  0  0  0  0  0  0  0  0\n",
      "   0  0  0  0  0  0  0  0  0  0  0  0  0  0  0  0  0  0  0  0  0  0  0  0\n",
      "   0  0  0  0  0  0  0  0  0  0  0  0  0  0  0  0  0  0  0  0  0  0  0  0\n",
      "   0  0  0  0  0  0  0  0  0  0  0  0  0  0  0  0  0  0  0  0  0  0  0  0\n",
      "   0  0  0  0  0  0  0  0  0  0  0  0  0  0  0  0  0  0  0  0  0  0  0  0\n",
      "   0  0  0  0  0  0  0  0  0  0  0  0  0  0  0  0  0  0  0  0  0  0  0  0\n",
      "   0  0  0  0  0  0  0  0  0  0  0  0  0  0  0  0  0  0  0  0  0  0  0  0\n",
      "   0  0  0  0  0  0  0  0  0  0  0  0  0  0  0  0  0  0  0  0  0  0  0  0\n",
      "   0  0  0  0  0  0  0  0  0  0  0  0  0  0  0  0  0  0  0  0  0  0  0  0\n",
      "   0  0  0  0  0  0  0  0  0  0  0  0  0  0  0  0  0  0  0  0  0  0  0  0\n",
      "   0  0  0  0  0  0 41 45]\n",
      " [ 0  0  0  0  0  0  0  0  0  0  0  0  0  0  0  0  0  0  0  0  0  0  0  0\n",
      "   0  0  0  0  0  0  0  0  0  0  0  0  0  0  0  0  0  0  0  0  0  0  0  0\n",
      "   0  0  0  0  0  0  0  0  0  0  0  0  0  0  0  0  0  0  0  0  0  0  0  0\n",
      "   0  0  0  0  0  0  0  0  0  0  0  0  0  0  0  0  0  0  0  0  0  0  0  0\n",
      "   0  0  0  0  0  0  0  0  0  0  0  0  0  0  0  0  0  0  0  0  0  0  0  0\n",
      "   0  0  0  0  0  0  0  0  0  0  0  0  0  0  0  0  0  0  0  0  0  0  0  0\n",
      "   0  0  0  0  0  0  0  0  0  0  0  0  0  0  0  0  0  0  0  0  0  0  0  0\n",
      "   0  0  0  0  0  0  0  0  0  0  0  0  0  0  0  0  0  0  0  0  0  0  0  0\n",
      "   0  0  0  0  0  0  0  0  0  0  0  0  0  0  0  0  0  0  0  0  0  0  0  0\n",
      "   0  0  0  0  0  0  0  0  0  0  0  0  0  0  0  0  0  0  0  0  0  0  0  0\n",
      "   0  0  0  0  0  0  0  0  0  0  0  0  0  0  0  0  0  0  0  0  0  0  0  0\n",
      "   0  0  0  0  0  0  0  0  0  0  0  0  0  0  0  0  0  0  0  0  0  0  0  0\n",
      "   0  0  0  0  0  0  0  0  0  0  0  0  0  0  0  0  0  0  0  0  0  0  0  0\n",
      "   0  0  0  0  0  0  0  0  0  0  0  0  0  0  0  0  0  0  0  0  0  0  0  0\n",
      "   0  0  0  0  0  0  0  0  0  0  0  0  0  0  0  0  0  0  0  0  0  0  0  0\n",
      "   0  0  0  0  0  0  0  0  0  0  0  0  0  0  0  0  0  0  0  0  0  0  0  0\n",
      "   0  0  0  0  0  0  0  0  0  0  0  0  0  0  0  0  0  0  0  0  0  0  0  0\n",
      "   0  0  0  0  0  0  0  0  0  0  0  0  0  0  0  0  0  0  0  0  0  0  0  0\n",
      "   0  0  0  0  0  0  0  0  0  0  0  0  0  0  0  0  0  0  0  0  0  0  0  0\n",
      "   0  0  0  0  0  0  0  0  0  0  0  0  0  0  0  0  0  0  0  0  0  0  0  0\n",
      "   0  0  0  0  0  0  0  0  0  0  0  0  0  0  0  0  0  0  0  0  0  0  0  0\n",
      "   0  0  0  0  0  0  0  0  0  0  0  0  0  0  0  0  0  0  0  0  0  0  0  0\n",
      "   0  0  0  0  0  0  0  0  0  0  0  0  0  0  0  0  0  0  0  0  0  0  0  0\n",
      "   0  0  0  0  0  0  0  0  0  0  0  0  0  0  0  0  0  0  0  0  0  0  0  0\n",
      "   0  0  0  0  0  0  0  0  0  0  0  0  0  0  0  0  0  0  0  0  0  0  0  0\n",
      "   0  0  0  0  0  0  0  0  0  0  0  0  0  0  0  0  0  0  0  0  0  0  0  0\n",
      "   0  0  0  0  0  0  0  0  0  0  0  0  0  0  0  0  0  0  0  0  0  0  0  0\n",
      "   0  0  0  0  0  0  0  0  0  0  0  0  0  0  0  0  0  0  0  0  0  0  0  0\n",
      "   0  0  0  0  0  0  0  0  0  0  0  0  0  0  0  0  0  0  0  0  0  0  0  0\n",
      "   0  0  0  0  0  0  0  0  0  0  0  0  0  0  0  0  0  0  0  0  0  0  0  0\n",
      "   0  0  0  0  0  0  0  0  0  0  0  0  0  0  0  0  0  0  0  0  0  0  0  0\n",
      "   0  0  0  0  0  0  0  0  0  0  0  0  0  0  0  0  0  0  0  0  0  0  0  0\n",
      "   0  0  0  0  0  0  0  0  0  0  0  0  0  0  0  0  0  0  0  0  0  0  0  0\n",
      "   0  0  0  0  0  0  0  0  0  0  0  0  0  0  0  0  0  0  0  0  0  0  0  0\n",
      "   0  0  0  0  0  0  0  0  0  0  0  0  0  0  0  0  0  0  0  0  0  0  0  0\n",
      "   0  0  0  0  0  0  0  0  0  0  0  0  0  0  0  0  0  0  0  0  0  0  0  0\n",
      "   0  0  0  0  0  0  0  0  0  0  0  0  0  0  0  0  0  0  0  0  0  0  0  0\n",
      "   0  0  0  0  0  0  0  0  0  0  0  0  0  0  0  0  0  0  0  0  0  0  0  0\n",
      "   0  0  0  0  0  0  0  0  0  0  0  0  0  0  0  0  0  0  0  0  0  0  0  0\n",
      "   0  0  0  0  0  0  0  0  0  0  0  0  0  0  0  0  0  0  0  0  0  0  0  0\n",
      "   0  0  0  0  0  0  0  0  0  0  0  0  0  0  0  0  0  0  0  0  0  0  0  0\n",
      "   0  0  0  0  0  0  0  0  0  0  0  0  0  0  0  0  0  0  0  0  0  0  0  0\n",
      "   0  0  0  0  0  0  0  0  0  0  0  0  0  0  0  0  0  0  0  0  0  0  0  0\n",
      "   0  0  0  0  0  0  0  0  0  0  0  0  0  0  0  0  0  0  0  0  0  0  0  0\n",
      "   0  0  0  0  0  0  0  0  0  0  0  0  0  0  0  0  0  0  0  0  0  0  0  0\n",
      "   0  0  0  0  0  0  0  0  0  0  0  0  0  0  0  0  0  0  0  0  0  0  0  0\n",
      "   0  0  0  0  0  0  0  0  0  0  0  0  0  0  0  0  0  0  0  0  0  0  0  0\n",
      "   0  0  0  0  0  0  0  0  0  0  0  0  0  0  0  0  0  0  0  0  0  0  0  0\n",
      "   0  0  0  0  0  0  0  0  0  0  0  0  0  0  0  0  0  0  0  0  0  0  0  0\n",
      "   0  0  0  0  0  0  0  0  0  0  0  0  0  0  0  0  0  0  0  0  0  0  0  0\n",
      "   0  0  0  0  0  0  0  0  0  0  0  0  0  0  0  0  0  0  0  0  0  0  0  0\n",
      "   0  0  0  0  0  0  0  0  0  0  0  0  0  0  0  0  0  0  0  0  0  0  0  0\n",
      "   0  0  0  0  0  0  0  0  0  0  0  0  0  0  0  0  0  0  0  0  0  0  0  0\n",
      "   0  0  0  0  0  0  0  0  0  0  0  0  0  0  0  0  0  0  0  0  0  0  0  0\n",
      "   0  0  0  0  0  0  0  0  0  0  0  0  0  0  0  0  0  0  0  0  0  0  0  0\n",
      "   0  0  0  0  0  0  0  0  0  0  0  0  0  0  0  0  0  0  0  0  0  0  0  0\n",
      "   0  0  0  0  0 41 45  3]]\n"
     ]
    }
   ],
   "source": [
    "print(sequence[0:2])"
   ]
  },
  {
   "cell_type": "markdown",
   "metadata": {},
   "source": [
    ">Split data into x_train and y_train"
   ]
  },
  {
   "cell_type": "code",
   "execution_count": 135,
   "metadata": {},
   "outputs": [
    {
     "name": "stdout",
     "output_type": "stream",
     "text": [
      "(29700, 1351)\n",
      "(29700,)\n"
     ]
    }
   ],
   "source": [
    "X, y = sequence[:, :-1],sequence[:, -1]\n",
    "print(X.shape)\n",
    "print(y.shape)\n"
   ]
  },
  {
   "cell_type": "markdown",
   "metadata": {},
   "source": [
    "> Convert y_train to one hot vector"
   ]
  },
  {
   "cell_type": "code",
   "execution_count": 136,
   "metadata": {},
   "outputs": [
    {
     "name": "stdout",
     "output_type": "stream",
     "text": [
      "(29700, 1344)\n"
     ]
    }
   ],
   "source": [
    "y =to_categorical(y, num_classes=len(df_train_corpus.word_index)+1)\n",
    "print(y.shape)"
   ]
  },
  {
   "cell_type": "markdown",
   "metadata": {},
   "source": [
    "## 3 Built Model"
   ]
  },
  {
   "cell_type": "markdown",
   "metadata": {},
   "source": [
    "### 3.1. Design configuration for RNN network"
   ]
  },
  {
   "cell_type": "code",
   "execution_count": 137,
   "metadata": {},
   "outputs": [],
   "source": [
    "total_words=len(df_train_corpus.word_index)+1\n",
    "num_classes=len(df_train_corpus.word_index)+1\n",
    "embedding_size =100\n",
    "num_RNN_units = 128\n",
    "epochs=500\n",
    "dropout=0.2"
   ]
  },
  {
   "cell_type": "markdown",
   "metadata": {},
   "source": [
    "### 3.2 RNN Model"
   ]
  },
  {
   "cell_type": "code",
   "execution_count": 138,
   "metadata": {},
   "outputs": [],
   "source": [
    "model = Sequential()\n",
    "model.add(Embedding(total_words, embedding_size, name='embedding_layer')) \n",
    "model.add(Dropout(dropout,name='drop_out_layer1'))\n",
    "model.add(SimpleRNN(num_RNN_units, return_sequences=True, activation='relu', name='rnn_layer_1'))\n",
    "model.add(Dropout(dropout,name='drop_out_layer2'))\n",
    "model.add(SimpleRNN(num_RNN_units, activation='relu', name='rnn_layer_2'))\n",
    "model.add(Dense(num_classes, activation='softmax', name='output_layer'))\n"
   ]
  },
  {
   "cell_type": "markdown",
   "metadata": {},
   "source": [
    "### 3.3. Hyperparameter"
   ]
  },
  {
   "cell_type": "code",
   "execution_count": 139,
   "metadata": {},
   "outputs": [],
   "source": [
    "model.compile(loss='categorical_crossentropy', optimizer='adam', metrics=['accuracy'])"
   ]
  },
  {
   "cell_type": "markdown",
   "metadata": {},
   "source": [
    "### 3.4. Train"
   ]
  },
  {
   "cell_type": "markdown",
   "metadata": {},
   "source": [
    " >Monitor the trainning process to stop earlier"
   ]
  },
  {
   "cell_type": "code",
   "execution_count": 140,
   "metadata": {},
   "outputs": [],
   "source": [
    "# Khởi tạo callback EarlyStopping\n",
    "early_stopping_callback = EarlyStopping(\n",
    "    monitor='loss',  # Theo dõi mất mát trên tập huấn luyện\n",
    "    patience=30,          \n",
    "    restore_best_weights=True  \n",
    ")"
   ]
  },
  {
   "cell_type": "code",
   "execution_count": 141,
   "metadata": {},
   "outputs": [
    {
     "name": "stdout",
     "output_type": "stream",
     "text": [
      "Epoch 1/500\n",
      "\u001b[1m929/929\u001b[0m \u001b[32m━━━━━━━━━━━━━━━━━━━━\u001b[0m\u001b[37m\u001b[0m \u001b[1m606s\u001b[0m 649ms/step - accuracy: 0.0701 - loss: 6.2039\n",
      "Epoch 2/500\n",
      "\u001b[1m929/929\u001b[0m \u001b[32m━━━━━━━━━━━━━━━━━━━━\u001b[0m\u001b[37m\u001b[0m \u001b[1m598s\u001b[0m 644ms/step - accuracy: 0.2206 - loss: 4.5706\n",
      "Epoch 3/500\n",
      "\u001b[1m929/929\u001b[0m \u001b[32m━━━━━━━━━━━━━━━━━━━━\u001b[0m\u001b[37m\u001b[0m \u001b[1m596s\u001b[0m 642ms/step - accuracy: 0.2938 - loss: 3.9790\n",
      "Epoch 4/500\n",
      "\u001b[1m929/929\u001b[0m \u001b[32m━━━━━━━━━━━━━━━━━━━━\u001b[0m\u001b[37m\u001b[0m \u001b[1m597s\u001b[0m 642ms/step - accuracy: 0.3381 - loss: 3.5772\n",
      "Epoch 5/500\n",
      "\u001b[1m929/929\u001b[0m \u001b[32m━━━━━━━━━━━━━━━━━━━━\u001b[0m\u001b[37m\u001b[0m \u001b[1m594s\u001b[0m 639ms/step - accuracy: 0.3804 - loss: 3.2450\n",
      "Epoch 6/500\n",
      "\u001b[1m929/929\u001b[0m \u001b[32m━━━━━━━━━━━━━━━━━━━━\u001b[0m\u001b[37m\u001b[0m \u001b[1m591s\u001b[0m 636ms/step - accuracy: 0.4110 - loss: 2.9518\n",
      "Epoch 7/500\n",
      "\u001b[1m929/929\u001b[0m \u001b[32m━━━━━━━━━━━━━━━━━━━━\u001b[0m\u001b[37m\u001b[0m \u001b[1m594s\u001b[0m 640ms/step - accuracy: 0.4376 - loss: 2.7503\n",
      "Epoch 8/500\n",
      "\u001b[1m929/929\u001b[0m \u001b[32m━━━━━━━━━━━━━━━━━━━━\u001b[0m\u001b[37m\u001b[0m \u001b[1m593s\u001b[0m 638ms/step - accuracy: 0.4469 - loss: 2.5914\n",
      "Epoch 9/500\n",
      "\u001b[1m929/929\u001b[0m \u001b[32m━━━━━━━━━━━━━━━━━━━━\u001b[0m\u001b[37m\u001b[0m \u001b[1m593s\u001b[0m 639ms/step - accuracy: 0.4714 - loss: 2.4100\n",
      "Epoch 10/500\n",
      "\u001b[1m929/929\u001b[0m \u001b[32m━━━━━━━━━━━━━━━━━━━━\u001b[0m\u001b[37m\u001b[0m \u001b[1m594s\u001b[0m 639ms/step - accuracy: 0.4872 - loss: 2.2917\n",
      "Epoch 11/500\n",
      "\u001b[1m929/929\u001b[0m \u001b[32m━━━━━━━━━━━━━━━━━━━━\u001b[0m\u001b[37m\u001b[0m \u001b[1m594s\u001b[0m 639ms/step - accuracy: 0.5030 - loss: 2.1681\n",
      "Epoch 12/500\n",
      "\u001b[1m929/929\u001b[0m \u001b[32m━━━━━━━━━━━━━━━━━━━━\u001b[0m\u001b[37m\u001b[0m \u001b[1m594s\u001b[0m 639ms/step - accuracy: 0.5129 - loss: 2.0998\n",
      "Epoch 13/500\n",
      "\u001b[1m929/929\u001b[0m \u001b[32m━━━━━━━━━━━━━━━━━━━━\u001b[0m\u001b[37m\u001b[0m \u001b[1m595s\u001b[0m 640ms/step - accuracy: 0.5233 - loss: 2.0111\n",
      "Epoch 14/500\n",
      "\u001b[1m929/929\u001b[0m \u001b[32m━━━━━━━━━━━━━━━━━━━━\u001b[0m\u001b[37m\u001b[0m \u001b[1m594s\u001b[0m 640ms/step - accuracy: 0.5392 - loss: 1.9412\n",
      "Epoch 15/500\n",
      "\u001b[1m929/929\u001b[0m \u001b[32m━━━━━━━━━━━━━━━━━━━━\u001b[0m\u001b[37m\u001b[0m \u001b[1m597s\u001b[0m 642ms/step - accuracy: 0.5501 - loss: 1.8701\n",
      "Epoch 16/500\n",
      "\u001b[1m929/929\u001b[0m \u001b[32m━━━━━━━━━━━━━━━━━━━━\u001b[0m\u001b[37m\u001b[0m \u001b[1m627s\u001b[0m 675ms/step - accuracy: 0.5566 - loss: 1.8188\n",
      "Epoch 17/500\n",
      "\u001b[1m929/929\u001b[0m \u001b[32m━━━━━━━━━━━━━━━━━━━━\u001b[0m\u001b[37m\u001b[0m \u001b[1m605s\u001b[0m 651ms/step - accuracy: 0.5617 - loss: 1.7846\n",
      "Epoch 18/500\n",
      "\u001b[1m929/929\u001b[0m \u001b[32m━━━━━━━━━━━━━━━━━━━━\u001b[0m\u001b[37m\u001b[0m \u001b[1m587s\u001b[0m 632ms/step - accuracy: 0.5703 - loss: 1.7500\n",
      "Epoch 19/500\n",
      "\u001b[1m929/929\u001b[0m \u001b[32m━━━━━━━━━━━━━━━━━━━━\u001b[0m\u001b[37m\u001b[0m \u001b[1m586s\u001b[0m 631ms/step - accuracy: 0.5796 - loss: 1.6934\n",
      "Epoch 20/500\n",
      "\u001b[1m929/929\u001b[0m \u001b[32m━━━━━━━━━━━━━━━━━━━━\u001b[0m\u001b[37m\u001b[0m \u001b[1m587s\u001b[0m 632ms/step - accuracy: 0.5803 - loss: 1.6527\n",
      "Epoch 21/500\n",
      "\u001b[1m929/929\u001b[0m \u001b[32m━━━━━━━━━━━━━━━━━━━━\u001b[0m\u001b[37m\u001b[0m \u001b[1m588s\u001b[0m 632ms/step - accuracy: 0.5901 - loss: 1.6312\n",
      "Epoch 22/500\n",
      "\u001b[1m929/929\u001b[0m \u001b[32m━━━━━━━━━━━━━━━━━━━━\u001b[0m\u001b[37m\u001b[0m \u001b[1m586s\u001b[0m 631ms/step - accuracy: 0.5913 - loss: 1.6123\n",
      "Epoch 23/500\n",
      "\u001b[1m929/929\u001b[0m \u001b[32m━━━━━━━━━━━━━━━━━━━━\u001b[0m\u001b[37m\u001b[0m \u001b[1m585s\u001b[0m 630ms/step - accuracy: 0.5890 - loss: 1.5953\n",
      "Epoch 24/500\n",
      "\u001b[1m929/929\u001b[0m \u001b[32m━━━━━━━━━━━━━━━━━━━━\u001b[0m\u001b[37m\u001b[0m \u001b[1m586s\u001b[0m 631ms/step - accuracy: 0.6010 - loss: 1.5585\n",
      "Epoch 25/500\n",
      "\u001b[1m929/929\u001b[0m \u001b[32m━━━━━━━━━━━━━━━━━━━━\u001b[0m\u001b[37m\u001b[0m \u001b[1m586s\u001b[0m 631ms/step - accuracy: 0.6019 - loss: 1.5350\n",
      "Epoch 26/500\n",
      "\u001b[1m929/929\u001b[0m \u001b[32m━━━━━━━━━━━━━━━━━━━━\u001b[0m\u001b[37m\u001b[0m \u001b[1m585s\u001b[0m 630ms/step - accuracy: 0.5986 - loss: 1.5330\n",
      "Epoch 27/500\n",
      "\u001b[1m929/929\u001b[0m \u001b[32m━━━━━━━━━━━━━━━━━━━━\u001b[0m\u001b[37m\u001b[0m \u001b[1m586s\u001b[0m 631ms/step - accuracy: 0.6064 - loss: 1.5179\n",
      "Epoch 28/500\n",
      "\u001b[1m929/929\u001b[0m \u001b[32m━━━━━━━━━━━━━━━━━━━━\u001b[0m\u001b[37m\u001b[0m \u001b[1m585s\u001b[0m 630ms/step - accuracy: 0.6107 - loss: 1.4878\n",
      "Epoch 29/500\n",
      "\u001b[1m929/929\u001b[0m \u001b[32m━━━━━━━━━━━━━━━━━━━━\u001b[0m\u001b[37m\u001b[0m \u001b[1m586s\u001b[0m 631ms/step - accuracy: 0.6167 - loss: 1.4691\n",
      "Epoch 30/500\n",
      "\u001b[1m929/929\u001b[0m \u001b[32m━━━━━━━━━━━━━━━━━━━━\u001b[0m\u001b[37m\u001b[0m \u001b[1m586s\u001b[0m 631ms/step - accuracy: 0.6240 - loss: 1.4453\n",
      "Epoch 31/500\n",
      "\u001b[1m929/929\u001b[0m \u001b[32m━━━━━━━━━━━━━━━━━━━━\u001b[0m\u001b[37m\u001b[0m \u001b[1m587s\u001b[0m 632ms/step - accuracy: 0.6198 - loss: 1.4445\n",
      "Epoch 32/500\n",
      "\u001b[1m929/929\u001b[0m \u001b[32m━━━━━━━━━━━━━━━━━━━━\u001b[0m\u001b[37m\u001b[0m \u001b[1m587s\u001b[0m 631ms/step - accuracy: 0.6190 - loss: 1.4277\n",
      "Epoch 33/500\n",
      "\u001b[1m929/929\u001b[0m \u001b[32m━━━━━━━━━━━━━━━━━━━━\u001b[0m\u001b[37m\u001b[0m \u001b[1m587s\u001b[0m 632ms/step - accuracy: 0.6221 - loss: 1.4270\n",
      "Epoch 34/500\n",
      "\u001b[1m929/929\u001b[0m \u001b[32m━━━━━━━━━━━━━━━━━━━━\u001b[0m\u001b[37m\u001b[0m \u001b[1m587s\u001b[0m 632ms/step - accuracy: 0.6222 - loss: 1.4141\n",
      "Epoch 35/500\n",
      "\u001b[1m929/929\u001b[0m \u001b[32m━━━━━━━━━━━━━━━━━━━━\u001b[0m\u001b[37m\u001b[0m \u001b[1m587s\u001b[0m 632ms/step - accuracy: 0.6326 - loss: 1.3836\n",
      "Epoch 36/500\n",
      "\u001b[1m929/929\u001b[0m \u001b[32m━━━━━━━━━━━━━━━━━━━━\u001b[0m\u001b[37m\u001b[0m \u001b[1m589s\u001b[0m 634ms/step - accuracy: 0.6269 - loss: 1.4039\n",
      "Epoch 37/500\n",
      "\u001b[1m929/929\u001b[0m \u001b[32m━━━━━━━━━━━━━━━━━━━━\u001b[0m\u001b[37m\u001b[0m \u001b[1m587s\u001b[0m 632ms/step - accuracy: 0.6287 - loss: 1.3658\n",
      "Epoch 38/500\n",
      "\u001b[1m929/929\u001b[0m \u001b[32m━━━━━━━━━━━━━━━━━━━━\u001b[0m\u001b[37m\u001b[0m \u001b[1m587s\u001b[0m 631ms/step - accuracy: 0.6314 - loss: 1.3771\n",
      "Epoch 39/500\n",
      "\u001b[1m929/929\u001b[0m \u001b[32m━━━━━━━━━━━━━━━━━━━━\u001b[0m\u001b[37m\u001b[0m \u001b[1m571s\u001b[0m 615ms/step - accuracy: 0.6324 - loss: 1.3684\n",
      "Epoch 40/500\n",
      "\u001b[1m929/929\u001b[0m \u001b[32m━━━━━━━━━━━━━━━━━━━━\u001b[0m\u001b[37m\u001b[0m \u001b[1m585s\u001b[0m 629ms/step - accuracy: 0.6406 - loss: 1.3442\n",
      "Epoch 41/500\n",
      "\u001b[1m929/929\u001b[0m \u001b[32m━━━━━━━━━━━━━━━━━━━━\u001b[0m\u001b[37m\u001b[0m \u001b[1m589s\u001b[0m 634ms/step - accuracy: 0.6412 - loss: 1.3408\n",
      "Epoch 42/500\n",
      "\u001b[1m929/929\u001b[0m \u001b[32m━━━━━━━━━━━━━━━━━━━━\u001b[0m\u001b[37m\u001b[0m \u001b[1m591s\u001b[0m 636ms/step - accuracy: 0.6421 - loss: 1.3297\n",
      "Epoch 43/500\n",
      "\u001b[1m929/929\u001b[0m \u001b[32m━━━━━━━━━━━━━━━━━━━━\u001b[0m\u001b[37m\u001b[0m \u001b[1m591s\u001b[0m 636ms/step - accuracy: 0.6469 - loss: 1.2962\n",
      "Epoch 44/500\n",
      "\u001b[1m929/929\u001b[0m \u001b[32m━━━━━━━━━━━━━━━━━━━━\u001b[0m\u001b[37m\u001b[0m \u001b[1m591s\u001b[0m 636ms/step - accuracy: 0.6411 - loss: 1.3300\n",
      "Epoch 45/500\n",
      "\u001b[1m929/929\u001b[0m \u001b[32m━━━━━━━━━━━━━━━━━━━━\u001b[0m\u001b[37m\u001b[0m \u001b[1m591s\u001b[0m 636ms/step - accuracy: 0.6428 - loss: 1.3141\n",
      "Epoch 46/500\n",
      "\u001b[1m929/929\u001b[0m \u001b[32m━━━━━━━━━━━━━━━━━━━━\u001b[0m\u001b[37m\u001b[0m \u001b[1m591s\u001b[0m 636ms/step - accuracy: 0.6488 - loss: 1.2845\n",
      "Epoch 47/500\n",
      "\u001b[1m929/929\u001b[0m \u001b[32m━━━━━━━━━━━━━━━━━━━━\u001b[0m\u001b[37m\u001b[0m \u001b[1m591s\u001b[0m 636ms/step - accuracy: 0.6502 - loss: 1.2985\n",
      "Epoch 48/500\n",
      "\u001b[1m929/929\u001b[0m \u001b[32m━━━━━━━━━━━━━━━━━━━━\u001b[0m\u001b[37m\u001b[0m \u001b[1m593s\u001b[0m 638ms/step - accuracy: 0.6552 - loss: 1.2758\n",
      "Epoch 49/500\n",
      "\u001b[1m929/929\u001b[0m \u001b[32m━━━━━━━━━━━━━━━━━━━━\u001b[0m\u001b[37m\u001b[0m \u001b[1m589s\u001b[0m 634ms/step - accuracy: 0.6528 - loss: 1.2682\n",
      "Epoch 50/500\n",
      "\u001b[1m929/929\u001b[0m \u001b[32m━━━━━━━━━━━━━━━━━━━━\u001b[0m\u001b[37m\u001b[0m \u001b[1m591s\u001b[0m 636ms/step - accuracy: 0.6469 - loss: 1.2852\n",
      "Epoch 51/500\n",
      "\u001b[1m929/929\u001b[0m \u001b[32m━━━━━━━━━━━━━━━━━━━━\u001b[0m\u001b[37m\u001b[0m \u001b[1m591s\u001b[0m 637ms/step - accuracy: 0.6567 - loss: 1.2643\n",
      "Epoch 52/500\n",
      "\u001b[1m929/929\u001b[0m \u001b[32m━━━━━━━━━━━━━━━━━━━━\u001b[0m\u001b[37m\u001b[0m \u001b[1m591s\u001b[0m 637ms/step - accuracy: 0.6527 - loss: 1.2754\n",
      "Epoch 53/500\n",
      "\u001b[1m929/929\u001b[0m \u001b[32m━━━━━━━━━━━━━━━━━━━━\u001b[0m\u001b[37m\u001b[0m \u001b[1m591s\u001b[0m 636ms/step - accuracy: 0.6550 - loss: 1.2688\n",
      "Epoch 54/500\n",
      "\u001b[1m929/929\u001b[0m \u001b[32m━━━━━━━━━━━━━━━━━━━━\u001b[0m\u001b[37m\u001b[0m \u001b[1m592s\u001b[0m 638ms/step - accuracy: 0.6519 - loss: 1.2743\n",
      "Epoch 55/500\n",
      "\u001b[1m929/929\u001b[0m \u001b[32m━━━━━━━━━━━━━━━━━━━━\u001b[0m\u001b[37m\u001b[0m \u001b[1m591s\u001b[0m 636ms/step - accuracy: 0.6552 - loss: 1.2511\n",
      "Epoch 56/500\n",
      "\u001b[1m929/929\u001b[0m \u001b[32m━━━━━━━━━━━━━━━━━━━━\u001b[0m\u001b[37m\u001b[0m \u001b[1m593s\u001b[0m 638ms/step - accuracy: 0.6592 - loss: 1.2386\n",
      "Epoch 57/500\n",
      "\u001b[1m929/929\u001b[0m \u001b[32m━━━━━━━━━━━━━━━━━━━━\u001b[0m\u001b[37m\u001b[0m \u001b[1m591s\u001b[0m 636ms/step - accuracy: 0.6614 - loss: 1.2304\n",
      "Epoch 58/500\n",
      "\u001b[1m929/929\u001b[0m \u001b[32m━━━━━━━━━━━━━━━━━━━━\u001b[0m\u001b[37m\u001b[0m \u001b[1m592s\u001b[0m 638ms/step - accuracy: 0.6667 - loss: 1.2077\n",
      "Epoch 59/500\n",
      "\u001b[1m929/929\u001b[0m \u001b[32m━━━━━━━━━━━━━━━━━━━━\u001b[0m\u001b[37m\u001b[0m \u001b[1m592s\u001b[0m 637ms/step - accuracy: 0.6628 - loss: 1.2282\n",
      "Epoch 60/500\n",
      "\u001b[1m929/929\u001b[0m \u001b[32m━━━━━━━━━━━━━━━━━━━━\u001b[0m\u001b[37m\u001b[0m \u001b[1m592s\u001b[0m 637ms/step - accuracy: 0.6571 - loss: 1.2407\n",
      "Epoch 61/500\n",
      "\u001b[1m929/929\u001b[0m \u001b[32m━━━━━━━━━━━━━━━━━━━━\u001b[0m\u001b[37m\u001b[0m \u001b[1m592s\u001b[0m 637ms/step - accuracy: 0.6596 - loss: 1.2387\n",
      "Epoch 62/500\n",
      "\u001b[1m929/929\u001b[0m \u001b[32m━━━━━━━━━━━━━━━━━━━━\u001b[0m\u001b[37m\u001b[0m \u001b[1m593s\u001b[0m 638ms/step - accuracy: 0.6657 - loss: 1.2240\n",
      "Epoch 63/500\n",
      "\u001b[1m929/929\u001b[0m \u001b[32m━━━━━━━━━━━━━━━━━━━━\u001b[0m\u001b[37m\u001b[0m \u001b[1m592s\u001b[0m 637ms/step - accuracy: 0.6606 - loss: 1.2242\n",
      "Epoch 64/500\n",
      "\u001b[1m929/929\u001b[0m \u001b[32m━━━━━━━━━━━━━━━━━━━━\u001b[0m\u001b[37m\u001b[0m \u001b[1m595s\u001b[0m 640ms/step - accuracy: 0.6697 - loss: 1.1895\n",
      "Epoch 65/500\n",
      "\u001b[1m929/929\u001b[0m \u001b[32m━━━━━━━━━━━━━━━━━━━━\u001b[0m\u001b[37m\u001b[0m \u001b[1m593s\u001b[0m 638ms/step - accuracy: 0.6640 - loss: 1.2163\n",
      "Epoch 66/500\n",
      "\u001b[1m929/929\u001b[0m \u001b[32m━━━━━━━━━━━━━━━━━━━━\u001b[0m\u001b[37m\u001b[0m \u001b[1m593s\u001b[0m 638ms/step - accuracy: 0.6684 - loss: 1.1967\n",
      "Epoch 67/500\n",
      "\u001b[1m929/929\u001b[0m \u001b[32m━━━━━━━━━━━━━━━━━━━━\u001b[0m\u001b[37m\u001b[0m \u001b[1m570s\u001b[0m 614ms/step - accuracy: 0.6613 - loss: 1.2309\n",
      "Epoch 68/500\n",
      "\u001b[1m929/929\u001b[0m \u001b[32m━━━━━━━━━━━━━━━━━━━━\u001b[0m\u001b[37m\u001b[0m \u001b[1m565s\u001b[0m 608ms/step - accuracy: 0.6625 - loss: 1.2104\n",
      "Epoch 69/500\n",
      "\u001b[1m929/929\u001b[0m \u001b[32m━━━━━━━━━━━━━━━━━━━━\u001b[0m\u001b[37m\u001b[0m \u001b[1m571s\u001b[0m 614ms/step - accuracy: 0.6674 - loss: 1.1892\n",
      "Epoch 70/500\n",
      "\u001b[1m929/929\u001b[0m \u001b[32m━━━━━━━━━━━━━━━━━━━━\u001b[0m\u001b[37m\u001b[0m \u001b[1m574s\u001b[0m 618ms/step - accuracy: 0.6694 - loss: 1.1956\n",
      "Epoch 71/500\n",
      "\u001b[1m929/929\u001b[0m \u001b[32m━━━━━━━━━━━━━━━━━━━━\u001b[0m\u001b[37m\u001b[0m \u001b[1m565s\u001b[0m 608ms/step - accuracy: 0.6675 - loss: 1.2026\n",
      "Epoch 72/500\n",
      "\u001b[1m929/929\u001b[0m \u001b[32m━━━━━━━━━━━━━━━━━━━━\u001b[0m\u001b[37m\u001b[0m \u001b[1m605s\u001b[0m 651ms/step - accuracy: 0.6706 - loss: 1.1842\n",
      "Epoch 73/500\n",
      "\u001b[1m929/929\u001b[0m \u001b[32m━━━━━━━━━━━━━━━━━━━━\u001b[0m\u001b[37m\u001b[0m \u001b[1m673s\u001b[0m 724ms/step - accuracy: 0.6761 - loss: 1.1723\n",
      "Epoch 74/500\n",
      "\u001b[1m929/929\u001b[0m \u001b[32m━━━━━━━━━━━━━━━━━━━━\u001b[0m\u001b[37m\u001b[0m \u001b[1m589s\u001b[0m 634ms/step - accuracy: 0.6736 - loss: 1.1662\n",
      "Epoch 75/500\n",
      "\u001b[1m929/929\u001b[0m \u001b[32m━━━━━━━━━━━━━━━━━━━━\u001b[0m\u001b[37m\u001b[0m \u001b[1m592s\u001b[0m 637ms/step - accuracy: 0.6734 - loss: 1.1674\n",
      "Epoch 76/500\n",
      "\u001b[1m929/929\u001b[0m \u001b[32m━━━━━━━━━━━━━━━━━━━━\u001b[0m\u001b[37m\u001b[0m \u001b[1m592s\u001b[0m 637ms/step - accuracy: 0.6693 - loss: 1.1784\n",
      "Epoch 77/500\n",
      "\u001b[1m929/929\u001b[0m \u001b[32m━━━━━━━━━━━━━━━━━━━━\u001b[0m\u001b[37m\u001b[0m \u001b[1m594s\u001b[0m 639ms/step - accuracy: 0.6725 - loss: 1.1825\n",
      "Epoch 78/500\n",
      "\u001b[1m929/929\u001b[0m \u001b[32m━━━━━━━━━━━━━━━━━━━━\u001b[0m\u001b[37m\u001b[0m \u001b[1m593s\u001b[0m 638ms/step - accuracy: 0.6677 - loss: 1.1859\n",
      "Epoch 79/500\n",
      "\u001b[1m929/929\u001b[0m \u001b[32m━━━━━━━━━━━━━━━━━━━━\u001b[0m\u001b[37m\u001b[0m \u001b[1m593s\u001b[0m 639ms/step - accuracy: 0.6809 - loss: 1.1564\n",
      "Epoch 80/500\n",
      "\u001b[1m929/929\u001b[0m \u001b[32m━━━━━━━━━━━━━━━━━━━━\u001b[0m\u001b[37m\u001b[0m \u001b[1m593s\u001b[0m 639ms/step - accuracy: 0.6694 - loss: 1.1749\n",
      "Epoch 81/500\n",
      "\u001b[1m929/929\u001b[0m \u001b[32m━━━━━━━━━━━━━━━━━━━━\u001b[0m\u001b[37m\u001b[0m \u001b[1m596s\u001b[0m 642ms/step - accuracy: 0.6777 - loss: 1.1481\n",
      "Epoch 82/500\n",
      "\u001b[1m929/929\u001b[0m \u001b[32m━━━━━━━━━━━━━━━━━━━━\u001b[0m\u001b[37m\u001b[0m \u001b[1m595s\u001b[0m 641ms/step - accuracy: 0.6767 - loss: 1.1651\n",
      "Epoch 83/500\n",
      "\u001b[1m929/929\u001b[0m \u001b[32m━━━━━━━━━━━━━━━━━━━━\u001b[0m\u001b[37m\u001b[0m \u001b[1m595s\u001b[0m 640ms/step - accuracy: 0.6790 - loss: 1.1509\n",
      "Epoch 84/500\n",
      "\u001b[1m929/929\u001b[0m \u001b[32m━━━━━━━━━━━━━━━━━━━━\u001b[0m\u001b[37m\u001b[0m \u001b[1m596s\u001b[0m 642ms/step - accuracy: 0.6752 - loss: 1.1577\n",
      "Epoch 85/500\n",
      "\u001b[1m929/929\u001b[0m \u001b[32m━━━━━━━━━━━━━━━━━━━━\u001b[0m\u001b[37m\u001b[0m \u001b[1m609s\u001b[0m 655ms/step - accuracy: 0.6801 - loss: 1.1491\n",
      "Epoch 86/500\n",
      "\u001b[1m929/929\u001b[0m \u001b[32m━━━━━━━━━━━━━━━━━━━━\u001b[0m\u001b[37m\u001b[0m \u001b[1m622s\u001b[0m 669ms/step - accuracy: 0.6800 - loss: 1.1413\n",
      "Epoch 87/500\n",
      "\u001b[1m929/929\u001b[0m \u001b[32m━━━━━━━━━━━━━━━━━━━━\u001b[0m\u001b[37m\u001b[0m \u001b[1m599s\u001b[0m 644ms/step - accuracy: 0.6787 - loss: 1.1482\n",
      "Epoch 88/500\n",
      "\u001b[1m929/929\u001b[0m \u001b[32m━━━━━━━━━━━━━━━━━━━━\u001b[0m\u001b[37m\u001b[0m \u001b[1m603s\u001b[0m 649ms/step - accuracy: 0.6806 - loss: 1.1461\n",
      "Epoch 89/500\n",
      "\u001b[1m929/929\u001b[0m \u001b[32m━━━━━━━━━━━━━━━━━━━━\u001b[0m\u001b[37m\u001b[0m \u001b[1m610s\u001b[0m 657ms/step - accuracy: 0.6822 - loss: 1.1375\n",
      "Epoch 90/500\n",
      "\u001b[1m929/929\u001b[0m \u001b[32m━━━━━━━━━━━━━━━━━━━━\u001b[0m\u001b[37m\u001b[0m \u001b[1m596s\u001b[0m 641ms/step - accuracy: 0.6767 - loss: 1.1517\n",
      "Epoch 91/500\n",
      "\u001b[1m929/929\u001b[0m \u001b[32m━━━━━━━━━━━━━━━━━━━━\u001b[0m\u001b[37m\u001b[0m \u001b[1m613s\u001b[0m 659ms/step - accuracy: 0.6848 - loss: 1.1404\n",
      "Epoch 92/500\n",
      "\u001b[1m929/929\u001b[0m \u001b[32m━━━━━━━━━━━━━━━━━━━━\u001b[0m\u001b[37m\u001b[0m \u001b[1m593s\u001b[0m 639ms/step - accuracy: 0.6834 - loss: 1.1313\n",
      "Epoch 93/500\n",
      "\u001b[1m929/929\u001b[0m \u001b[32m━━━━━━━━━━━━━━━━━━━━\u001b[0m\u001b[37m\u001b[0m \u001b[1m658s\u001b[0m 708ms/step - accuracy: 0.6788 - loss: 1.1336\n",
      "Epoch 94/500\n",
      "\u001b[1m929/929\u001b[0m \u001b[32m━━━━━━━━━━━━━━━━━━━━\u001b[0m\u001b[37m\u001b[0m \u001b[1m622s\u001b[0m 669ms/step - accuracy: 0.6798 - loss: 1.1409\n",
      "Epoch 95/500\n",
      "\u001b[1m929/929\u001b[0m \u001b[32m━━━━━━━━━━━━━━━━━━━━\u001b[0m\u001b[37m\u001b[0m \u001b[1m634s\u001b[0m 683ms/step - accuracy: 0.6797 - loss: 1.1374\n",
      "Epoch 96/500\n",
      "\u001b[1m929/929\u001b[0m \u001b[32m━━━━━━━━━━━━━━━━━━━━\u001b[0m\u001b[37m\u001b[0m \u001b[1m595s\u001b[0m 640ms/step - accuracy: 0.6850 - loss: 1.1196\n",
      "Epoch 97/500\n",
      "\u001b[1m929/929\u001b[0m \u001b[32m━━━━━━━━━━━━━━━━━━━━\u001b[0m\u001b[37m\u001b[0m \u001b[1m631s\u001b[0m 679ms/step - accuracy: 0.6811 - loss: 1.1339\n",
      "Epoch 98/500\n",
      "\u001b[1m929/929\u001b[0m \u001b[32m━━━━━━━━━━━━━━━━━━━━\u001b[0m\u001b[37m\u001b[0m \u001b[1m618s\u001b[0m 665ms/step - accuracy: 0.6829 - loss: 1.1190\n",
      "Epoch 99/500\n",
      "\u001b[1m929/929\u001b[0m \u001b[32m━━━━━━━━━━━━━━━━━━━━\u001b[0m\u001b[37m\u001b[0m \u001b[1m655s\u001b[0m 705ms/step - accuracy: 0.6863 - loss: 1.1201\n",
      "Epoch 100/500\n",
      "\u001b[1m929/929\u001b[0m \u001b[32m━━━━━━━━━━━━━━━━━━━━\u001b[0m\u001b[37m\u001b[0m \u001b[1m665s\u001b[0m 715ms/step - accuracy: 0.6827 - loss: 1.1166\n",
      "Epoch 101/500\n",
      "\u001b[1m929/929\u001b[0m \u001b[32m━━━━━━━━━━━━━━━━━━━━\u001b[0m\u001b[37m\u001b[0m \u001b[1m644s\u001b[0m 693ms/step - accuracy: 0.6906 - loss: 1.1086\n",
      "Epoch 102/500\n",
      "\u001b[1m929/929\u001b[0m \u001b[32m━━━━━━━━━━━━━━━━━━━━\u001b[0m\u001b[37m\u001b[0m \u001b[1m633s\u001b[0m 682ms/step - accuracy: 0.6815 - loss: 1.1128\n",
      "Epoch 103/500\n",
      "\u001b[1m929/929\u001b[0m \u001b[32m━━━━━━━━━━━━━━━━━━━━\u001b[0m\u001b[37m\u001b[0m \u001b[1m644s\u001b[0m 693ms/step - accuracy: 0.6924 - loss: 1.0966\n",
      "Epoch 104/500\n",
      "\u001b[1m929/929\u001b[0m \u001b[32m━━━━━━━━━━━━━━━━━━━━\u001b[0m\u001b[37m\u001b[0m \u001b[1m680s\u001b[0m 732ms/step - accuracy: 0.6863 - loss: 1.1109\n",
      "Epoch 105/500\n",
      "\u001b[1m929/929\u001b[0m \u001b[32m━━━━━━━━━━━━━━━━━━━━\u001b[0m\u001b[37m\u001b[0m \u001b[1m661s\u001b[0m 712ms/step - accuracy: 0.6898 - loss: 1.1024\n",
      "Epoch 106/500\n",
      "\u001b[1m929/929\u001b[0m \u001b[32m━━━━━━━━━━━━━━━━━━━━\u001b[0m\u001b[37m\u001b[0m \u001b[1m638s\u001b[0m 687ms/step - accuracy: 0.6819 - loss: 1.1287\n",
      "Epoch 107/500\n",
      "\u001b[1m929/929\u001b[0m \u001b[32m━━━━━━━━━━━━━━━━━━━━\u001b[0m\u001b[37m\u001b[0m \u001b[1m640s\u001b[0m 689ms/step - accuracy: 0.6850 - loss: 1.1130\n",
      "Epoch 108/500\n",
      "\u001b[1m929/929\u001b[0m \u001b[32m━━━━━━━━━━━━━━━━━━━━\u001b[0m\u001b[37m\u001b[0m \u001b[1m683s\u001b[0m 736ms/step - accuracy: 0.6849 - loss: 1.1141\n",
      "Epoch 109/500\n",
      "\u001b[1m929/929\u001b[0m \u001b[32m━━━━━━━━━━━━━━━━━━━━\u001b[0m\u001b[37m\u001b[0m \u001b[1m671s\u001b[0m 723ms/step - accuracy: 0.6840 - loss: 1.1229\n",
      "Epoch 110/500\n",
      "\u001b[1m929/929\u001b[0m \u001b[32m━━━━━━━━━━━━━━━━━━━━\u001b[0m\u001b[37m\u001b[0m \u001b[1m682s\u001b[0m 734ms/step - accuracy: 0.6856 - loss: 1.1083\n",
      "Epoch 111/500\n",
      "\u001b[1m929/929\u001b[0m \u001b[32m━━━━━━━━━━━━━━━━━━━━\u001b[0m\u001b[37m\u001b[0m \u001b[1m703s\u001b[0m 757ms/step - accuracy: 0.6832 - loss: 1.1178\n",
      "Epoch 112/500\n",
      "\u001b[1m929/929\u001b[0m \u001b[32m━━━━━━━━━━━━━━━━━━━━\u001b[0m\u001b[37m\u001b[0m \u001b[1m708s\u001b[0m 763ms/step - accuracy: 0.6864 - loss: 1.1157\n",
      "Epoch 113/500\n",
      "\u001b[1m929/929\u001b[0m \u001b[32m━━━━━━━━━━━━━━━━━━━━\u001b[0m\u001b[37m\u001b[0m \u001b[1m681s\u001b[0m 733ms/step - accuracy: 0.6881 - loss: 1.1135\n",
      "Epoch 114/500\n",
      "\u001b[1m929/929\u001b[0m \u001b[32m━━━━━━━━━━━━━━━━━━━━\u001b[0m\u001b[37m\u001b[0m \u001b[1m694s\u001b[0m 747ms/step - accuracy: 0.6843 - loss: 1.1224\n",
      "Epoch 115/500\n",
      "\u001b[1m929/929\u001b[0m \u001b[32m━━━━━━━━━━━━━━━━━━━━\u001b[0m\u001b[37m\u001b[0m \u001b[1m713s\u001b[0m 768ms/step - accuracy: 0.6832 - loss: 1.1191\n",
      "Epoch 116/500\n",
      "\u001b[1m929/929\u001b[0m \u001b[32m━━━━━━━━━━━━━━━━━━━━\u001b[0m\u001b[37m\u001b[0m \u001b[1m623s\u001b[0m 670ms/step - accuracy: 0.6868 - loss: 1.1138\n",
      "Epoch 117/500\n",
      "\u001b[1m929/929\u001b[0m \u001b[32m━━━━━━━━━━━━━━━━━━━━\u001b[0m\u001b[37m\u001b[0m \u001b[1m624s\u001b[0m 671ms/step - accuracy: 0.6950 - loss: 1.0786\n",
      "Epoch 118/500\n",
      "\u001b[1m929/929\u001b[0m \u001b[32m━━━━━━━━━━━━━━━━━━━━\u001b[0m\u001b[37m\u001b[0m \u001b[1m623s\u001b[0m 670ms/step - accuracy: 0.6907 - loss: 1.1151\n",
      "Epoch 119/500\n",
      "\u001b[1m929/929\u001b[0m \u001b[32m━━━━━━━━━━━━━━━━━━━━\u001b[0m\u001b[37m\u001b[0m \u001b[1m621s\u001b[0m 669ms/step - accuracy: 0.6902 - loss: 1.0854\n",
      "Epoch 120/500\n",
      "\u001b[1m929/929\u001b[0m \u001b[32m━━━━━━━━━━━━━━━━━━━━\u001b[0m\u001b[37m\u001b[0m \u001b[1m625s\u001b[0m 672ms/step - accuracy: 0.6962 - loss: 1.0626\n",
      "Epoch 121/500\n",
      "\u001b[1m929/929\u001b[0m \u001b[32m━━━━━━━━━━━━━━━━━━━━\u001b[0m\u001b[37m\u001b[0m \u001b[1m624s\u001b[0m 672ms/step - accuracy: 0.6932 - loss: 1.0966\n",
      "Epoch 122/500\n",
      "\u001b[1m929/929\u001b[0m \u001b[32m━━━━━━━━━━━━━━━━━━━━\u001b[0m\u001b[37m\u001b[0m \u001b[1m599s\u001b[0m 645ms/step - accuracy: 0.6901 - loss: 1.0981\n",
      "Epoch 123/500\n",
      "\u001b[1m929/929\u001b[0m \u001b[32m━━━━━━━━━━━━━━━━━━━━\u001b[0m\u001b[37m\u001b[0m \u001b[1m600s\u001b[0m 646ms/step - accuracy: 0.6905 - loss: 1.0900\n",
      "Epoch 124/500\n",
      "\u001b[1m929/929\u001b[0m \u001b[32m━━━━━━━━━━━━━━━━━━━━\u001b[0m\u001b[37m\u001b[0m \u001b[1m623s\u001b[0m 671ms/step - accuracy: 0.6902 - loss: 1.0966\n",
      "Epoch 125/500\n",
      "\u001b[1m929/929\u001b[0m \u001b[32m━━━━━━━━━━━━━━━━━━━━\u001b[0m\u001b[37m\u001b[0m \u001b[1m624s\u001b[0m 672ms/step - accuracy: 0.6883 - loss: 1.1103\n",
      "Epoch 126/500\n",
      "\u001b[1m929/929\u001b[0m \u001b[32m━━━━━━━━━━━━━━━━━━━━\u001b[0m\u001b[37m\u001b[0m \u001b[1m596s\u001b[0m 642ms/step - accuracy: 0.6920 - loss: 1.0823\n",
      "Epoch 127/500\n",
      "\u001b[1m929/929\u001b[0m \u001b[32m━━━━━━━━━━━━━━━━━━━━\u001b[0m\u001b[37m\u001b[0m \u001b[1m621s\u001b[0m 669ms/step - accuracy: 0.6874 - loss: 1.1027\n",
      "Epoch 128/500\n",
      "\u001b[1m929/929\u001b[0m \u001b[32m━━━━━━━━━━━━━━━━━━━━\u001b[0m\u001b[37m\u001b[0m \u001b[1m610s\u001b[0m 657ms/step - accuracy: 0.6878 - loss: 1.0958\n",
      "Epoch 129/500\n",
      "\u001b[1m929/929\u001b[0m \u001b[32m━━━━━━━━━━━━━━━━━━━━\u001b[0m\u001b[37m\u001b[0m \u001b[1m631s\u001b[0m 680ms/step - accuracy: 0.6898 - loss: 1.0999\n",
      "Epoch 130/500\n",
      "\u001b[1m929/929\u001b[0m \u001b[32m━━━━━━━━━━━━━━━━━━━━\u001b[0m\u001b[37m\u001b[0m \u001b[1m665s\u001b[0m 715ms/step - accuracy: 0.6960 - loss: 1.0773\n",
      "Epoch 131/500\n",
      "\u001b[1m929/929\u001b[0m \u001b[32m━━━━━━━━━━━━━━━━━━━━\u001b[0m\u001b[37m\u001b[0m \u001b[1m662s\u001b[0m 712ms/step - accuracy: 0.6950 - loss: 1.0795\n",
      "Epoch 132/500\n",
      "\u001b[1m929/929\u001b[0m \u001b[32m━━━━━━━━━━━━━━━━━━━━\u001b[0m\u001b[37m\u001b[0m \u001b[1m669s\u001b[0m 721ms/step - accuracy: 0.6898 - loss: 1.0902\n",
      "Epoch 133/500\n",
      "\u001b[1m929/929\u001b[0m \u001b[32m━━━━━━━━━━━━━━━━━━━━\u001b[0m\u001b[37m\u001b[0m \u001b[1m676s\u001b[0m 728ms/step - accuracy: 0.6949 - loss: 1.0811\n",
      "Epoch 134/500\n",
      "\u001b[1m929/929\u001b[0m \u001b[32m━━━━━━━━━━━━━━━━━━━━\u001b[0m\u001b[37m\u001b[0m \u001b[1m673s\u001b[0m 725ms/step - accuracy: 0.7040 - loss: 1.0535\n",
      "Epoch 135/500\n",
      "\u001b[1m929/929\u001b[0m \u001b[32m━━━━━━━━━━━━━━━━━━━━\u001b[0m\u001b[37m\u001b[0m \u001b[1m638s\u001b[0m 687ms/step - accuracy: 0.6983 - loss: 1.0694\n",
      "Epoch 136/500\n",
      "\u001b[1m929/929\u001b[0m \u001b[32m━━━━━━━━━━━━━━━━━━━━\u001b[0m\u001b[37m\u001b[0m \u001b[1m675s\u001b[0m 727ms/step - accuracy: 0.6941 - loss: 1.0715\n",
      "Epoch 137/500\n",
      "\u001b[1m929/929\u001b[0m \u001b[32m━━━━━━━━━━━━━━━━━━━━\u001b[0m\u001b[37m\u001b[0m \u001b[1m689s\u001b[0m 742ms/step - accuracy: 0.6917 - loss: 1.0816\n",
      "Epoch 138/500\n",
      "\u001b[1m929/929\u001b[0m \u001b[32m━━━━━━━━━━━━━━━━━━━━\u001b[0m\u001b[37m\u001b[0m \u001b[1m707s\u001b[0m 761ms/step - accuracy: 0.6931 - loss: 1.0814\n",
      "Epoch 139/500\n",
      "\u001b[1m929/929\u001b[0m \u001b[32m━━━━━━━━━━━━━━━━━━━━\u001b[0m\u001b[37m\u001b[0m \u001b[1m694s\u001b[0m 747ms/step - accuracy: 0.6983 - loss: 1.0615\n",
      "Epoch 140/500\n",
      "\u001b[1m929/929\u001b[0m \u001b[32m━━━━━━━━━━━━━━━━━━━━\u001b[0m\u001b[37m\u001b[0m \u001b[1m676s\u001b[0m 728ms/step - accuracy: 0.6926 - loss: 1.0859\n",
      "Epoch 141/500\n",
      "\u001b[1m929/929\u001b[0m \u001b[32m━━━━━━━━━━━━━━━━━━━━\u001b[0m\u001b[37m\u001b[0m \u001b[1m702s\u001b[0m 756ms/step - accuracy: 0.6993 - loss: 1.0783\n",
      "Epoch 142/500\n",
      "\u001b[1m929/929\u001b[0m \u001b[32m━━━━━━━━━━━━━━━━━━━━\u001b[0m\u001b[37m\u001b[0m \u001b[1m710s\u001b[0m 765ms/step - accuracy: 0.6959 - loss: 1.0633\n",
      "Epoch 143/500\n",
      "\u001b[1m929/929\u001b[0m \u001b[32m━━━━━━━━━━━━━━━━━━━━\u001b[0m\u001b[37m\u001b[0m \u001b[1m706s\u001b[0m 760ms/step - accuracy: 0.6891 - loss: 1.0861\n",
      "Epoch 144/500\n",
      "\u001b[1m929/929\u001b[0m \u001b[32m━━━━━━━━━━━━━━━━━━━━\u001b[0m\u001b[37m\u001b[0m \u001b[1m700s\u001b[0m 753ms/step - accuracy: 0.6952 - loss: 1.0766\n",
      "Epoch 145/500\n",
      "\u001b[1m929/929\u001b[0m \u001b[32m━━━━━━━━━━━━━━━━━━━━\u001b[0m\u001b[37m\u001b[0m \u001b[1m687s\u001b[0m 739ms/step - accuracy: 0.6981 - loss: 1.0621\n",
      "Epoch 146/500\n",
      "\u001b[1m929/929\u001b[0m \u001b[32m━━━━━━━━━━━━━━━━━━━━\u001b[0m\u001b[37m\u001b[0m \u001b[1m716s\u001b[0m 771ms/step - accuracy: 0.6955 - loss: 1.0724\n",
      "Epoch 147/500\n",
      "\u001b[1m929/929\u001b[0m \u001b[32m━━━━━━━━━━━━━━━━━━━━\u001b[0m\u001b[37m\u001b[0m \u001b[1m718s\u001b[0m 773ms/step - accuracy: 0.6964 - loss: 1.0729\n",
      "Epoch 148/500\n",
      "\u001b[1m929/929\u001b[0m \u001b[32m━━━━━━━━━━━━━━━━━━━━\u001b[0m\u001b[37m\u001b[0m \u001b[1m715s\u001b[0m 769ms/step - accuracy: 0.6965 - loss: 1.0687\n",
      "Epoch 149/500\n",
      "\u001b[1m929/929\u001b[0m \u001b[32m━━━━━━━━━━━━━━━━━━━━\u001b[0m\u001b[37m\u001b[0m \u001b[1m719s\u001b[0m 774ms/step - accuracy: 0.6965 - loss: 1.0663\n",
      "Epoch 150/500\n",
      "\u001b[1m929/929\u001b[0m \u001b[32m━━━━━━━━━━━━━━━━━━━━\u001b[0m\u001b[37m\u001b[0m \u001b[1m718s\u001b[0m 772ms/step - accuracy: 0.6976 - loss: 1.0614\n",
      "Epoch 151/500\n",
      "\u001b[1m929/929\u001b[0m \u001b[32m━━━━━━━━━━━━━━━━━━━━\u001b[0m\u001b[37m\u001b[0m \u001b[1m725s\u001b[0m 780ms/step - accuracy: 0.6974 - loss: 1.0531\n",
      "Epoch 152/500\n",
      "\u001b[1m929/929\u001b[0m \u001b[32m━━━━━━━━━━━━━━━━━━━━\u001b[0m\u001b[37m\u001b[0m \u001b[1m718s\u001b[0m 773ms/step - accuracy: 0.6989 - loss: 1.0629\n",
      "Epoch 153/500\n",
      "\u001b[1m929/929\u001b[0m \u001b[32m━━━━━━━━━━━━━━━━━━━━\u001b[0m\u001b[37m\u001b[0m \u001b[1m718s\u001b[0m 773ms/step - accuracy: 0.6991 - loss: 1.0504\n",
      "Epoch 154/500\n",
      "\u001b[1m929/929\u001b[0m \u001b[32m━━━━━━━━━━━━━━━━━━━━\u001b[0m\u001b[37m\u001b[0m \u001b[1m719s\u001b[0m 774ms/step - accuracy: 0.6969 - loss: 1.0643\n",
      "Epoch 155/500\n",
      "\u001b[1m929/929\u001b[0m \u001b[32m━━━━━━━━━━━━━━━━━━━━\u001b[0m\u001b[37m\u001b[0m \u001b[1m722s\u001b[0m 778ms/step - accuracy: 0.6983 - loss: 1.0657\n",
      "Epoch 156/500\n",
      "\u001b[1m929/929\u001b[0m \u001b[32m━━━━━━━━━━━━━━━━━━━━\u001b[0m\u001b[37m\u001b[0m \u001b[1m720s\u001b[0m 775ms/step - accuracy: 0.6961 - loss: 1.0729\n",
      "Epoch 157/500\n",
      "\u001b[1m929/929\u001b[0m \u001b[32m━━━━━━━━━━━━━━━━━━━━\u001b[0m\u001b[37m\u001b[0m \u001b[1m723s\u001b[0m 779ms/step - accuracy: 0.7081 - loss: 1.0261\n",
      "Epoch 158/500\n",
      "\u001b[1m929/929\u001b[0m \u001b[32m━━━━━━━━━━━━━━━━━━━━\u001b[0m\u001b[37m\u001b[0m \u001b[1m721s\u001b[0m 776ms/step - accuracy: 0.6955 - loss: 1.0588\n",
      "Epoch 159/500\n",
      "\u001b[1m929/929\u001b[0m \u001b[32m━━━━━━━━━━━━━━━━━━━━\u001b[0m\u001b[37m\u001b[0m \u001b[1m723s\u001b[0m 779ms/step - accuracy: 0.7003 - loss: 1.0446\n",
      "Epoch 160/500\n",
      "\u001b[1m929/929\u001b[0m \u001b[32m━━━━━━━━━━━━━━━━━━━━\u001b[0m\u001b[37m\u001b[0m \u001b[1m724s\u001b[0m 779ms/step - accuracy: 0.6973 - loss: 1.0623\n",
      "Epoch 161/500\n",
      "\u001b[1m929/929\u001b[0m \u001b[32m━━━━━━━━━━━━━━━━━━━━\u001b[0m\u001b[37m\u001b[0m \u001b[1m712s\u001b[0m 767ms/step - accuracy: 0.6979 - loss: 1.0696\n",
      "Epoch 162/500\n",
      "\u001b[1m929/929\u001b[0m \u001b[32m━━━━━━━━━━━━━━━━━━━━\u001b[0m\u001b[37m\u001b[0m \u001b[1m704s\u001b[0m 758ms/step - accuracy: 0.7034 - loss: 1.0480\n",
      "Epoch 163/500\n",
      "\u001b[1m929/929\u001b[0m \u001b[32m━━━━━━━━━━━━━━━━━━━━\u001b[0m\u001b[37m\u001b[0m \u001b[1m687s\u001b[0m 740ms/step - accuracy: 0.7014 - loss: 1.0345\n",
      "Epoch 164/500\n",
      "\u001b[1m929/929\u001b[0m \u001b[32m━━━━━━━━━━━━━━━━━━━━\u001b[0m\u001b[37m\u001b[0m \u001b[1m700s\u001b[0m 754ms/step - accuracy: 0.7000 - loss: 1.0644\n",
      "Epoch 165/500\n",
      "\u001b[1m929/929\u001b[0m \u001b[32m━━━━━━━━━━━━━━━━━━━━\u001b[0m\u001b[37m\u001b[0m \u001b[1m637s\u001b[0m 686ms/step - accuracy: 0.7003 - loss: 1.0601\n",
      "Epoch 166/500\n",
      "\u001b[1m929/929\u001b[0m \u001b[32m━━━━━━━━━━━━━━━━━━━━\u001b[0m\u001b[37m\u001b[0m \u001b[1m660s\u001b[0m 711ms/step - accuracy: 0.6990 - loss: 1.0544\n",
      "Epoch 167/500\n",
      "\u001b[1m929/929\u001b[0m \u001b[32m━━━━━━━━━━━━━━━━━━━━\u001b[0m\u001b[37m\u001b[0m \u001b[1m630s\u001b[0m 678ms/step - accuracy: 0.6990 - loss: 1.0518\n",
      "Epoch 168/500\n",
      "\u001b[1m929/929\u001b[0m \u001b[32m━━━━━━━━━━━━━━━━━━━━\u001b[0m\u001b[37m\u001b[0m \u001b[1m613s\u001b[0m 660ms/step - accuracy: 0.6953 - loss: 1.0726\n",
      "Epoch 169/500\n",
      "\u001b[1m929/929\u001b[0m \u001b[32m━━━━━━━━━━━━━━━━━━━━\u001b[0m\u001b[37m\u001b[0m \u001b[1m607s\u001b[0m 653ms/step - accuracy: 0.7039 - loss: 1.0407\n",
      "Epoch 170/500\n",
      "\u001b[1m929/929\u001b[0m \u001b[32m━━━━━━━━━━━━━━━━━━━━\u001b[0m\u001b[37m\u001b[0m \u001b[1m632s\u001b[0m 680ms/step - accuracy: 0.6965 - loss: 1.0752\n",
      "Epoch 171/500\n",
      "\u001b[1m929/929\u001b[0m \u001b[32m━━━━━━━━━━━━━━━━━━━━\u001b[0m\u001b[37m\u001b[0m \u001b[1m616s\u001b[0m 663ms/step - accuracy: 0.6992 - loss: 1.0556\n",
      "Epoch 172/500\n",
      "\u001b[1m929/929\u001b[0m \u001b[32m━━━━━━━━━━━━━━━━━━━━\u001b[0m\u001b[37m\u001b[0m \u001b[1m621s\u001b[0m 669ms/step - accuracy: 0.6980 - loss: 1.0630\n",
      "Epoch 173/500\n",
      "\u001b[1m929/929\u001b[0m \u001b[32m━━━━━━━━━━━━━━━━━━━━\u001b[0m\u001b[37m\u001b[0m \u001b[1m627s\u001b[0m 675ms/step - accuracy: 0.7001 - loss: 1.0439\n",
      "Epoch 174/500\n",
      "\u001b[1m929/929\u001b[0m \u001b[32m━━━━━━━━━━━━━━━━━━━━\u001b[0m\u001b[37m\u001b[0m \u001b[1m624s\u001b[0m 672ms/step - accuracy: 0.6965 - loss: 1.0605\n",
      "Epoch 175/500\n",
      "\u001b[1m929/929\u001b[0m \u001b[32m━━━━━━━━━━━━━━━━━━━━\u001b[0m\u001b[37m\u001b[0m \u001b[1m627s\u001b[0m 675ms/step - accuracy: 0.7007 - loss: 1.0567\n",
      "Epoch 176/500\n",
      "\u001b[1m929/929\u001b[0m \u001b[32m━━━━━━━━━━━━━━━━━━━━\u001b[0m\u001b[37m\u001b[0m \u001b[1m617s\u001b[0m 664ms/step - accuracy: 0.7030 - loss: 1.0473\n",
      "Epoch 177/500\n",
      "\u001b[1m929/929\u001b[0m \u001b[32m━━━━━━━━━━━━━━━━━━━━\u001b[0m\u001b[37m\u001b[0m \u001b[1m631s\u001b[0m 679ms/step - accuracy: 0.7024 - loss: 1.0461\n",
      "Epoch 178/500\n",
      "\u001b[1m929/929\u001b[0m \u001b[32m━━━━━━━━━━━━━━━━━━━━\u001b[0m\u001b[37m\u001b[0m \u001b[1m635s\u001b[0m 684ms/step - accuracy: 0.7048 - loss: 1.0387\n",
      "Epoch 179/500\n",
      "\u001b[1m929/929\u001b[0m \u001b[32m━━━━━━━━━━━━━━━━━━━━\u001b[0m\u001b[37m\u001b[0m \u001b[1m638s\u001b[0m 687ms/step - accuracy: 0.6972 - loss: 1.0562\n",
      "Epoch 180/500\n",
      "\u001b[1m929/929\u001b[0m \u001b[32m━━━━━━━━━━━━━━━━━━━━\u001b[0m\u001b[37m\u001b[0m \u001b[1m641s\u001b[0m 689ms/step - accuracy: 0.6951 - loss: 1.0658\n",
      "Epoch 181/500\n",
      "\u001b[1m929/929\u001b[0m \u001b[32m━━━━━━━━━━━━━━━━━━━━\u001b[0m\u001b[37m\u001b[0m \u001b[1m642s\u001b[0m 691ms/step - accuracy: 0.7068 - loss: 1.0391\n",
      "Epoch 182/500\n",
      "\u001b[1m929/929\u001b[0m \u001b[32m━━━━━━━━━━━━━━━━━━━━\u001b[0m\u001b[37m\u001b[0m \u001b[1m641s\u001b[0m 690ms/step - accuracy: 0.6983 - loss: 1.0480\n",
      "Epoch 183/500\n",
      "\u001b[1m929/929\u001b[0m \u001b[32m━━━━━━━━━━━━━━━━━━━━\u001b[0m\u001b[37m\u001b[0m \u001b[1m641s\u001b[0m 690ms/step - accuracy: 0.7013 - loss: 1.0314\n",
      "Epoch 184/500\n",
      "\u001b[1m929/929\u001b[0m \u001b[32m━━━━━━━━━━━━━━━━━━━━\u001b[0m\u001b[37m\u001b[0m \u001b[1m643s\u001b[0m 692ms/step - accuracy: 0.7023 - loss: 1.0449\n",
      "Epoch 185/500\n",
      "\u001b[1m929/929\u001b[0m \u001b[32m━━━━━━━━━━━━━━━━━━━━\u001b[0m\u001b[37m\u001b[0m \u001b[1m643s\u001b[0m 692ms/step - accuracy: 0.7049 - loss: 1.0292\n",
      "Epoch 186/500\n",
      "\u001b[1m929/929\u001b[0m \u001b[32m━━━━━━━━━━━━━━━━━━━━\u001b[0m\u001b[37m\u001b[0m \u001b[1m643s\u001b[0m 692ms/step - accuracy: 0.7061 - loss: 1.0332\n",
      "Epoch 187/500\n",
      "\u001b[1m929/929\u001b[0m \u001b[32m━━━━━━━━━━━━━━━━━━━━\u001b[0m\u001b[37m\u001b[0m \u001b[1m645s\u001b[0m 694ms/step - accuracy: 0.7072 - loss: 1.0324\n",
      "Epoch 188/500\n",
      "\u001b[1m929/929\u001b[0m \u001b[32m━━━━━━━━━━━━━━━━━━━━\u001b[0m\u001b[37m\u001b[0m \u001b[1m643s\u001b[0m 692ms/step - accuracy: 0.7050 - loss: 1.0385\n",
      "Epoch 189/500\n",
      "\u001b[1m929/929\u001b[0m \u001b[32m━━━━━━━━━━━━━━━━━━━━\u001b[0m\u001b[37m\u001b[0m \u001b[1m644s\u001b[0m 693ms/step - accuracy: 0.7045 - loss: 1.0374\n",
      "Epoch 190/500\n",
      "\u001b[1m929/929\u001b[0m \u001b[32m━━━━━━━━━━━━━━━━━━━━\u001b[0m\u001b[37m\u001b[0m \u001b[1m643s\u001b[0m 693ms/step - accuracy: 0.7000 - loss: 1.0435\n",
      "Epoch 191/500\n",
      "\u001b[1m929/929\u001b[0m \u001b[32m━━━━━━━━━━━━━━━━━━━━\u001b[0m\u001b[37m\u001b[0m \u001b[1m644s\u001b[0m 693ms/step - accuracy: 0.6995 - loss: 1.0513\n",
      "Epoch 192/500\n",
      "\u001b[1m929/929\u001b[0m \u001b[32m━━━━━━━━━━━━━━━━━━━━\u001b[0m\u001b[37m\u001b[0m \u001b[1m643s\u001b[0m 693ms/step - accuracy: 0.6966 - loss: 1.0612\n",
      "Epoch 193/500\n",
      "\u001b[1m929/929\u001b[0m \u001b[32m━━━━━━━━━━━━━━━━━━━━\u001b[0m\u001b[37m\u001b[0m \u001b[1m645s\u001b[0m 694ms/step - accuracy: 0.7045 - loss: 1.0316\n",
      "Epoch 194/500\n",
      "\u001b[1m929/929\u001b[0m \u001b[32m━━━━━━━━━━━━━━━━━━━━\u001b[0m\u001b[37m\u001b[0m \u001b[1m644s\u001b[0m 694ms/step - accuracy: 0.7037 - loss: 1.0346\n",
      "Epoch 195/500\n",
      "\u001b[1m929/929\u001b[0m \u001b[32m━━━━━━━━━━━━━━━━━━━━\u001b[0m\u001b[37m\u001b[0m \u001b[1m643s\u001b[0m 692ms/step - accuracy: 0.7077 - loss: 1.0282\n",
      "Epoch 196/500\n",
      "\u001b[1m929/929\u001b[0m \u001b[32m━━━━━━━━━━━━━━━━━━━━\u001b[0m\u001b[37m\u001b[0m \u001b[1m653s\u001b[0m 703ms/step - accuracy: 0.6974 - loss: 1.0499\n",
      "Epoch 197/500\n",
      "\u001b[1m929/929\u001b[0m \u001b[32m━━━━━━━━━━━━━━━━━━━━\u001b[0m\u001b[37m\u001b[0m \u001b[1m642s\u001b[0m 691ms/step - accuracy: 0.7078 - loss: 1.0161\n",
      "Epoch 198/500\n",
      "\u001b[1m929/929\u001b[0m \u001b[32m━━━━━━━━━━━━━━━━━━━━\u001b[0m\u001b[37m\u001b[0m \u001b[1m634s\u001b[0m 682ms/step - accuracy: 0.6995 - loss: 1.0443\n",
      "Epoch 199/500\n",
      "\u001b[1m929/929\u001b[0m \u001b[32m━━━━━━━━━━━━━━━━━━━━\u001b[0m\u001b[37m\u001b[0m \u001b[1m644s\u001b[0m 693ms/step - accuracy: 0.7088 - loss: 1.0461\n",
      "Epoch 200/500\n",
      "\u001b[1m929/929\u001b[0m \u001b[32m━━━━━━━━━━━━━━━━━━━━\u001b[0m\u001b[37m\u001b[0m \u001b[1m646s\u001b[0m 696ms/step - accuracy: 0.7077 - loss: 1.0326\n",
      "Epoch 201/500\n",
      "\u001b[1m929/929\u001b[0m \u001b[32m━━━━━━━━━━━━━━━━━━━━\u001b[0m\u001b[37m\u001b[0m \u001b[1m646s\u001b[0m 695ms/step - accuracy: 0.7025 - loss: 1.0408\n",
      "Epoch 202/500\n",
      "\u001b[1m929/929\u001b[0m \u001b[32m━━━━━━━━━━━━━━━━━━━━\u001b[0m\u001b[37m\u001b[0m \u001b[1m649s\u001b[0m 699ms/step - accuracy: 0.6972 - loss: 1.0476\n",
      "Epoch 203/500\n",
      "\u001b[1m929/929\u001b[0m \u001b[32m━━━━━━━━━━━━━━━━━━━━\u001b[0m\u001b[37m\u001b[0m \u001b[1m648s\u001b[0m 698ms/step - accuracy: 0.7011 - loss: 1.0324\n",
      "Epoch 204/500\n",
      "\u001b[1m929/929\u001b[0m \u001b[32m━━━━━━━━━━━━━━━━━━━━\u001b[0m\u001b[37m\u001b[0m \u001b[1m648s\u001b[0m 697ms/step - accuracy: 0.7095 - loss: 1.0330\n",
      "Epoch 205/500\n",
      "\u001b[1m929/929\u001b[0m \u001b[32m━━━━━━━━━━━━━━━━━━━━\u001b[0m\u001b[37m\u001b[0m \u001b[1m673s\u001b[0m 724ms/step - accuracy: 0.7075 - loss: 1.0206\n",
      "Epoch 206/500\n",
      "\u001b[1m929/929\u001b[0m \u001b[32m━━━━━━━━━━━━━━━━━━━━\u001b[0m\u001b[37m\u001b[0m \u001b[1m729s\u001b[0m 785ms/step - accuracy: 0.7044 - loss: 1.0440\n",
      "Epoch 207/500\n",
      "\u001b[1m929/929\u001b[0m \u001b[32m━━━━━━━━━━━━━━━━━━━━\u001b[0m\u001b[37m\u001b[0m \u001b[1m727s\u001b[0m 783ms/step - accuracy: 0.7027 - loss: 1.0470\n",
      "Epoch 208/500\n",
      "\u001b[1m929/929\u001b[0m \u001b[32m━━━━━━━━━━━━━━━━━━━━\u001b[0m\u001b[37m\u001b[0m \u001b[1m724s\u001b[0m 779ms/step - accuracy: 0.7011 - loss: 1.0466\n",
      "Epoch 209/500\n",
      "\u001b[1m929/929\u001b[0m \u001b[32m━━━━━━━━━━━━━━━━━━━━\u001b[0m\u001b[37m\u001b[0m \u001b[1m697s\u001b[0m 751ms/step - accuracy: 0.7096 - loss: 1.0214\n",
      "Epoch 210/500\n",
      "\u001b[1m929/929\u001b[0m \u001b[32m━━━━━━━━━━━━━━━━━━━━\u001b[0m\u001b[37m\u001b[0m \u001b[1m693s\u001b[0m 746ms/step - accuracy: 0.7096 - loss: 1.0294\n",
      "Epoch 211/500\n",
      "\u001b[1m929/929\u001b[0m \u001b[32m━━━━━━━━━━━━━━━━━━━━\u001b[0m\u001b[37m\u001b[0m \u001b[1m714s\u001b[0m 769ms/step - accuracy: 0.7026 - loss: 1.0360\n",
      "Epoch 212/500\n",
      "\u001b[1m929/929\u001b[0m \u001b[32m━━━━━━━━━━━━━━━━━━━━\u001b[0m\u001b[37m\u001b[0m \u001b[1m696s\u001b[0m 750ms/step - accuracy: 0.7038 - loss: 1.0312\n",
      "Epoch 213/500\n",
      "\u001b[1m929/929\u001b[0m \u001b[32m━━━━━━━━━━━━━━━━━━━━\u001b[0m\u001b[37m\u001b[0m \u001b[1m699s\u001b[0m 752ms/step - accuracy: 0.7058 - loss: 1.0347\n",
      "Epoch 214/500\n",
      "\u001b[1m929/929\u001b[0m \u001b[32m━━━━━━━━━━━━━━━━━━━━\u001b[0m\u001b[37m\u001b[0m \u001b[1m729s\u001b[0m 784ms/step - accuracy: 0.7026 - loss: 1.0352\n",
      "Epoch 215/500\n",
      "\u001b[1m929/929\u001b[0m \u001b[32m━━━━━━━━━━━━━━━━━━━━\u001b[0m\u001b[37m\u001b[0m \u001b[1m737s\u001b[0m 794ms/step - accuracy: 0.7034 - loss: 1.0447\n",
      "Epoch 216/500\n",
      "\u001b[1m929/929\u001b[0m \u001b[32m━━━━━━━━━━━━━━━━━━━━\u001b[0m\u001b[37m\u001b[0m \u001b[1m743s\u001b[0m 800ms/step - accuracy: 0.7019 - loss: 1.0388\n",
      "Epoch 217/500\n",
      "\u001b[1m929/929\u001b[0m \u001b[32m━━━━━━━━━━━━━━━━━━━━\u001b[0m\u001b[37m\u001b[0m \u001b[1m743s\u001b[0m 800ms/step - accuracy: 0.7103 - loss: 1.0237\n",
      "Epoch 218/500\n",
      "\u001b[1m929/929\u001b[0m \u001b[32m━━━━━━━━━━━━━━━━━━━━\u001b[0m\u001b[37m\u001b[0m \u001b[1m745s\u001b[0m 802ms/step - accuracy: 0.7021 - loss: 1.0409\n",
      "Epoch 219/500\n",
      "\u001b[1m929/929\u001b[0m \u001b[32m━━━━━━━━━━━━━━━━━━━━\u001b[0m\u001b[37m\u001b[0m \u001b[1m746s\u001b[0m 803ms/step - accuracy: 0.7018 - loss: 1.0393\n",
      "Epoch 220/500\n",
      "\u001b[1m929/929\u001b[0m \u001b[32m━━━━━━━━━━━━━━━━━━━━\u001b[0m\u001b[37m\u001b[0m \u001b[1m745s\u001b[0m 802ms/step - accuracy: 0.7027 - loss: 1.0363\n",
      "Epoch 221/500\n",
      "\u001b[1m929/929\u001b[0m \u001b[32m━━━━━━━━━━━━━━━━━━━━\u001b[0m\u001b[37m\u001b[0m \u001b[1m745s\u001b[0m 801ms/step - accuracy: 0.7086 - loss: 1.0339\n",
      "Epoch 222/500\n",
      "\u001b[1m929/929\u001b[0m \u001b[32m━━━━━━━━━━━━━━━━━━━━\u001b[0m\u001b[37m\u001b[0m \u001b[1m744s\u001b[0m 801ms/step - accuracy: 0.7042 - loss: 1.0415\n",
      "Epoch 223/500\n",
      "\u001b[1m929/929\u001b[0m \u001b[32m━━━━━━━━━━━━━━━━━━━━\u001b[0m\u001b[37m\u001b[0m \u001b[1m745s\u001b[0m 802ms/step - accuracy: 0.7035 - loss: 1.0205\n",
      "Epoch 224/500\n",
      "\u001b[1m929/929\u001b[0m \u001b[32m━━━━━━━━━━━━━━━━━━━━\u001b[0m\u001b[37m\u001b[0m \u001b[1m747s\u001b[0m 804ms/step - accuracy: 0.7102 - loss: 1.0112\n",
      "Epoch 225/500\n",
      "\u001b[1m929/929\u001b[0m \u001b[32m━━━━━━━━━━━━━━━━━━━━\u001b[0m\u001b[37m\u001b[0m \u001b[1m746s\u001b[0m 803ms/step - accuracy: 0.7105 - loss: 1.0167\n",
      "Epoch 226/500\n",
      "\u001b[1m929/929\u001b[0m \u001b[32m━━━━━━━━━━━━━━━━━━━━\u001b[0m\u001b[37m\u001b[0m \u001b[1m747s\u001b[0m 805ms/step - accuracy: 0.7069 - loss: 1.0198\n",
      "Epoch 227/500\n",
      "\u001b[1m929/929\u001b[0m \u001b[32m━━━━━━━━━━━━━━━━━━━━\u001b[0m\u001b[37m\u001b[0m \u001b[1m750s\u001b[0m 807ms/step - accuracy: 0.7104 - loss: 1.0075\n",
      "Epoch 228/500\n",
      "\u001b[1m929/929\u001b[0m \u001b[32m━━━━━━━━━━━━━━━━━━━━\u001b[0m\u001b[37m\u001b[0m \u001b[1m748s\u001b[0m 805ms/step - accuracy: 0.7079 - loss: 1.0100\n",
      "Epoch 229/500\n",
      "\u001b[1m929/929\u001b[0m \u001b[32m━━━━━━━━━━━━━━━━━━━━\u001b[0m\u001b[37m\u001b[0m \u001b[1m718s\u001b[0m 773ms/step - accuracy: 0.7037 - loss: 1.0419\n",
      "Epoch 230/500\n",
      "\u001b[1m929/929\u001b[0m \u001b[32m━━━━━━━━━━━━━━━━━━━━\u001b[0m\u001b[37m\u001b[0m \u001b[1m688s\u001b[0m 740ms/step - accuracy: 0.7029 - loss: 1.0334\n",
      "Epoch 231/500\n",
      "\u001b[1m929/929\u001b[0m \u001b[32m━━━━━━━━━━━━━━━━━━━━\u001b[0m\u001b[37m\u001b[0m \u001b[1m740s\u001b[0m 796ms/step - accuracy: 0.7046 - loss: 1.0314\n",
      "Epoch 232/500\n",
      "\u001b[1m929/929\u001b[0m \u001b[32m━━━━━━━━━━━━━━━━━━━━\u001b[0m\u001b[37m\u001b[0m \u001b[1m750s\u001b[0m 807ms/step - accuracy: 0.6994 - loss: 1.0475\n",
      "Epoch 233/500\n",
      "\u001b[1m929/929\u001b[0m \u001b[32m━━━━━━━━━━━━━━━━━━━━\u001b[0m\u001b[37m\u001b[0m \u001b[1m754s\u001b[0m 811ms/step - accuracy: 0.7104 - loss: 1.0174\n",
      "Epoch 234/500\n",
      "\u001b[1m929/929\u001b[0m \u001b[32m━━━━━━━━━━━━━━━━━━━━\u001b[0m\u001b[37m\u001b[0m \u001b[1m749s\u001b[0m 806ms/step - accuracy: 0.7032 - loss: 1.0262\n",
      "Epoch 235/500\n",
      "\u001b[1m929/929\u001b[0m \u001b[32m━━━━━━━━━━━━━━━━━━━━\u001b[0m\u001b[37m\u001b[0m \u001b[1m751s\u001b[0m 809ms/step - accuracy: 0.7119 - loss: 1.0216\n",
      "Epoch 236/500\n",
      "\u001b[1m929/929\u001b[0m \u001b[32m━━━━━━━━━━━━━━━━━━━━\u001b[0m\u001b[37m\u001b[0m \u001b[1m750s\u001b[0m 808ms/step - accuracy: 0.7026 - loss: 1.0351\n",
      "Epoch 237/500\n",
      "\u001b[1m929/929\u001b[0m \u001b[32m━━━━━━━━━━━━━━━━━━━━\u001b[0m\u001b[37m\u001b[0m \u001b[1m749s\u001b[0m 807ms/step - accuracy: 0.6991 - loss: 1.0384\n",
      "Epoch 238/500\n",
      "\u001b[1m929/929\u001b[0m \u001b[32m━━━━━━━━━━━━━━━━━━━━\u001b[0m\u001b[37m\u001b[0m \u001b[1m754s\u001b[0m 811ms/step - accuracy: 0.7075 - loss: 1.0162\n",
      "Epoch 239/500\n",
      "\u001b[1m929/929\u001b[0m \u001b[32m━━━━━━━━━━━━━━━━━━━━\u001b[0m\u001b[37m\u001b[0m \u001b[1m750s\u001b[0m 807ms/step - accuracy: 0.7050 - loss: 1.0193\n",
      "Epoch 240/500\n",
      "\u001b[1m929/929\u001b[0m \u001b[32m━━━━━━━━━━━━━━━━━━━━\u001b[0m\u001b[37m\u001b[0m \u001b[1m753s\u001b[0m 811ms/step - accuracy: 0.7073 - loss: 1.0153\n",
      "Epoch 241/500\n",
      "\u001b[1m929/929\u001b[0m \u001b[32m━━━━━━━━━━━━━━━━━━━━\u001b[0m\u001b[37m\u001b[0m \u001b[1m728s\u001b[0m 784ms/step - accuracy: 0.7039 - loss: 1.0450\n",
      "Epoch 242/500\n",
      "\u001b[1m929/929\u001b[0m \u001b[32m━━━━━━━━━━━━━━━━━━━━\u001b[0m\u001b[37m\u001b[0m \u001b[1m752s\u001b[0m 809ms/step - accuracy: 0.7029 - loss: 1.0269\n",
      "Epoch 243/500\n",
      "\u001b[1m929/929\u001b[0m \u001b[32m━━━━━━━━━━━━━━━━━━━━\u001b[0m\u001b[37m\u001b[0m \u001b[1m742s\u001b[0m 799ms/step - accuracy: 0.7028 - loss: 1.0231\n",
      "Epoch 244/500\n",
      "\u001b[1m929/929\u001b[0m \u001b[32m━━━━━━━━━━━━━━━━━━━━\u001b[0m\u001b[37m\u001b[0m \u001b[1m755s\u001b[0m 813ms/step - accuracy: 0.7092 - loss: 1.0295\n",
      "Epoch 245/500\n",
      "\u001b[1m929/929\u001b[0m \u001b[32m━━━━━━━━━━━━━━━━━━━━\u001b[0m\u001b[37m\u001b[0m \u001b[1m758s\u001b[0m 815ms/step - accuracy: 0.7038 - loss: 1.0263\n",
      "Epoch 246/500\n",
      "\u001b[1m929/929\u001b[0m \u001b[32m━━━━━━━━━━━━━━━━━━━━\u001b[0m\u001b[37m\u001b[0m \u001b[1m757s\u001b[0m 815ms/step - accuracy: 0.7074 - loss: 1.0141\n",
      "Epoch 247/500\n",
      "\u001b[1m929/929\u001b[0m \u001b[32m━━━━━━━━━━━━━━━━━━━━\u001b[0m\u001b[37m\u001b[0m \u001b[1m754s\u001b[0m 812ms/step - accuracy: 0.7043 - loss: 1.0300\n",
      "Epoch 248/500\n",
      "\u001b[1m929/929\u001b[0m \u001b[32m━━━━━━━━━━━━━━━━━━━━\u001b[0m\u001b[37m\u001b[0m \u001b[1m703s\u001b[0m 757ms/step - accuracy: 0.6996 - loss: 1.0460\n",
      "Epoch 249/500\n",
      "\u001b[1m929/929\u001b[0m \u001b[32m━━━━━━━━━━━━━━━━━━━━\u001b[0m\u001b[37m\u001b[0m \u001b[1m693s\u001b[0m 746ms/step - accuracy: 0.7078 - loss: 1.0215\n",
      "Epoch 250/500\n",
      "\u001b[1m929/929\u001b[0m \u001b[32m━━━━━━━━━━━━━━━━━━━━\u001b[0m\u001b[37m\u001b[0m \u001b[1m740s\u001b[0m 796ms/step - accuracy: 0.7068 - loss: 1.0250\n",
      "Epoch 251/500\n",
      "\u001b[1m929/929\u001b[0m \u001b[32m━━━━━━━━━━━━━━━━━━━━\u001b[0m\u001b[37m\u001b[0m \u001b[1m714s\u001b[0m 768ms/step - accuracy: 0.7041 - loss: 1.0277\n",
      "Epoch 252/500\n",
      "\u001b[1m929/929\u001b[0m \u001b[32m━━━━━━━━━━━━━━━━━━━━\u001b[0m\u001b[37m\u001b[0m \u001b[1m752s\u001b[0m 810ms/step - accuracy: 0.7086 - loss: 1.0117\n",
      "Epoch 253/500\n",
      "\u001b[1m929/929\u001b[0m \u001b[32m━━━━━━━━━━━━━━━━━━━━\u001b[0m\u001b[37m\u001b[0m \u001b[1m759s\u001b[0m 817ms/step - accuracy: 0.7065 - loss: 1.0308\n",
      "Epoch 254/500\n",
      "\u001b[1m929/929\u001b[0m \u001b[32m━━━━━━━━━━━━━━━━━━━━\u001b[0m\u001b[37m\u001b[0m \u001b[1m757s\u001b[0m 815ms/step - accuracy: 0.7099 - loss: 1.0060\n",
      "Epoch 255/500\n",
      "\u001b[1m929/929\u001b[0m \u001b[32m━━━━━━━━━━━━━━━━━━━━\u001b[0m\u001b[37m\u001b[0m \u001b[1m757s\u001b[0m 815ms/step - accuracy: 0.7130 - loss: 1.0079\n",
      "Epoch 256/500\n",
      "\u001b[1m929/929\u001b[0m \u001b[32m━━━━━━━━━━━━━━━━━━━━\u001b[0m\u001b[37m\u001b[0m \u001b[1m756s\u001b[0m 814ms/step - accuracy: 0.7092 - loss: 1.0027\n",
      "Epoch 257/500\n",
      "\u001b[1m929/929\u001b[0m \u001b[32m━━━━━━━━━━━━━━━━━━━━\u001b[0m\u001b[37m\u001b[0m \u001b[1m756s\u001b[0m 814ms/step - accuracy: 0.7052 - loss: 1.0214\n",
      "Epoch 258/500\n",
      "\u001b[1m929/929\u001b[0m \u001b[32m━━━━━━━━━━━━━━━━━━━━\u001b[0m\u001b[37m\u001b[0m \u001b[1m758s\u001b[0m 816ms/step - accuracy: 0.7085 - loss: 1.0242\n",
      "Epoch 259/500\n",
      "\u001b[1m929/929\u001b[0m \u001b[32m━━━━━━━━━━━━━━━━━━━━\u001b[0m\u001b[37m\u001b[0m \u001b[1m755s\u001b[0m 813ms/step - accuracy: 0.7051 - loss: 1.0216\n",
      "Epoch 260/500\n",
      "\u001b[1m929/929\u001b[0m \u001b[32m━━━━━━━━━━━━━━━━━━━━\u001b[0m\u001b[37m\u001b[0m \u001b[1m762s\u001b[0m 820ms/step - accuracy: 0.7073 - loss: 1.0308\n",
      "Epoch 261/500\n",
      "\u001b[1m929/929\u001b[0m \u001b[32m━━━━━━━━━━━━━━━━━━━━\u001b[0m\u001b[37m\u001b[0m \u001b[1m668s\u001b[0m 719ms/step - accuracy: 0.7118 - loss: 1.0034\n",
      "Epoch 262/500\n",
      "\u001b[1m929/929\u001b[0m \u001b[32m━━━━━━━━━━━━━━━━━━━━\u001b[0m\u001b[37m\u001b[0m \u001b[1m664s\u001b[0m 715ms/step - accuracy: 0.7062 - loss: 1.0211\n",
      "Epoch 263/500\n",
      "\u001b[1m929/929\u001b[0m \u001b[32m━━━━━━━━━━━━━━━━━━━━\u001b[0m\u001b[37m\u001b[0m \u001b[1m664s\u001b[0m 715ms/step - accuracy: 0.7085 - loss: 1.0228\n",
      "Epoch 264/500\n",
      "\u001b[1m929/929\u001b[0m \u001b[32m━━━━━━━━━━━━━━━━━━━━\u001b[0m\u001b[37m\u001b[0m \u001b[1m665s\u001b[0m 716ms/step - accuracy: 0.7177 - loss: 0.9836\n",
      "Epoch 265/500\n",
      "\u001b[1m929/929\u001b[0m \u001b[32m━━━━━━━━━━━━━━━━━━━━\u001b[0m\u001b[37m\u001b[0m \u001b[1m664s\u001b[0m 715ms/step - accuracy: 0.7059 - loss: 1.0222\n",
      "Epoch 266/500\n",
      "\u001b[1m929/929\u001b[0m \u001b[32m━━━━━━━━━━━━━━━━━━━━\u001b[0m\u001b[37m\u001b[0m \u001b[1m664s\u001b[0m 715ms/step - accuracy: 0.7074 - loss: 1.0271\n",
      "Epoch 267/500\n",
      "\u001b[1m929/929\u001b[0m \u001b[32m━━━━━━━━━━━━━━━━━━━━\u001b[0m\u001b[37m\u001b[0m \u001b[1m666s\u001b[0m 717ms/step - accuracy: 0.7080 - loss: 1.0153\n",
      "Epoch 268/500\n",
      "\u001b[1m929/929\u001b[0m \u001b[32m━━━━━━━━━━━━━━━━━━━━\u001b[0m\u001b[37m\u001b[0m \u001b[1m667s\u001b[0m 718ms/step - accuracy: 0.7074 - loss: 1.0230\n",
      "Epoch 269/500\n",
      "\u001b[1m929/929\u001b[0m \u001b[32m━━━━━━━━━━━━━━━━━━━━\u001b[0m\u001b[37m\u001b[0m \u001b[1m666s\u001b[0m 716ms/step - accuracy: 0.7041 - loss: 1.0240\n",
      "Epoch 270/500\n",
      "\u001b[1m929/929\u001b[0m \u001b[32m━━━━━━━━━━━━━━━━━━━━\u001b[0m\u001b[37m\u001b[0m \u001b[1m666s\u001b[0m 717ms/step - accuracy: 0.7131 - loss: 1.0068\n",
      "Epoch 271/500\n",
      "\u001b[1m929/929\u001b[0m \u001b[32m━━━━━━━━━━━━━━━━━━━━\u001b[0m\u001b[37m\u001b[0m \u001b[1m670s\u001b[0m 721ms/step - accuracy: 0.7020 - loss: 1.0411\n",
      "Epoch 272/500\n",
      "\u001b[1m929/929\u001b[0m \u001b[32m━━━━━━━━━━━━━━━━━━━━\u001b[0m\u001b[37m\u001b[0m \u001b[1m668s\u001b[0m 719ms/step - accuracy: 0.7048 - loss: 1.0308\n",
      "Epoch 273/500\n",
      "\u001b[1m929/929\u001b[0m \u001b[32m━━━━━━━━━━━━━━━━━━━━\u001b[0m\u001b[37m\u001b[0m \u001b[1m670s\u001b[0m 722ms/step - accuracy: 0.7137 - loss: 1.0114\n",
      "Epoch 274/500\n",
      "\u001b[1m929/929\u001b[0m \u001b[32m━━━━━━━━━━━━━━━━━━━━\u001b[0m\u001b[37m\u001b[0m \u001b[1m670s\u001b[0m 721ms/step - accuracy: 0.7081 - loss: 1.0148\n",
      "Epoch 275/500\n",
      "\u001b[1m929/929\u001b[0m \u001b[32m━━━━━━━━━━━━━━━━━━━━\u001b[0m\u001b[37m\u001b[0m \u001b[1m679s\u001b[0m 731ms/step - accuracy: 0.7081 - loss: 1.0146\n",
      "Epoch 276/500\n",
      "\u001b[1m929/929\u001b[0m \u001b[32m━━━━━━━━━━━━━━━━━━━━\u001b[0m\u001b[37m\u001b[0m \u001b[1m674s\u001b[0m 725ms/step - accuracy: 0.7029 - loss: 1.0398\n",
      "Epoch 277/500\n",
      "\u001b[1m929/929\u001b[0m \u001b[32m━━━━━━━━━━━━━━━━━━━━\u001b[0m\u001b[37m\u001b[0m \u001b[1m673s\u001b[0m 724ms/step - accuracy: 0.7072 - loss: 1.0175\n",
      "Epoch 278/500\n",
      "\u001b[1m929/929\u001b[0m \u001b[32m━━━━━━━━━━━━━━━━━━━━\u001b[0m\u001b[37m\u001b[0m \u001b[1m675s\u001b[0m 727ms/step - accuracy: 0.7071 - loss: 1.0242\n",
      "Epoch 279/500\n",
      "\u001b[1m929/929\u001b[0m \u001b[32m━━━━━━━━━━━━━━━━━━━━\u001b[0m\u001b[37m\u001b[0m \u001b[1m675s\u001b[0m 726ms/step - accuracy: 0.7121 - loss: 1.0116\n",
      "Epoch 280/500\n",
      "\u001b[1m929/929\u001b[0m \u001b[32m━━━━━━━━━━━━━━━━━━━━\u001b[0m\u001b[37m\u001b[0m \u001b[1m676s\u001b[0m 727ms/step - accuracy: 0.7053 - loss: 1.0243\n",
      "Epoch 281/500\n",
      "\u001b[1m929/929\u001b[0m \u001b[32m━━━━━━━━━━━━━━━━━━━━\u001b[0m\u001b[37m\u001b[0m \u001b[1m675s\u001b[0m 726ms/step - accuracy: 0.7067 - loss: 1.0287\n",
      "Epoch 282/500\n",
      "\u001b[1m929/929\u001b[0m \u001b[32m━━━━━━━━━━━━━━━━━━━━\u001b[0m\u001b[37m\u001b[0m \u001b[1m676s\u001b[0m 727ms/step - accuracy: 0.7069 - loss: 1.0168\n",
      "Epoch 283/500\n",
      "\u001b[1m929/929\u001b[0m \u001b[32m━━━━━━━━━━━━━━━━━━━━\u001b[0m\u001b[37m\u001b[0m \u001b[1m680s\u001b[0m 732ms/step - accuracy: 0.7144 - loss: 1.0085\n",
      "Epoch 284/500\n",
      "\u001b[1m929/929\u001b[0m \u001b[32m━━━━━━━━━━━━━━━━━━━━\u001b[0m\u001b[37m\u001b[0m \u001b[1m678s\u001b[0m 730ms/step - accuracy: 0.7124 - loss: 1.0092\n",
      "Epoch 285/500\n",
      "\u001b[1m929/929\u001b[0m \u001b[32m━━━━━━━━━━━━━━━━━━━━\u001b[0m\u001b[37m\u001b[0m \u001b[1m674s\u001b[0m 726ms/step - accuracy: 0.7054 - loss: 1.0307\n",
      "Epoch 286/500\n",
      "\u001b[1m929/929\u001b[0m \u001b[32m━━━━━━━━━━━━━━━━━━━━\u001b[0m\u001b[37m\u001b[0m \u001b[1m677s\u001b[0m 729ms/step - accuracy: 0.7049 - loss: 1.0273\n",
      "Epoch 287/500\n",
      "\u001b[1m929/929\u001b[0m \u001b[32m━━━━━━━━━━━━━━━━━━━━\u001b[0m\u001b[37m\u001b[0m \u001b[1m678s\u001b[0m 729ms/step - accuracy: 0.7164 - loss: 0.9980\n",
      "Epoch 288/500\n",
      "\u001b[1m929/929\u001b[0m \u001b[32m━━━━━━━━━━━━━━━━━━━━\u001b[0m\u001b[37m\u001b[0m \u001b[1m678s\u001b[0m 730ms/step - accuracy: 0.7055 - loss: 1.0136\n",
      "Epoch 289/500\n",
      "\u001b[1m929/929\u001b[0m \u001b[32m━━━━━━━━━━━━━━━━━━━━\u001b[0m\u001b[37m\u001b[0m \u001b[1m679s\u001b[0m 731ms/step - accuracy: 0.7086 - loss: 1.0272\n",
      "Epoch 290/500\n",
      "\u001b[1m929/929\u001b[0m \u001b[32m━━━━━━━━━━━━━━━━━━━━\u001b[0m\u001b[37m\u001b[0m \u001b[1m679s\u001b[0m 731ms/step - accuracy: 0.7094 - loss: 1.0074\n",
      "Epoch 291/500\n",
      "\u001b[1m929/929\u001b[0m \u001b[32m━━━━━━━━━━━━━━━━━━━━\u001b[0m\u001b[37m\u001b[0m \u001b[1m681s\u001b[0m 733ms/step - accuracy: 0.7095 - loss: 1.0022\n",
      "Epoch 292/500\n",
      "\u001b[1m929/929\u001b[0m \u001b[32m━━━━━━━━━━━━━━━━━━━━\u001b[0m\u001b[37m\u001b[0m \u001b[1m679s\u001b[0m 731ms/step - accuracy: 0.7125 - loss: 1.0209\n",
      "Epoch 293/500\n",
      "\u001b[1m929/929\u001b[0m \u001b[32m━━━━━━━━━━━━━━━━━━━━\u001b[0m\u001b[37m\u001b[0m \u001b[1m680s\u001b[0m 732ms/step - accuracy: 0.7097 - loss: 1.0203\n",
      "Epoch 294/500\n",
      "\u001b[1m929/929\u001b[0m \u001b[32m━━━━━━━━━━━━━━━━━━━━\u001b[0m\u001b[37m\u001b[0m \u001b[1m679s\u001b[0m 731ms/step - accuracy: 0.7042 - loss: 1.0240\n"
     ]
    },
    {
     "data": {
      "text/plain": [
       "<keras.src.callbacks.history.History at 0x241ce7cc490>"
      ]
     },
     "execution_count": 141,
     "metadata": {},
     "output_type": "execute_result"
    }
   ],
   "source": [
    "model.fit(X, y,\n",
    "          epochs=epochs,\n",
    "          verbose=1,\n",
    "          batch_size=64,\n",
    "          validation_split=0.2,\n",
    "          callbacks=[early_stopping_callback])"
   ]
  },
  {
   "cell_type": "markdown",
   "metadata": {},
   "source": [
    ">Network Architecture"
   ]
  },
  {
   "cell_type": "code",
   "execution_count": 142,
   "metadata": {},
   "outputs": [
    {
     "data": {
      "text/html": [
       "<pre style=\"white-space:pre;overflow-x:auto;line-height:normal;font-family:Menlo,'DejaVu Sans Mono',consolas,'Courier New',monospace\"><span style=\"font-weight: bold\">Model: \"sequential_5\"</span>\n",
       "</pre>\n"
      ],
      "text/plain": [
       "\u001b[1mModel: \"sequential_5\"\u001b[0m\n"
      ]
     },
     "metadata": {},
     "output_type": "display_data"
    },
    {
     "data": {
      "text/html": [
       "<pre style=\"white-space:pre;overflow-x:auto;line-height:normal;font-family:Menlo,'DejaVu Sans Mono',consolas,'Courier New',monospace\">┏━━━━━━━━━━━━━━━━━━━━━━━━━━━━━━━━━┳━━━━━━━━━━━━━━━━━━━━━━━━┳━━━━━━━━━━━━━━━┓\n",
       "┃<span style=\"font-weight: bold\"> Layer (type)                    </span>┃<span style=\"font-weight: bold\"> Output Shape           </span>┃<span style=\"font-weight: bold\">       Param # </span>┃\n",
       "┡━━━━━━━━━━━━━━━━━━━━━━━━━━━━━━━━━╇━━━━━━━━━━━━━━━━━━━━━━━━╇━━━━━━━━━━━━━━━┩\n",
       "│ embedding_layer (<span style=\"color: #0087ff; text-decoration-color: #0087ff\">Embedding</span>)     │ (<span style=\"color: #00d7ff; text-decoration-color: #00d7ff\">None</span>, <span style=\"color: #00af00; text-decoration-color: #00af00\">1351</span>, <span style=\"color: #00af00; text-decoration-color: #00af00\">100</span>)      │       <span style=\"color: #00af00; text-decoration-color: #00af00\">134,400</span> │\n",
       "├─────────────────────────────────┼────────────────────────┼───────────────┤\n",
       "│ drop_out_layer1 (<span style=\"color: #0087ff; text-decoration-color: #0087ff\">Dropout</span>)       │ (<span style=\"color: #00d7ff; text-decoration-color: #00d7ff\">None</span>, <span style=\"color: #00af00; text-decoration-color: #00af00\">1351</span>, <span style=\"color: #00af00; text-decoration-color: #00af00\">100</span>)      │             <span style=\"color: #00af00; text-decoration-color: #00af00\">0</span> │\n",
       "├─────────────────────────────────┼────────────────────────┼───────────────┤\n",
       "│ rnn_layer_1 (<span style=\"color: #0087ff; text-decoration-color: #0087ff\">SimpleRNN</span>)         │ (<span style=\"color: #00d7ff; text-decoration-color: #00d7ff\">None</span>, <span style=\"color: #00af00; text-decoration-color: #00af00\">1351</span>, <span style=\"color: #00af00; text-decoration-color: #00af00\">128</span>)      │        <span style=\"color: #00af00; text-decoration-color: #00af00\">29,312</span> │\n",
       "├─────────────────────────────────┼────────────────────────┼───────────────┤\n",
       "│ drop_out_layer2 (<span style=\"color: #0087ff; text-decoration-color: #0087ff\">Dropout</span>)       │ (<span style=\"color: #00d7ff; text-decoration-color: #00d7ff\">None</span>, <span style=\"color: #00af00; text-decoration-color: #00af00\">1351</span>, <span style=\"color: #00af00; text-decoration-color: #00af00\">128</span>)      │             <span style=\"color: #00af00; text-decoration-color: #00af00\">0</span> │\n",
       "├─────────────────────────────────┼────────────────────────┼───────────────┤\n",
       "│ rnn_layer_2 (<span style=\"color: #0087ff; text-decoration-color: #0087ff\">SimpleRNN</span>)         │ (<span style=\"color: #00d7ff; text-decoration-color: #00d7ff\">None</span>, <span style=\"color: #00af00; text-decoration-color: #00af00\">128</span>)            │        <span style=\"color: #00af00; text-decoration-color: #00af00\">32,896</span> │\n",
       "├─────────────────────────────────┼────────────────────────┼───────────────┤\n",
       "│ output_layer (<span style=\"color: #0087ff; text-decoration-color: #0087ff\">Dense</span>)            │ (<span style=\"color: #00d7ff; text-decoration-color: #00d7ff\">None</span>, <span style=\"color: #00af00; text-decoration-color: #00af00\">1344</span>)           │       <span style=\"color: #00af00; text-decoration-color: #00af00\">173,376</span> │\n",
       "└─────────────────────────────────┴────────────────────────┴───────────────┘\n",
       "</pre>\n"
      ],
      "text/plain": [
       "┏━━━━━━━━━━━━━━━━━━━━━━━━━━━━━━━━━┳━━━━━━━━━━━━━━━━━━━━━━━━┳━━━━━━━━━━━━━━━┓\n",
       "┃\u001b[1m \u001b[0m\u001b[1mLayer (type)                   \u001b[0m\u001b[1m \u001b[0m┃\u001b[1m \u001b[0m\u001b[1mOutput Shape          \u001b[0m\u001b[1m \u001b[0m┃\u001b[1m \u001b[0m\u001b[1m      Param #\u001b[0m\u001b[1m \u001b[0m┃\n",
       "┡━━━━━━━━━━━━━━━━━━━━━━━━━━━━━━━━━╇━━━━━━━━━━━━━━━━━━━━━━━━╇━━━━━━━━━━━━━━━┩\n",
       "│ embedding_layer (\u001b[38;5;33mEmbedding\u001b[0m)     │ (\u001b[38;5;45mNone\u001b[0m, \u001b[38;5;34m1351\u001b[0m, \u001b[38;5;34m100\u001b[0m)      │       \u001b[38;5;34m134,400\u001b[0m │\n",
       "├─────────────────────────────────┼────────────────────────┼───────────────┤\n",
       "│ drop_out_layer1 (\u001b[38;5;33mDropout\u001b[0m)       │ (\u001b[38;5;45mNone\u001b[0m, \u001b[38;5;34m1351\u001b[0m, \u001b[38;5;34m100\u001b[0m)      │             \u001b[38;5;34m0\u001b[0m │\n",
       "├─────────────────────────────────┼────────────────────────┼───────────────┤\n",
       "│ rnn_layer_1 (\u001b[38;5;33mSimpleRNN\u001b[0m)         │ (\u001b[38;5;45mNone\u001b[0m, \u001b[38;5;34m1351\u001b[0m, \u001b[38;5;34m128\u001b[0m)      │        \u001b[38;5;34m29,312\u001b[0m │\n",
       "├─────────────────────────────────┼────────────────────────┼───────────────┤\n",
       "│ drop_out_layer2 (\u001b[38;5;33mDropout\u001b[0m)       │ (\u001b[38;5;45mNone\u001b[0m, \u001b[38;5;34m1351\u001b[0m, \u001b[38;5;34m128\u001b[0m)      │             \u001b[38;5;34m0\u001b[0m │\n",
       "├─────────────────────────────────┼────────────────────────┼───────────────┤\n",
       "│ rnn_layer_2 (\u001b[38;5;33mSimpleRNN\u001b[0m)         │ (\u001b[38;5;45mNone\u001b[0m, \u001b[38;5;34m128\u001b[0m)            │        \u001b[38;5;34m32,896\u001b[0m │\n",
       "├─────────────────────────────────┼────────────────────────┼───────────────┤\n",
       "│ output_layer (\u001b[38;5;33mDense\u001b[0m)            │ (\u001b[38;5;45mNone\u001b[0m, \u001b[38;5;34m1344\u001b[0m)           │       \u001b[38;5;34m173,376\u001b[0m │\n",
       "└─────────────────────────────────┴────────────────────────┴───────────────┘\n"
      ]
     },
     "metadata": {},
     "output_type": "display_data"
    },
    {
     "data": {
      "text/html": [
       "<pre style=\"white-space:pre;overflow-x:auto;line-height:normal;font-family:Menlo,'DejaVu Sans Mono',consolas,'Courier New',monospace\"><span style=\"font-weight: bold\"> Total params: </span><span style=\"color: #00af00; text-decoration-color: #00af00\">1,109,954</span> (4.23 MB)\n",
       "</pre>\n"
      ],
      "text/plain": [
       "\u001b[1m Total params: \u001b[0m\u001b[38;5;34m1,109,954\u001b[0m (4.23 MB)\n"
      ]
     },
     "metadata": {},
     "output_type": "display_data"
    },
    {
     "data": {
      "text/html": [
       "<pre style=\"white-space:pre;overflow-x:auto;line-height:normal;font-family:Menlo,'DejaVu Sans Mono',consolas,'Courier New',monospace\"><span style=\"font-weight: bold\"> Trainable params: </span><span style=\"color: #00af00; text-decoration-color: #00af00\">369,984</span> (1.41 MB)\n",
       "</pre>\n"
      ],
      "text/plain": [
       "\u001b[1m Trainable params: \u001b[0m\u001b[38;5;34m369,984\u001b[0m (1.41 MB)\n"
      ]
     },
     "metadata": {},
     "output_type": "display_data"
    },
    {
     "data": {
      "text/html": [
       "<pre style=\"white-space:pre;overflow-x:auto;line-height:normal;font-family:Menlo,'DejaVu Sans Mono',consolas,'Courier New',monospace\"><span style=\"font-weight: bold\"> Non-trainable params: </span><span style=\"color: #00af00; text-decoration-color: #00af00\">0</span> (0.00 B)\n",
       "</pre>\n"
      ],
      "text/plain": [
       "\u001b[1m Non-trainable params: \u001b[0m\u001b[38;5;34m0\u001b[0m (0.00 B)\n"
      ]
     },
     "metadata": {},
     "output_type": "display_data"
    },
    {
     "data": {
      "text/html": [
       "<pre style=\"white-space:pre;overflow-x:auto;line-height:normal;font-family:Menlo,'DejaVu Sans Mono',consolas,'Courier New',monospace\"><span style=\"font-weight: bold\"> Optimizer params: </span><span style=\"color: #00af00; text-decoration-color: #00af00\">739,970</span> (2.82 MB)\n",
       "</pre>\n"
      ],
      "text/plain": [
       "\u001b[1m Optimizer params: \u001b[0m\u001b[38;5;34m739,970\u001b[0m (2.82 MB)\n"
      ]
     },
     "metadata": {},
     "output_type": "display_data"
    }
   ],
   "source": [
    "model.summary()"
   ]
  },
  {
   "cell_type": "markdown",
   "metadata": {},
   "source": [
    "> Dump file model_RNN_generate_text.h5"
   ]
  },
  {
   "cell_type": "code",
   "execution_count": 143,
   "metadata": {},
   "outputs": [
    {
     "name": "stderr",
     "output_type": "stream",
     "text": [
      "WARNING:absl:You are saving your model as an HDF5 file via `model.save()` or `keras.saving.save_model(model)`. This file format is considered legacy. We recommend using instead the native Keras format, e.g. `model.save('my_model.keras')` or `keras.saving.save_model(model, 'my_model.keras')`. \n"
     ]
    }
   ],
   "source": [
    "model.save(\"../model/model_RNN_generate_text.h5\")"
   ]
  },
  {
   "cell_type": "markdown",
   "metadata": {},
   "source": [
    "> Load model_RNN_generate_text.h5"
   ]
  },
  {
   "cell_type": "code",
   "execution_count": 144,
   "metadata": {},
   "outputs": [
    {
     "name": "stderr",
     "output_type": "stream",
     "text": [
      "WARNING:absl:Compiled the loaded model, but the compiled metrics have yet to be built. `model.compile_metrics` will be empty until you train or evaluate the model.\n"
     ]
    }
   ],
   "source": [
    "model_generate=load_model(\"../model/model_RNN_generate_text.h5\")"
   ]
  },
  {
   "cell_type": "markdown",
   "metadata": {},
   "source": [
    "> Network Architecture Diagram"
   ]
  },
  {
   "cell_type": "code",
   "execution_count": 145,
   "metadata": {},
   "outputs": [
    {
     "name": "stdout",
     "output_type": "stream",
     "text": [
      "You must install pydot (`pip install pydot`) for `plot_model` to work.\n"
     ]
    }
   ],
   "source": [
    "# Tạo đồ thị cho mô hình\n",
    "plot_model(model_generate, to_file='../picture_model/model_RNN_generate_text.png', show_shapes=True, show_layer_names=True)"
   ]
  },
  {
   "cell_type": "markdown",
   "metadata": {},
   "source": [
    "> Get the weight of the embedding layer"
   ]
  },
  {
   "cell_type": "code",
   "execution_count": 146,
   "metadata": {},
   "outputs": [
    {
     "name": "stdout",
     "output_type": "stream",
     "text": [
      "[[ 0.46711943  0.06729197]\n",
      " [-2.9613383  -0.96068925]]\n"
     ]
    }
   ],
   "source": [
    "weights = model_generate.layers[0].get_weights()[0]\n",
    "# Giảm chiều dữ liệu sử dụng t-SNE\n",
    "tsne = TSNE(n_components=2, random_state=42)\n",
    "embeddings_2d = tsne.fit_transform(weights)\n",
    "print(embeddings_2d[1:3])"
   ]
  },
  {
   "cell_type": "code",
   "execution_count": 147,
   "metadata": {},
   "outputs": [
    {
     "data": {
      "image/png": "[encoded data removed]",
      "text/plain": [
       "<Figure size 1000x1000 with 1 Axes>"
      ]
     },
     "metadata": {},
     "output_type": "display_data"
    }
   ],
   "source": [
    "# Vẽ trực quan hóa với nhãn từ\n",
    "# Màu cho mỗi từ\n",
    "colors = plt.cm.rainbow(np.linspace(0, 1, 30))\n",
    "plt.figure(figsize=(10, 10))\n",
    "for i in range(1,30):  \n",
    "    plt.scatter(embeddings_2d[i, 0], embeddings_2d[i, 1], marker='o', color=colors[i], alpha=0.6)\n",
    "    plt.annotate(df_train_corpus.index_word[i+1], (embeddings_2d[i, 0], embeddings_2d[i, 1]))\n",
    "plt.xlabel('t-SNE Dimension 1')\n",
    "plt.ylabel('t-SNE Dimension 2')\n",
    "plt.title('t-SNE Visualization of Word Embeddings')\n",
    "plt.show()\n"
   ]
  },
  {
   "cell_type": "markdown",
   "metadata": {},
   "source": [
    "### 3.5 Evaluation "
   ]
  },
  {
   "cell_type": "markdown",
   "metadata": {},
   "source": [
    "> Data Preprocessing sample"
   ]
  },
  {
   "cell_type": "code",
   "execution_count": 148,
   "metadata": {},
   "outputs": [],
   "source": [
    "def Preprocessing(sentence):\n",
    "    sentence=ViTokenizer.tokenize(sentence)\n",
    "    sentence=df_train_corpus.texts_to_sequences([sentence])\n",
    "    sentence = Padding(sentence)\n",
    "    return sentence"
   ]
  },
  {
   "cell_type": "markdown",
   "metadata": {},
   "source": [
    "> Generate 20 word"
   ]
  },
  {
   "cell_type": "code",
   "execution_count": 149,
   "metadata": {},
   "outputs": [],
   "source": [
    "next_words = 20\n",
    "seed_text=\"Trường Đại học Sư phạm Kỹ thuật TP HCM với 53 năm xây dựng và phát triển đã đào tạo\"\n",
    "y_predict=[]\n",
    "def Recommend(seed_text):\n",
    "    for _ in range(next_words):\n",
    "        token_list = Preprocessing(seed_text.lower())\n",
    "        predicted_probs = model_generate.predict(token_list)\n",
    "        predicted_word = df_train_corpus.index_word[np.argmax(predicted_probs)]\n",
    "        seed_text += \" \" + predicted_word\n",
    "        y_predict.append(predicted_word)\n",
    "    return seed_text\n"
   ]
  },
  {
   "cell_type": "markdown",
   "metadata": {},
   "source": [
    "> Recommend text"
   ]
  },
  {
   "cell_type": "code",
   "execution_count": 150,
   "metadata": {},
   "outputs": [
    {
     "name": "stdout",
     "output_type": "stream",
     "text": [
      "\u001b[1m1/1\u001b[0m \u001b[32m━━━━━━━━━━━━━━━━━━━━\u001b[0m\u001b[37m\u001b[0m \u001b[1m1s\u001b[0m 572ms/step\n",
      "\u001b[1m1/1\u001b[0m \u001b[32m━━━━━━━━━━━━━━━━━━━━\u001b[0m\u001b[37m\u001b[0m \u001b[1m0s\u001b[0m 81ms/step\n",
      "\u001b[1m1/1\u001b[0m \u001b[32m━━━━━━━━━━━━━━━━━━━━\u001b[0m\u001b[37m\u001b[0m \u001b[1m0s\u001b[0m 83ms/step\n",
      "\u001b[1m1/1\u001b[0m \u001b[32m━━━━━━━━━━━━━━━━━━━━\u001b[0m\u001b[37m\u001b[0m \u001b[1m0s\u001b[0m 78ms/step\n",
      "\u001b[1m1/1\u001b[0m \u001b[32m━━━━━━━━━━━━━━━━━━━━\u001b[0m\u001b[37m\u001b[0m \u001b[1m0s\u001b[0m 76ms/step\n",
      "\u001b[1m1/1\u001b[0m \u001b[32m━━━━━━━━━━━━━━━━━━━━\u001b[0m\u001b[37m\u001b[0m \u001b[1m0s\u001b[0m 79ms/step\n",
      "\u001b[1m1/1\u001b[0m \u001b[32m━━━━━━━━━━━━━━━━━━━━\u001b[0m\u001b[37m\u001b[0m \u001b[1m0s\u001b[0m 82ms/step\n",
      "\u001b[1m1/1\u001b[0m \u001b[32m━━━━━━━━━━━━━━━━━━━━\u001b[0m\u001b[37m\u001b[0m \u001b[1m0s\u001b[0m 86ms/step\n",
      "\u001b[1m1/1\u001b[0m \u001b[32m━━━━━━━━━━━━━━━━━━━━\u001b[0m\u001b[37m\u001b[0m \u001b[1m0s\u001b[0m 84ms/step\n",
      "\u001b[1m1/1\u001b[0m \u001b[32m━━━━━━━━━━━━━━━━━━━━\u001b[0m\u001b[37m\u001b[0m \u001b[1m0s\u001b[0m 83ms/step\n",
      "\u001b[1m1/1\u001b[0m \u001b[32m━━━━━━━━━━━━━━━━━━━━\u001b[0m\u001b[37m\u001b[0m \u001b[1m0s\u001b[0m 83ms/step\n",
      "\u001b[1m1/1\u001b[0m \u001b[32m━━━━━━━━━━━━━━━━━━━━\u001b[0m\u001b[37m\u001b[0m \u001b[1m0s\u001b[0m 81ms/step\n",
      "\u001b[1m1/1\u001b[0m \u001b[32m━━━━━━━━━━━━━━━━━━━━\u001b[0m\u001b[37m\u001b[0m \u001b[1m0s\u001b[0m 84ms/step\n",
      "\u001b[1m1/1\u001b[0m \u001b[32m━━━━━━━━━━━━━━━━━━━━\u001b[0m\u001b[37m\u001b[0m \u001b[1m0s\u001b[0m 84ms/step\n",
      "\u001b[1m1/1\u001b[0m \u001b[32m━━━━━━━━━━━━━━━━━━━━\u001b[0m\u001b[37m\u001b[0m \u001b[1m0s\u001b[0m 83ms/step\n",
      "\u001b[1m1/1\u001b[0m \u001b[32m━━━━━━━━━━━━━━━━━━━━\u001b[0m\u001b[37m\u001b[0m \u001b[1m0s\u001b[0m 86ms/step\n",
      "\u001b[1m1/1\u001b[0m \u001b[32m━━━━━━━━━━━━━━━━━━━━\u001b[0m\u001b[37m\u001b[0m \u001b[1m0s\u001b[0m 84ms/step\n",
      "\u001b[1m1/1\u001b[0m \u001b[32m━━━━━━━━━━━━━━━━━━━━\u001b[0m\u001b[37m\u001b[0m \u001b[1m0s\u001b[0m 93ms/step\n",
      "\u001b[1m1/1\u001b[0m \u001b[32m━━━━━━━━━━━━━━━━━━━━\u001b[0m\u001b[37m\u001b[0m \u001b[1m0s\u001b[0m 92ms/step\n",
      "\u001b[1m1/1\u001b[0m \u001b[32m━━━━━━━━━━━━━━━━━━━━\u001b[0m\u001b[37m\u001b[0m \u001b[1m0s\u001b[0m 90ms/step\n",
      "Trường Đại học Sư phạm Kỹ thuật TP HCM với 53 năm xây dựng và phát triển đã đào tạo giáo_dục xác_định_giá đất khi xây_dựng theo quy_định của pháp_luật về bảo_vệ môi_trường và quy_định khác của pháp_luật có liên_quan 8\n",
      "['giáo_dục', 'xác_định_giá', 'đất', 'khi', 'xây_dựng', 'theo', 'quy_định', 'của', 'pháp_luật', 'về', 'bảo_vệ', 'môi_trường', 'và', 'quy_định', 'khác', 'của', 'pháp_luật', 'có', 'liên_quan', '8']\n"
     ]
    }
   ],
   "source": [
    "y_result=Recommend(seed_text)\n",
    "print(y_result)\n",
    "print(y_predict)"
   ]
  },
  {
   "cell_type": "markdown",
   "metadata": {},
   "source": [
    "#### 3.5 Evaluating "
   ]
  },
  {
   "cell_type": "code",
   "execution_count": 151,
   "metadata": {},
   "outputs": [],
   "source": [
    "# y_true = [\"came\",\"to\",\"Vietnam\",\"to\",\"find\",\"a\",\"reliable\",\"partner\", \"to\",\"receive\"]\n",
    "# accuracy = accuracy_score(y_true, y_predict)\n",
    "# print(f'Accuracy: {accuracy:.4f}')\n",
    "\n",
    "# precision = precision_score(y_true, y_predict, average='weighted')\n",
    "# print(f\"Precision: {precision:.4f}\")\n",
    "\n",
    "# recall = recall_score(y_true, y_predict, average='weighted')\n",
    "# print(f\"Recall: {recall:.4f}\")\n",
    "\n",
    "# f1score = f1_score(y_true, y_predict, average='weighted')\n",
    "# print(f\"F1-score: {f1score}\")"
   ]
  }
 ],
 "metadata": {
  "kernelspec": {
   "display_name": "machinelearning-lTTH8rYd",
   "language": "python",
   "name": "python3"
  },
  "language_info": {
   "codemirror_mode": {
    "name": "ipython",
    "version": 3
   },
   "file_extension": ".py",
   "mimetype": "text/x-python",
   "name": "python",
   "nbconvert_exporter": "python",
   "pygments_lexer": "ipython3",
   "version": "3.11.5"
  }
 },
 "nbformat": 4,
 "nbformat_minor": 2
}
