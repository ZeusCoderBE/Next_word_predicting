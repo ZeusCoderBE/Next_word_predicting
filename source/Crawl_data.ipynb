{
 "cells": [
  {
   "cell_type": "markdown",
   "metadata": {},
   "source": [
    "## 1.import library"
   ]
  },
  {
   "cell_type": "code",
   "execution_count": 136,
   "metadata": {},
   "outputs": [],
   "source": [
    "import requests\n",
    "from bs4 import BeautifulSoup\n",
    "import pandas as pd\n",
    "import re"
   ]
  },
  {
   "cell_type": "markdown",
   "metadata": {},
   "source": [
    "## 2.Craw Data"
   ]
  },
  {
   "cell_type": "code",
   "execution_count": 137,
   "metadata": {},
   "outputs": [],
   "source": [
    "# URL của trang web cần cào dữ liệu\n",
    "url = \"https://thuvienphapluat.vn/van-ban/Bat-dong-san/Luat-Dat-dai-2024-31-2024-QH15-523642.aspx\"\n",
    "# Gửi yêu cầu GET đến trang web\n",
    "response = requests.get(url)\n",
    "soup = BeautifulSoup(response.text, \"html.parser\")"
   ]
  },
  {
   "cell_type": "code",
   "execution_count": 138,
   "metadata": {},
   "outputs": [],
   "source": [
    "\n",
    "# Find all <a> elements with the attribute name starting with 'dieu_'\n",
    "regulation_elements = soup.find_all('a', {'name': lambda x: x and x.startswith('dieu_')})\n",
    "    \n",
    "    # Create a list to store pairs of regulation titles and contents\n",
    "data = []\n",
    "    \n",
    "    # Iterate over all regulation elements\n",
    "for element in regulation_elements:\n",
    "        # Extract the regulation title\n",
    "        regulation_title = element.text.strip()\n",
    "        \n",
    "        # Find the parent element of the regulation element\n",
    "        parent_element = element.find_parent()\n",
    "        \n",
    "        # Extract all the sibling elements until the next regulation title is encountered\n",
    "        regulation_content = \"\"\n",
    "        next_sibling = parent_element.find_next_sibling()\n",
    "        while next_sibling and not next_sibling.find_all('a', {'name': lambda x: x and x.startswith('dieu_')}):\n",
    "            regulation_content += str(next_sibling).strip() + \"\\n\"\n",
    "            next_sibling = next_sibling.find_next_sibling()\n",
    "        \n",
    "        # Remove HTML tags from the content\n",
    "        regulation_content = re.sub('<[^<]+?>', '', regulation_content)\n",
    "        \n",
    "        # Append the pair of regulation title and content to the data list\n",
    "        data.append((regulation_title, regulation_content.strip()))\n",
    "    \n",
    "    # Create a DataFrame with the extracted data\n",
    "df = pd.DataFrame(data, columns=['Regulation Title', 'Regulation Content'])"
   ]
  },
  {
   "cell_type": "code",
   "execution_count": 139,
   "metadata": {},
   "outputs": [],
   "source": [
    "df.to_csv('../data/land_law.csv', index=True)\n"
   ]
  },
  {
   "cell_type": "code",
   "execution_count": 140,
   "metadata": {},
   "outputs": [
    {
     "name": "stdout",
     "output_type": "stream",
     "text": [
      "                    Regulation Title  \\\n",
      "0      Điều 1. Phạm\\r\\nvi điều chỉnh   \n",
      "1       Điều 2. Đối\\r\\ntượng áp dụng   \n",
      "2       Điều 3. Giải\\r\\nthích từ ngữ   \n",
      "3       Điều 4. Người\\r\\nsử dụng đất   \n",
      "4  Điều 5.\\r\\nNguyên tắc sử dụng đất   \n",
      "\n",
      "                                  Regulation Content  \n",
      "0  Luật này quy định về chế độ sở hữu\\r\\nđất đai,...  \n",
      "1  1. Cơ quan nhà nước thực hiện\\r\\nquyền hạn và ...  \n",
      "2  Trong Luật này, các từ ngữ dưới\\r\\nđây được hi...  \n",
      "3  Người sử dụng đất được Nhà nước\\r\\ngiao đất, c...  \n",
      "4  1. Đúng mục đích sử dụng đất. \\n2. Bền vững, t...  \n"
     ]
    }
   ],
   "source": [
    "print(df.head(5))"
   ]
  }
 ],
 "metadata": {
  "kernelspec": {
   "display_name": "DM-xmUrTfoX",
   "language": "python",
   "name": "python3"
  },
  "language_info": {
   "codemirror_mode": {
    "name": "ipython",
    "version": 3
   },
   "file_extension": ".py",
   "mimetype": "text/x-python",
   "name": "python",
   "nbconvert_exporter": "python",
   "pygments_lexer": "ipython3",
   "version": "3.11.5"
  }
 },
 "nbformat": 4,
 "nbformat_minor": 2
}
